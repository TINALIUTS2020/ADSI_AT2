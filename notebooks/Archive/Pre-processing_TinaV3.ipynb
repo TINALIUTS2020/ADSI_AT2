{
 "cells": [
  {
   "attachments": {},
   "cell_type": "markdown",
   "metadata": {},
   "source": [
    "This is preprocessing with custom functions"
   ]
  },
  {
   "cell_type": "code",
   "execution_count": 1,
   "metadata": {},
   "outputs": [],
   "source": [
    "%load_ext autoreload\n",
    "%autoreload 2"
   ]
  },
  {
   "cell_type": "code",
   "execution_count": 2,
   "metadata": {},
   "outputs": [
    {
     "name": "stdout",
     "output_type": "stream",
     "text": [
      "Current workpath: /home/tina4aiml/dev/notebooks\n",
      "Parent_folder: /home/tina4aiml/dev\n",
      "/home/tina4aiml/dev/src\n"
     ]
    }
   ],
   "source": [
    "# for Tina machine only, to import .py from src/ds/\n",
    "import os\n",
    "current_workpath = os.getcwd()\n",
    "print(\"Current workpath:\", current_workpath)\n",
    "\n",
    "parent_folder = os.path.dirname(current_workpath)\n",
    "print(\"Parent_folder:\", parent_folder)\n",
    "\n",
    "import sys\n",
    "sys.path.append(parent_folder+'/src')\n",
    "print(sys.path[-1])"
   ]
  },
  {
   "cell_type": "code",
   "execution_count": 3,
   "metadata": {},
   "outputs": [],
   "source": [
    "rawfile_name = 'beer_reviews'\n",
    "rawfile_format = '.csv'\n",
    "rawfile_path = \"../data/raw/\"\n",
    "datadict_path = \"../references/Data_Dict.csv\"\n",
    "\n",
    "interim_folder_path = \"../data/interim/\"\n",
    "processed_folder_path  =\"../data/processed/\"\n",
    "model_folder_path = \"../models/\""
   ]
  },
  {
   "cell_type": "code",
   "execution_count": 4,
   "metadata": {},
   "outputs": [],
   "source": [
    "import pandas as pd\n",
    "import numpy as np"
   ]
  },
  {
   "cell_type": "code",
   "execution_count": 5,
   "metadata": {},
   "outputs": [
    {
     "data": {
      "text/html": [
       "<div>\n",
       "<style scoped>\n",
       "    .dataframe tbody tr th:only-of-type {\n",
       "        vertical-align: middle;\n",
       "    }\n",
       "\n",
       "    .dataframe tbody tr th {\n",
       "        vertical-align: top;\n",
       "    }\n",
       "\n",
       "    .dataframe thead th {\n",
       "        text-align: right;\n",
       "    }\n",
       "</style>\n",
       "<table border=\"1\" class=\"dataframe\">\n",
       "  <thead>\n",
       "    <tr style=\"text-align: right;\">\n",
       "      <th></th>\n",
       "      <th>brewery_id</th>\n",
       "      <th>brewery_name</th>\n",
       "      <th>review_time</th>\n",
       "      <th>review_overall</th>\n",
       "      <th>review_aroma</th>\n",
       "      <th>review_appearance</th>\n",
       "      <th>review_profilename</th>\n",
       "      <th>beer_style</th>\n",
       "      <th>review_palate</th>\n",
       "      <th>review_taste</th>\n",
       "      <th>beer_name</th>\n",
       "      <th>beer_abv</th>\n",
       "      <th>beer_beerid</th>\n",
       "    </tr>\n",
       "  </thead>\n",
       "  <tbody>\n",
       "    <tr>\n",
       "      <th>0</th>\n",
       "      <td>10325</td>\n",
       "      <td>Vecchio Birraio</td>\n",
       "      <td>1234817823</td>\n",
       "      <td>1.5</td>\n",
       "      <td>2.0</td>\n",
       "      <td>2.5</td>\n",
       "      <td>stcules</td>\n",
       "      <td>Hefeweizen</td>\n",
       "      <td>1.5</td>\n",
       "      <td>1.5</td>\n",
       "      <td>Sausa Weizen</td>\n",
       "      <td>5.0</td>\n",
       "      <td>47986</td>\n",
       "    </tr>\n",
       "    <tr>\n",
       "      <th>1</th>\n",
       "      <td>10325</td>\n",
       "      <td>Vecchio Birraio</td>\n",
       "      <td>1235915097</td>\n",
       "      <td>3.0</td>\n",
       "      <td>2.5</td>\n",
       "      <td>3.0</td>\n",
       "      <td>stcules</td>\n",
       "      <td>English Strong Ale</td>\n",
       "      <td>3.0</td>\n",
       "      <td>3.0</td>\n",
       "      <td>Red Moon</td>\n",
       "      <td>6.2</td>\n",
       "      <td>48213</td>\n",
       "    </tr>\n",
       "    <tr>\n",
       "      <th>2</th>\n",
       "      <td>10325</td>\n",
       "      <td>Vecchio Birraio</td>\n",
       "      <td>1235916604</td>\n",
       "      <td>3.0</td>\n",
       "      <td>2.5</td>\n",
       "      <td>3.0</td>\n",
       "      <td>stcules</td>\n",
       "      <td>Foreign / Export Stout</td>\n",
       "      <td>3.0</td>\n",
       "      <td>3.0</td>\n",
       "      <td>Black Horse Black Beer</td>\n",
       "      <td>6.5</td>\n",
       "      <td>48215</td>\n",
       "    </tr>\n",
       "    <tr>\n",
       "      <th>3</th>\n",
       "      <td>10325</td>\n",
       "      <td>Vecchio Birraio</td>\n",
       "      <td>1234725145</td>\n",
       "      <td>3.0</td>\n",
       "      <td>3.0</td>\n",
       "      <td>3.5</td>\n",
       "      <td>stcules</td>\n",
       "      <td>German Pilsener</td>\n",
       "      <td>2.5</td>\n",
       "      <td>3.0</td>\n",
       "      <td>Sausa Pils</td>\n",
       "      <td>5.0</td>\n",
       "      <td>47969</td>\n",
       "    </tr>\n",
       "    <tr>\n",
       "      <th>4</th>\n",
       "      <td>1075</td>\n",
       "      <td>Caldera Brewing Company</td>\n",
       "      <td>1293735206</td>\n",
       "      <td>4.0</td>\n",
       "      <td>4.5</td>\n",
       "      <td>4.0</td>\n",
       "      <td>johnmichaelsen</td>\n",
       "      <td>American Double / Imperial IPA</td>\n",
       "      <td>4.0</td>\n",
       "      <td>4.5</td>\n",
       "      <td>Cauldron DIPA</td>\n",
       "      <td>7.7</td>\n",
       "      <td>64883</td>\n",
       "    </tr>\n",
       "  </tbody>\n",
       "</table>\n",
       "</div>"
      ],
      "text/plain": [
       "   brewery_id             brewery_name  review_time  review_overall  \\\n",
       "0       10325          Vecchio Birraio   1234817823             1.5   \n",
       "1       10325          Vecchio Birraio   1235915097             3.0   \n",
       "2       10325          Vecchio Birraio   1235916604             3.0   \n",
       "3       10325          Vecchio Birraio   1234725145             3.0   \n",
       "4        1075  Caldera Brewing Company   1293735206             4.0   \n",
       "\n",
       "   review_aroma  review_appearance review_profilename  \\\n",
       "0           2.0                2.5            stcules   \n",
       "1           2.5                3.0            stcules   \n",
       "2           2.5                3.0            stcules   \n",
       "3           3.0                3.5            stcules   \n",
       "4           4.5                4.0     johnmichaelsen   \n",
       "\n",
       "                       beer_style  review_palate  review_taste  \\\n",
       "0                      Hefeweizen            1.5           1.5   \n",
       "1              English Strong Ale            3.0           3.0   \n",
       "2          Foreign / Export Stout            3.0           3.0   \n",
       "3                 German Pilsener            2.5           3.0   \n",
       "4  American Double / Imperial IPA            4.0           4.5   \n",
       "\n",
       "                beer_name  beer_abv  beer_beerid  \n",
       "0            Sausa Weizen       5.0        47986  \n",
       "1                Red Moon       6.2        48213  \n",
       "2  Black Horse Black Beer       6.5        48215  \n",
       "3              Sausa Pils       5.0        47969  \n",
       "4           Cauldron DIPA       7.7        64883  "
      ]
     },
     "execution_count": 5,
     "metadata": {},
     "output_type": "execute_result"
    }
   ],
   "source": [
    "df_raw = pd.read_csv(rawfile_path + rawfile_name + rawfile_format)\n",
    "df_raw.head()"
   ]
  },
  {
   "cell_type": "code",
   "execution_count": 6,
   "metadata": {},
   "outputs": [],
   "source": [
    "data_dict = pd.read_csv(datadict_path)\n",
    "features_drop = data_dict.loc[data_dict['API Expected Parameter'] == 'No', 'Column'].tolist()\n",
    "features_drop.remove('beer_style (target)')"
   ]
  },
  {
   "cell_type": "code",
   "execution_count": 7,
   "metadata": {},
   "outputs": [],
   "source": [
    "df_prep = df_raw.drop(features_drop, axis=1)"
   ]
  },
  {
   "cell_type": "code",
   "execution_count": 8,
   "metadata": {},
   "outputs": [],
   "source": [
    "from ds.data.sets import pop_target"
   ]
  },
  {
   "cell_type": "code",
   "execution_count": 9,
   "metadata": {},
   "outputs": [],
   "source": [
    "df, target = pop_target(df_prep, 'beer_style', to_numpy=False)\n",
    "np.save(processed_folder_path + 'beer_style', target.unique())"
   ]
  },
  {
   "cell_type": "code",
   "execution_count": 10,
   "metadata": {},
   "outputs": [
    {
     "data": {
      "text/html": [
       "<div>\n",
       "<style scoped>\n",
       "    .dataframe tbody tr th:only-of-type {\n",
       "        vertical-align: middle;\n",
       "    }\n",
       "\n",
       "    .dataframe tbody tr th {\n",
       "        vertical-align: top;\n",
       "    }\n",
       "\n",
       "    .dataframe thead th {\n",
       "        text-align: right;\n",
       "    }\n",
       "</style>\n",
       "<table border=\"1\" class=\"dataframe\">\n",
       "  <thead>\n",
       "    <tr style=\"text-align: right;\">\n",
       "      <th></th>\n",
       "      <th>brewery_name</th>\n",
       "      <th>review_aroma</th>\n",
       "      <th>review_appearance</th>\n",
       "      <th>review_palate</th>\n",
       "      <th>review_taste</th>\n",
       "      <th>beer_abv</th>\n",
       "    </tr>\n",
       "  </thead>\n",
       "  <tbody>\n",
       "    <tr>\n",
       "      <th>0</th>\n",
       "      <td>Vecchio Birraio</td>\n",
       "      <td>2.0</td>\n",
       "      <td>2.5</td>\n",
       "      <td>1.5</td>\n",
       "      <td>1.5</td>\n",
       "      <td>5.0</td>\n",
       "    </tr>\n",
       "    <tr>\n",
       "      <th>1</th>\n",
       "      <td>Vecchio Birraio</td>\n",
       "      <td>2.5</td>\n",
       "      <td>3.0</td>\n",
       "      <td>3.0</td>\n",
       "      <td>3.0</td>\n",
       "      <td>6.2</td>\n",
       "    </tr>\n",
       "    <tr>\n",
       "      <th>2</th>\n",
       "      <td>Vecchio Birraio</td>\n",
       "      <td>2.5</td>\n",
       "      <td>3.0</td>\n",
       "      <td>3.0</td>\n",
       "      <td>3.0</td>\n",
       "      <td>6.5</td>\n",
       "    </tr>\n",
       "    <tr>\n",
       "      <th>3</th>\n",
       "      <td>Vecchio Birraio</td>\n",
       "      <td>3.0</td>\n",
       "      <td>3.5</td>\n",
       "      <td>2.5</td>\n",
       "      <td>3.0</td>\n",
       "      <td>5.0</td>\n",
       "    </tr>\n",
       "    <tr>\n",
       "      <th>4</th>\n",
       "      <td>Caldera Brewing Company</td>\n",
       "      <td>4.5</td>\n",
       "      <td>4.0</td>\n",
       "      <td>4.0</td>\n",
       "      <td>4.5</td>\n",
       "      <td>7.7</td>\n",
       "    </tr>\n",
       "  </tbody>\n",
       "</table>\n",
       "</div>"
      ],
      "text/plain": [
       "              brewery_name  review_aroma  review_appearance  review_palate  \\\n",
       "0          Vecchio Birraio           2.0                2.5            1.5   \n",
       "1          Vecchio Birraio           2.5                3.0            3.0   \n",
       "2          Vecchio Birraio           2.5                3.0            3.0   \n",
       "3          Vecchio Birraio           3.0                3.5            2.5   \n",
       "4  Caldera Brewing Company           4.5                4.0            4.0   \n",
       "\n",
       "   review_taste  beer_abv  \n",
       "0           1.5       5.0  \n",
       "1           3.0       6.2  \n",
       "2           3.0       6.5  \n",
       "3           3.0       5.0  \n",
       "4           4.5       7.7  "
      ]
     },
     "execution_count": 10,
     "metadata": {},
     "output_type": "execute_result"
    }
   ],
   "source": [
    "df.head()"
   ]
  },
  {
   "cell_type": "code",
   "execution_count": 11,
   "metadata": {},
   "outputs": [
    {
     "data": {
      "text/plain": [
       "0                        Hefeweizen\n",
       "1                English Strong Ale\n",
       "2            Foreign / Export Stout\n",
       "3                   German Pilsener\n",
       "4    American Double / Imperial IPA\n",
       "Name: beer_style, dtype: object"
      ]
     },
     "execution_count": 11,
     "metadata": {},
     "output_type": "execute_result"
    }
   ],
   "source": [
    "target.head()"
   ]
  },
  {
   "cell_type": "code",
   "execution_count": 12,
   "metadata": {},
   "outputs": [],
   "source": [
    "df_features = df.columns.tolist()\n",
    "np.save(processed_folder_path + 'features_label', df_features)\n",
    "np.save(processed_folder_path + 'brewery_name', df['brewery_name'].unique())"
   ]
  },
  {
   "attachments": {},
   "cell_type": "markdown",
   "metadata": {},
   "source": [
    "# Preprocess x_df"
   ]
  },
  {
   "cell_type": "code",
   "execution_count": 13,
   "metadata": {},
   "outputs": [],
   "source": [
    "from ds.data.sets import DataProcessor"
   ]
  },
  {
   "cell_type": "code",
   "execution_count": 14,
   "metadata": {},
   "outputs": [],
   "source": [
    "from sklearn.preprocessing import StandardScaler\n",
    "#from sklearn.impute import KNNImputer\n",
    "from sklearn.impute import SimpleImputer\n"
   ]
  },
  {
   "cell_type": "code",
   "execution_count": 15,
   "metadata": {},
   "outputs": [],
   "source": [
    "imputer = SimpleImputer(strategy=\"mean\")\n",
    "scaler = StandardScaler()\n",
    "# knn_imputer_numeric = KNNImputer(n_neighbors = 10)  "
   ]
  },
  {
   "cell_type": "code",
   "execution_count": 16,
   "metadata": {},
   "outputs": [],
   "source": [
    "#scaler and knn_imputer_numeric will save under '../models/'\n",
    "data_processor = DataProcessor(scaler, imputer)"
   ]
  },
  {
   "cell_type": "code",
   "execution_count": 17,
   "metadata": {},
   "outputs": [
    {
     "name": "stdout",
     "output_type": "stream",
     "text": [
      "hashing\n",
      "imputing\n",
      "scaling\n",
      "concat\n",
      "array\n",
      "saving\n"
     ]
    }
   ],
   "source": [
    "X_proceesed = data_processor.process_dataframe(df,  dest = \"../data/interim/\", hashbuckets = 1000)"
   ]
  },
  {
   "cell_type": "code",
   "execution_count": 18,
   "metadata": {},
   "outputs": [],
   "source": [
    "# contains 12 columns, 6 orginal columns and 6 pre-process columns\n",
    "df_processed = pd.DataFrame(X_proceesed[1])"
   ]
  },
  {
   "cell_type": "code",
   "execution_count": 19,
   "metadata": {},
   "outputs": [
    {
     "data": {
      "text/html": [
       "<div>\n",
       "<style scoped>\n",
       "    .dataframe tbody tr th:only-of-type {\n",
       "        vertical-align: middle;\n",
       "    }\n",
       "\n",
       "    .dataframe tbody tr th {\n",
       "        vertical-align: top;\n",
       "    }\n",
       "\n",
       "    .dataframe thead th {\n",
       "        text-align: right;\n",
       "    }\n",
       "</style>\n",
       "<table border=\"1\" class=\"dataframe\">\n",
       "  <thead>\n",
       "    <tr style=\"text-align: right;\">\n",
       "      <th></th>\n",
       "      <th>0</th>\n",
       "      <th>1</th>\n",
       "      <th>2</th>\n",
       "      <th>3</th>\n",
       "      <th>4</th>\n",
       "      <th>5</th>\n",
       "    </tr>\n",
       "  </thead>\n",
       "  <tbody>\n",
       "    <tr>\n",
       "      <th>0</th>\n",
       "      <td>286.0</td>\n",
       "      <td>-2.487952</td>\n",
       "      <td>-2.177663</td>\n",
       "      <td>-3.288833</td>\n",
       "      <td>-3.132454</td>\n",
       "      <td>-0.898791</td>\n",
       "    </tr>\n",
       "    <tr>\n",
       "      <th>1</th>\n",
       "      <td>286.0</td>\n",
       "      <td>-1.771225</td>\n",
       "      <td>-1.366096</td>\n",
       "      <td>-1.090123</td>\n",
       "      <td>-1.083188</td>\n",
       "      <td>-0.370708</td>\n",
       "    </tr>\n",
       "    <tr>\n",
       "      <th>2</th>\n",
       "      <td>286.0</td>\n",
       "      <td>-1.771225</td>\n",
       "      <td>-1.366096</td>\n",
       "      <td>-1.090123</td>\n",
       "      <td>-1.083188</td>\n",
       "      <td>-0.238688</td>\n",
       "    </tr>\n",
       "    <tr>\n",
       "      <th>3</th>\n",
       "      <td>286.0</td>\n",
       "      <td>-1.054499</td>\n",
       "      <td>-0.554530</td>\n",
       "      <td>-1.823026</td>\n",
       "      <td>-1.083188</td>\n",
       "      <td>-0.898791</td>\n",
       "    </tr>\n",
       "    <tr>\n",
       "      <th>4</th>\n",
       "      <td>95.0</td>\n",
       "      <td>1.095679</td>\n",
       "      <td>0.257037</td>\n",
       "      <td>0.375684</td>\n",
       "      <td>0.966078</td>\n",
       "      <td>0.289395</td>\n",
       "    </tr>\n",
       "    <tr>\n",
       "      <th>...</th>\n",
       "      <td>...</td>\n",
       "      <td>...</td>\n",
       "      <td>...</td>\n",
       "      <td>...</td>\n",
       "      <td>...</td>\n",
       "      <td>...</td>\n",
       "    </tr>\n",
       "    <tr>\n",
       "      <th>1586609</th>\n",
       "      <td>752.0</td>\n",
       "      <td>0.378953</td>\n",
       "      <td>-0.554530</td>\n",
       "      <td>0.375684</td>\n",
       "      <td>0.282989</td>\n",
       "      <td>-0.810777</td>\n",
       "    </tr>\n",
       "    <tr>\n",
       "      <th>1586610</th>\n",
       "      <td>752.0</td>\n",
       "      <td>1.812405</td>\n",
       "      <td>-2.177663</td>\n",
       "      <td>-2.555929</td>\n",
       "      <td>0.282989</td>\n",
       "      <td>-0.810777</td>\n",
       "    </tr>\n",
       "    <tr>\n",
       "      <th>1586611</th>\n",
       "      <td>752.0</td>\n",
       "      <td>-0.337773</td>\n",
       "      <td>-1.366096</td>\n",
       "      <td>-0.357219</td>\n",
       "      <td>0.282989</td>\n",
       "      <td>-0.810777</td>\n",
       "    </tr>\n",
       "    <tr>\n",
       "      <th>1586612</th>\n",
       "      <td>752.0</td>\n",
       "      <td>1.095679</td>\n",
       "      <td>1.068603</td>\n",
       "      <td>1.108588</td>\n",
       "      <td>0.966078</td>\n",
       "      <td>-0.810777</td>\n",
       "    </tr>\n",
       "    <tr>\n",
       "      <th>1586613</th>\n",
       "      <td>752.0</td>\n",
       "      <td>1.095679</td>\n",
       "      <td>1.068603</td>\n",
       "      <td>1.108588</td>\n",
       "      <td>0.966078</td>\n",
       "      <td>-0.810777</td>\n",
       "    </tr>\n",
       "  </tbody>\n",
       "</table>\n",
       "<p>1586614 rows × 6 columns</p>\n",
       "</div>"
      ],
      "text/plain": [
       "             0         1         2         3         4         5\n",
       "0        286.0 -2.487952 -2.177663 -3.288833 -3.132454 -0.898791\n",
       "1        286.0 -1.771225 -1.366096 -1.090123 -1.083188 -0.370708\n",
       "2        286.0 -1.771225 -1.366096 -1.090123 -1.083188 -0.238688\n",
       "3        286.0 -1.054499 -0.554530 -1.823026 -1.083188 -0.898791\n",
       "4         95.0  1.095679  0.257037  0.375684  0.966078  0.289395\n",
       "...        ...       ...       ...       ...       ...       ...\n",
       "1586609  752.0  0.378953 -0.554530  0.375684  0.282989 -0.810777\n",
       "1586610  752.0  1.812405 -2.177663 -2.555929  0.282989 -0.810777\n",
       "1586611  752.0 -0.337773 -1.366096 -0.357219  0.282989 -0.810777\n",
       "1586612  752.0  1.095679  1.068603  1.108588  0.966078 -0.810777\n",
       "1586613  752.0  1.095679  1.068603  1.108588  0.966078 -0.810777\n",
       "\n",
       "[1586614 rows x 6 columns]"
      ]
     },
     "execution_count": 19,
     "metadata": {},
     "output_type": "execute_result"
    }
   ],
   "source": [
    "df_processed "
   ]
  },
  {
   "cell_type": "code",
   "execution_count": 20,
   "metadata": {},
   "outputs": [],
   "source": [
    "df_features\n",
    "df_processed.columns = df_features"
   ]
  },
  {
   "cell_type": "code",
   "execution_count": 21,
   "metadata": {},
   "outputs": [
    {
     "data": {
      "text/html": [
       "<div>\n",
       "<style scoped>\n",
       "    .dataframe tbody tr th:only-of-type {\n",
       "        vertical-align: middle;\n",
       "    }\n",
       "\n",
       "    .dataframe tbody tr th {\n",
       "        vertical-align: top;\n",
       "    }\n",
       "\n",
       "    .dataframe thead th {\n",
       "        text-align: right;\n",
       "    }\n",
       "</style>\n",
       "<table border=\"1\" class=\"dataframe\">\n",
       "  <thead>\n",
       "    <tr style=\"text-align: right;\">\n",
       "      <th></th>\n",
       "      <th>brewery_name</th>\n",
       "      <th>review_aroma</th>\n",
       "      <th>review_appearance</th>\n",
       "      <th>review_palate</th>\n",
       "      <th>review_taste</th>\n",
       "      <th>beer_abv</th>\n",
       "    </tr>\n",
       "  </thead>\n",
       "  <tbody>\n",
       "    <tr>\n",
       "      <th>0</th>\n",
       "      <td>286.0</td>\n",
       "      <td>-2.487952</td>\n",
       "      <td>-2.177663</td>\n",
       "      <td>-3.288833</td>\n",
       "      <td>-3.132454</td>\n",
       "      <td>-0.898791</td>\n",
       "    </tr>\n",
       "    <tr>\n",
       "      <th>1</th>\n",
       "      <td>286.0</td>\n",
       "      <td>-1.771225</td>\n",
       "      <td>-1.366096</td>\n",
       "      <td>-1.090123</td>\n",
       "      <td>-1.083188</td>\n",
       "      <td>-0.370708</td>\n",
       "    </tr>\n",
       "    <tr>\n",
       "      <th>2</th>\n",
       "      <td>286.0</td>\n",
       "      <td>-1.771225</td>\n",
       "      <td>-1.366096</td>\n",
       "      <td>-1.090123</td>\n",
       "      <td>-1.083188</td>\n",
       "      <td>-0.238688</td>\n",
       "    </tr>\n",
       "    <tr>\n",
       "      <th>3</th>\n",
       "      <td>286.0</td>\n",
       "      <td>-1.054499</td>\n",
       "      <td>-0.554530</td>\n",
       "      <td>-1.823026</td>\n",
       "      <td>-1.083188</td>\n",
       "      <td>-0.898791</td>\n",
       "    </tr>\n",
       "    <tr>\n",
       "      <th>4</th>\n",
       "      <td>95.0</td>\n",
       "      <td>1.095679</td>\n",
       "      <td>0.257037</td>\n",
       "      <td>0.375684</td>\n",
       "      <td>0.966078</td>\n",
       "      <td>0.289395</td>\n",
       "    </tr>\n",
       "    <tr>\n",
       "      <th>...</th>\n",
       "      <td>...</td>\n",
       "      <td>...</td>\n",
       "      <td>...</td>\n",
       "      <td>...</td>\n",
       "      <td>...</td>\n",
       "      <td>...</td>\n",
       "    </tr>\n",
       "    <tr>\n",
       "      <th>1586609</th>\n",
       "      <td>752.0</td>\n",
       "      <td>0.378953</td>\n",
       "      <td>-0.554530</td>\n",
       "      <td>0.375684</td>\n",
       "      <td>0.282989</td>\n",
       "      <td>-0.810777</td>\n",
       "    </tr>\n",
       "    <tr>\n",
       "      <th>1586610</th>\n",
       "      <td>752.0</td>\n",
       "      <td>1.812405</td>\n",
       "      <td>-2.177663</td>\n",
       "      <td>-2.555929</td>\n",
       "      <td>0.282989</td>\n",
       "      <td>-0.810777</td>\n",
       "    </tr>\n",
       "    <tr>\n",
       "      <th>1586611</th>\n",
       "      <td>752.0</td>\n",
       "      <td>-0.337773</td>\n",
       "      <td>-1.366096</td>\n",
       "      <td>-0.357219</td>\n",
       "      <td>0.282989</td>\n",
       "      <td>-0.810777</td>\n",
       "    </tr>\n",
       "    <tr>\n",
       "      <th>1586612</th>\n",
       "      <td>752.0</td>\n",
       "      <td>1.095679</td>\n",
       "      <td>1.068603</td>\n",
       "      <td>1.108588</td>\n",
       "      <td>0.966078</td>\n",
       "      <td>-0.810777</td>\n",
       "    </tr>\n",
       "    <tr>\n",
       "      <th>1586613</th>\n",
       "      <td>752.0</td>\n",
       "      <td>1.095679</td>\n",
       "      <td>1.068603</td>\n",
       "      <td>1.108588</td>\n",
       "      <td>0.966078</td>\n",
       "      <td>-0.810777</td>\n",
       "    </tr>\n",
       "  </tbody>\n",
       "</table>\n",
       "<p>1586614 rows × 6 columns</p>\n",
       "</div>"
      ],
      "text/plain": [
       "         brewery_name  review_aroma  review_appearance  review_palate  \\\n",
       "0               286.0     -2.487952          -2.177663      -3.288833   \n",
       "1               286.0     -1.771225          -1.366096      -1.090123   \n",
       "2               286.0     -1.771225          -1.366096      -1.090123   \n",
       "3               286.0     -1.054499          -0.554530      -1.823026   \n",
       "4                95.0      1.095679           0.257037       0.375684   \n",
       "...               ...           ...                ...            ...   \n",
       "1586609         752.0      0.378953          -0.554530       0.375684   \n",
       "1586610         752.0      1.812405          -2.177663      -2.555929   \n",
       "1586611         752.0     -0.337773          -1.366096      -0.357219   \n",
       "1586612         752.0      1.095679           1.068603       1.108588   \n",
       "1586613         752.0      1.095679           1.068603       1.108588   \n",
       "\n",
       "         review_taste  beer_abv  \n",
       "0           -3.132454 -0.898791  \n",
       "1           -1.083188 -0.370708  \n",
       "2           -1.083188 -0.238688  \n",
       "3           -1.083188 -0.898791  \n",
       "4            0.966078  0.289395  \n",
       "...               ...       ...  \n",
       "1586609      0.282989 -0.810777  \n",
       "1586610      0.282989 -0.810777  \n",
       "1586611      0.282989 -0.810777  \n",
       "1586612      0.966078 -0.810777  \n",
       "1586613      0.966078 -0.810777  \n",
       "\n",
       "[1586614 rows x 6 columns]"
      ]
     },
     "execution_count": 21,
     "metadata": {},
     "output_type": "execute_result"
    }
   ],
   "source": [
    "df_processed"
   ]
  },
  {
   "cell_type": "code",
   "execution_count": 22,
   "metadata": {},
   "outputs": [],
   "source": [
    "df_processed.to_pickle(interim_folder_path + 'df_processed.pkl')"
   ]
  },
  {
   "attachments": {},
   "cell_type": "markdown",
   "metadata": {},
   "source": [
    "# Split processed into train, test and val, save as np array"
   ]
  },
  {
   "cell_type": "code",
   "execution_count": 23,
   "metadata": {},
   "outputs": [],
   "source": [
    "df_processed = pd.read_pickle(interim_folder_path + 'df_processed.pkl')"
   ]
  },
  {
   "cell_type": "code",
   "execution_count": 24,
   "metadata": {},
   "outputs": [],
   "source": [
    "from ds.data.sets import split_sets_random"
   ]
  },
  {
   "cell_type": "code",
   "execution_count": 25,
   "metadata": {},
   "outputs": [],
   "source": [
    "X_train, y_train, X_val, y_val, X_test, y_test = split_sets_random(df_processed, target=target, test_ratio=0.2, to_numpy=True)"
   ]
  },
  {
   "cell_type": "code",
   "execution_count": 26,
   "metadata": {},
   "outputs": [
    {
     "data": {
      "text/html": [
       "<div>\n",
       "<style scoped>\n",
       "    .dataframe tbody tr th:only-of-type {\n",
       "        vertical-align: middle;\n",
       "    }\n",
       "\n",
       "    .dataframe tbody tr th {\n",
       "        vertical-align: top;\n",
       "    }\n",
       "\n",
       "    .dataframe thead th {\n",
       "        text-align: right;\n",
       "    }\n",
       "</style>\n",
       "<table border=\"1\" class=\"dataframe\">\n",
       "  <thead>\n",
       "    <tr style=\"text-align: right;\">\n",
       "      <th></th>\n",
       "      <th>brewery_name</th>\n",
       "      <th>review_aroma</th>\n",
       "      <th>review_appearance</th>\n",
       "      <th>review_palate</th>\n",
       "      <th>review_taste</th>\n",
       "      <th>beer_abv</th>\n",
       "    </tr>\n",
       "  </thead>\n",
       "  <tbody>\n",
       "    <tr>\n",
       "      <th>1388520</th>\n",
       "      <td>810.0</td>\n",
       "      <td>-3.204678</td>\n",
       "      <td>-1.366096</td>\n",
       "      <td>-1.090123</td>\n",
       "      <td>-0.400099</td>\n",
       "      <td>-1.118826</td>\n",
       "    </tr>\n",
       "    <tr>\n",
       "      <th>574735</th>\n",
       "      <td>830.0</td>\n",
       "      <td>-1.054499</td>\n",
       "      <td>0.257037</td>\n",
       "      <td>-0.357219</td>\n",
       "      <td>-0.400099</td>\n",
       "      <td>0.641450</td>\n",
       "    </tr>\n",
       "    <tr>\n",
       "      <th>235720</th>\n",
       "      <td>397.0</td>\n",
       "      <td>-1.054499</td>\n",
       "      <td>-0.554530</td>\n",
       "      <td>0.375684</td>\n",
       "      <td>-0.400099</td>\n",
       "      <td>0.069361</td>\n",
       "    </tr>\n",
       "    <tr>\n",
       "      <th>1087888</th>\n",
       "      <td>55.0</td>\n",
       "      <td>-0.337773</td>\n",
       "      <td>0.257037</td>\n",
       "      <td>-1.823026</td>\n",
       "      <td>-0.400099</td>\n",
       "      <td>1.213540</td>\n",
       "    </tr>\n",
       "    <tr>\n",
       "      <th>282858</th>\n",
       "      <td>193.0</td>\n",
       "      <td>0.378953</td>\n",
       "      <td>-0.554530</td>\n",
       "      <td>-0.357219</td>\n",
       "      <td>-0.400099</td>\n",
       "      <td>-0.942798</td>\n",
       "    </tr>\n",
       "  </tbody>\n",
       "</table>\n",
       "</div>"
      ],
      "text/plain": [
       "         brewery_name  review_aroma  review_appearance  review_palate  \\\n",
       "1388520         810.0     -3.204678          -1.366096      -1.090123   \n",
       "574735          830.0     -1.054499           0.257037      -0.357219   \n",
       "235720          397.0     -1.054499          -0.554530       0.375684   \n",
       "1087888          55.0     -0.337773           0.257037      -1.823026   \n",
       "282858          193.0      0.378953          -0.554530      -0.357219   \n",
       "\n",
       "         review_taste  beer_abv  \n",
       "1388520     -0.400099 -1.118826  \n",
       "574735      -0.400099  0.641450  \n",
       "235720      -0.400099  0.069361  \n",
       "1087888     -0.400099  1.213540  \n",
       "282858      -0.400099 -0.942798  "
      ]
     },
     "execution_count": 26,
     "metadata": {},
     "output_type": "execute_result"
    }
   ],
   "source": [
    "X_train[:5]"
   ]
  },
  {
   "cell_type": "code",
   "execution_count": 27,
   "metadata": {},
   "outputs": [
    {
     "name": "stdout",
     "output_type": "stream",
     "text": [
      "                               brewery_name  review_aroma  review_appearance  \\\n",
      "1388520      Kirin Brewery Company, Limited           1.5                3.0   \n",
      "574735          Huisbrouwerij Klein Duimpje           3.0                4.0   \n",
      "235720            Southampton Publick House           3.0                3.5   \n",
      "1087888    Rock Bottom Restaurant & Brewery           3.5                4.0   \n",
      "282858   Boston Beer Company (Samuel Adams)           4.0                3.5   \n",
      "...                                     ...           ...                ...   \n",
      "912020   Bierbrouwerij Sint Christoffel B.V           4.5                4.0   \n",
      "1083305              Brouwerij Slaghmuylder           3.5                4.0   \n",
      "460341          Thirsty Dog Brewing Company           4.0                4.0   \n",
      "626118         OPA-OPA Steakhouse & Brewery           4.0                3.5   \n",
      "858708                        Mikkeller ApS           4.0                4.5   \n",
      "\n",
      "         review_palate  review_taste  beer_abv  \n",
      "1388520            3.0           3.5       4.5  \n",
      "574735             3.5           3.5       8.5  \n",
      "235720             4.0           3.5       7.2  \n",
      "1087888            2.5           3.5       9.8  \n",
      "282858             3.5           3.5       4.9  \n",
      "...                ...           ...       ...  \n",
      "912020             4.0           4.0       7.8  \n",
      "1083305            3.5           4.0       6.0  \n",
      "460341             4.0           4.5       9.7  \n",
      "626118             3.0           4.0       7.0  \n",
      "858708             4.0           3.5       8.0  \n",
      "\n",
      "[951968 rows x 6 columns]\n"
     ]
    }
   ],
   "source": [
    "# Use index number from the post transform dataset to get the original record from the raw dataset\n",
    "X_train_v3_unencoded = df.loc[X_train.index]\n",
    "\n",
    "print(X_train_v3_unencoded)"
   ]
  },
  {
   "cell_type": "code",
   "execution_count": 28,
   "metadata": {},
   "outputs": [],
   "source": [
    "X_train_v3_unencoded.to_pickle(interim_folder_path + 'df_X_train_v3.pkl')"
   ]
  },
  {
   "cell_type": "code",
   "execution_count": 29,
   "metadata": {},
   "outputs": [
    {
     "name": "stdout",
     "output_type": "stream",
     "text": [
      "Total of 951968 records, with 993 unqiue brewery_names in X_train, and 104 unique beer_style in y_train.\n"
     ]
    }
   ],
   "source": [
    "print(f\"Total of {len(X_train)} records, with {X_train['brewery_name'].nunique()} unqiue brewery_names in X_train, and {y_train.nunique()} unique beer_style in y_train.\")"
   ]
  },
  {
   "cell_type": "code",
   "execution_count": 30,
   "metadata": {},
   "outputs": [
    {
     "data": {
      "text/html": [
       "<div>\n",
       "<style scoped>\n",
       "    .dataframe tbody tr th:only-of-type {\n",
       "        vertical-align: middle;\n",
       "    }\n",
       "\n",
       "    .dataframe tbody tr th {\n",
       "        vertical-align: top;\n",
       "    }\n",
       "\n",
       "    .dataframe thead th {\n",
       "        text-align: right;\n",
       "    }\n",
       "</style>\n",
       "<table border=\"1\" class=\"dataframe\">\n",
       "  <thead>\n",
       "    <tr style=\"text-align: right;\">\n",
       "      <th></th>\n",
       "      <th>brewery_name</th>\n",
       "      <th>review_aroma</th>\n",
       "      <th>review_appearance</th>\n",
       "      <th>review_palate</th>\n",
       "      <th>review_taste</th>\n",
       "      <th>beer_abv</th>\n",
       "    </tr>\n",
       "  </thead>\n",
       "  <tbody>\n",
       "    <tr>\n",
       "      <th>560133</th>\n",
       "      <td>240.0</td>\n",
       "      <td>-1.054499</td>\n",
       "      <td>-1.366096</td>\n",
       "      <td>0.375684</td>\n",
       "      <td>-1.083188</td>\n",
       "      <td>-1.074819</td>\n",
       "    </tr>\n",
       "    <tr>\n",
       "      <th>1414694</th>\n",
       "      <td>123.0</td>\n",
       "      <td>-1.054499</td>\n",
       "      <td>0.257037</td>\n",
       "      <td>-1.090123</td>\n",
       "      <td>-1.083188</td>\n",
       "      <td>0.861485</td>\n",
       "    </tr>\n",
       "    <tr>\n",
       "      <th>553164</th>\n",
       "      <td>664.0</td>\n",
       "      <td>0.378953</td>\n",
       "      <td>-0.554530</td>\n",
       "      <td>0.375684</td>\n",
       "      <td>0.282989</td>\n",
       "      <td>-0.810777</td>\n",
       "    </tr>\n",
       "    <tr>\n",
       "      <th>1471382</th>\n",
       "      <td>75.0</td>\n",
       "      <td>-0.337773</td>\n",
       "      <td>1.068603</td>\n",
       "      <td>-0.357219</td>\n",
       "      <td>0.282989</td>\n",
       "      <td>1.301554</td>\n",
       "    </tr>\n",
       "    <tr>\n",
       "      <th>1210217</th>\n",
       "      <td>138.0</td>\n",
       "      <td>-0.337773</td>\n",
       "      <td>1.880169</td>\n",
       "      <td>1.108588</td>\n",
       "      <td>0.282989</td>\n",
       "      <td>0.201381</td>\n",
       "    </tr>\n",
       "  </tbody>\n",
       "</table>\n",
       "</div>"
      ],
      "text/plain": [
       "         brewery_name  review_aroma  review_appearance  review_palate  \\\n",
       "560133          240.0     -1.054499          -1.366096       0.375684   \n",
       "1414694         123.0     -1.054499           0.257037      -1.090123   \n",
       "553164          664.0      0.378953          -0.554530       0.375684   \n",
       "1471382          75.0     -0.337773           1.068603      -0.357219   \n",
       "1210217         138.0     -0.337773           1.880169       1.108588   \n",
       "\n",
       "         review_taste  beer_abv  \n",
       "560133      -1.083188 -1.074819  \n",
       "1414694     -1.083188  0.861485  \n",
       "553164       0.282989 -0.810777  \n",
       "1471382      0.282989  1.301554  \n",
       "1210217      0.282989  0.201381  "
      ]
     },
     "execution_count": 30,
     "metadata": {},
     "output_type": "execute_result"
    }
   ],
   "source": [
    "X_val[:5]"
   ]
  },
  {
   "cell_type": "code",
   "execution_count": 31,
   "metadata": {},
   "outputs": [
    {
     "name": "stdout",
     "output_type": "stream",
     "text": [
      "                          brewery_name  review_aroma  review_appearance  \\\n",
      "560133           Boulevard Brewing Co.           3.0                3.0   \n",
      "1414694           Shipyard Brewing Co.           3.0                4.0   \n",
      "553164        Nebraska Brewing Company           4.0                3.5   \n",
      "1471382        Les Trois Mousquetaires           3.5                4.5   \n",
      "1210217                Heavy Seas Beer           3.5                5.0   \n",
      "...                                ...           ...                ...   \n",
      "194715           Eel River Brewing Co.           2.5                3.5   \n",
      "1556120        Victory Brewing Company           4.5                4.0   \n",
      "921472            Vale Brewery Company           3.5                4.0   \n",
      "1134381  Russian River Brewing Company           4.5                5.0   \n",
      "412572     Great Lakes Brewing Company           4.0                4.5   \n",
      "\n",
      "         review_palate  review_taste  beer_abv  \n",
      "560133             4.0           3.0       4.6  \n",
      "1414694            3.0           3.0       9.0  \n",
      "553164             4.0           4.0       5.2  \n",
      "1471382            3.5           4.0      10.0  \n",
      "1210217            4.5           4.0       7.5  \n",
      "...                ...           ...       ...  \n",
      "194715             1.5           2.0       8.0  \n",
      "1556120            4.5           4.5       8.7  \n",
      "921472             4.0           4.0       4.6  \n",
      "1134381            4.5           4.0       8.0  \n",
      "412572             4.5           4.0       8.0  \n",
      "\n",
      "[317323 rows x 6 columns]\n"
     ]
    }
   ],
   "source": [
    "# Use index number to subset df2 based on df1's index\n",
    "X_val_v3_unencoded = df.loc[X_val.index]\n",
    "\n",
    "print(X_val_v3_unencoded)"
   ]
  },
  {
   "cell_type": "code",
   "execution_count": 32,
   "metadata": {},
   "outputs": [],
   "source": [
    "X_val_v3_unencoded.to_pickle(interim_folder_path + 'df_X_val_v3.pkl')"
   ]
  },
  {
   "cell_type": "code",
   "execution_count": 33,
   "metadata": {},
   "outputs": [
    {
     "name": "stdout",
     "output_type": "stream",
     "text": [
      "Total of 317323 records, with 985 unqiue brewery_names in X_val, and 104 unique beer_style in y_val.\n"
     ]
    }
   ],
   "source": [
    "print(f\"Total of {len(X_val)} records, with {X_val['brewery_name'].nunique()} unqiue brewery_names in X_val, and {y_val.nunique()} unique beer_style in y_val.\")"
   ]
  },
  {
   "cell_type": "code",
   "execution_count": 34,
   "metadata": {},
   "outputs": [
    {
     "data": {
      "text/html": [
       "<div>\n",
       "<style scoped>\n",
       "    .dataframe tbody tr th:only-of-type {\n",
       "        vertical-align: middle;\n",
       "    }\n",
       "\n",
       "    .dataframe tbody tr th {\n",
       "        vertical-align: top;\n",
       "    }\n",
       "\n",
       "    .dataframe thead th {\n",
       "        text-align: right;\n",
       "    }\n",
       "</style>\n",
       "<table border=\"1\" class=\"dataframe\">\n",
       "  <thead>\n",
       "    <tr style=\"text-align: right;\">\n",
       "      <th></th>\n",
       "      <th>brewery_name</th>\n",
       "      <th>review_aroma</th>\n",
       "      <th>review_appearance</th>\n",
       "      <th>review_palate</th>\n",
       "      <th>review_taste</th>\n",
       "      <th>beer_abv</th>\n",
       "    </tr>\n",
       "  </thead>\n",
       "  <tbody>\n",
       "    <tr>\n",
       "      <th>372797</th>\n",
       "      <td>745.0</td>\n",
       "      <td>0.378953</td>\n",
       "      <td>1.880169</td>\n",
       "      <td>0.375684</td>\n",
       "      <td>0.966078</td>\n",
       "      <td>0.861485</td>\n",
       "    </tr>\n",
       "    <tr>\n",
       "      <th>942896</th>\n",
       "      <td>841.0</td>\n",
       "      <td>0.378953</td>\n",
       "      <td>1.068603</td>\n",
       "      <td>1.841491</td>\n",
       "      <td>0.282989</td>\n",
       "      <td>1.521588</td>\n",
       "    </tr>\n",
       "    <tr>\n",
       "      <th>1152395</th>\n",
       "      <td>836.0</td>\n",
       "      <td>-0.337773</td>\n",
       "      <td>-0.554530</td>\n",
       "      <td>-1.090123</td>\n",
       "      <td>0.966078</td>\n",
       "      <td>-0.546736</td>\n",
       "    </tr>\n",
       "    <tr>\n",
       "      <th>410631</th>\n",
       "      <td>275.0</td>\n",
       "      <td>1.095679</td>\n",
       "      <td>0.257037</td>\n",
       "      <td>1.108588</td>\n",
       "      <td>0.966078</td>\n",
       "      <td>0.201381</td>\n",
       "    </tr>\n",
       "    <tr>\n",
       "      <th>699913</th>\n",
       "      <td>218.0</td>\n",
       "      <td>-0.337773</td>\n",
       "      <td>0.257037</td>\n",
       "      <td>-1.090123</td>\n",
       "      <td>-1.766277</td>\n",
       "      <td>-0.485126</td>\n",
       "    </tr>\n",
       "  </tbody>\n",
       "</table>\n",
       "</div>"
      ],
      "text/plain": [
       "         brewery_name  review_aroma  review_appearance  review_palate  \\\n",
       "372797          745.0      0.378953           1.880169       0.375684   \n",
       "942896          841.0      0.378953           1.068603       1.841491   \n",
       "1152395         836.0     -0.337773          -0.554530      -1.090123   \n",
       "410631          275.0      1.095679           0.257037       1.108588   \n",
       "699913          218.0     -0.337773           0.257037      -1.090123   \n",
       "\n",
       "         review_taste  beer_abv  \n",
       "372797       0.966078  0.861485  \n",
       "942896       0.282989  1.521588  \n",
       "1152395      0.966078 -0.546736  \n",
       "410631       0.966078  0.201381  \n",
       "699913      -1.766277 -0.485126  "
      ]
     },
     "execution_count": 34,
     "metadata": {},
     "output_type": "execute_result"
    }
   ],
   "source": [
    "X_test[:5]"
   ]
  },
  {
   "cell_type": "code",
   "execution_count": 35,
   "metadata": {},
   "outputs": [
    {
     "name": "stdout",
     "output_type": "stream",
     "text": [
      "                                    brewery_name  review_aroma  \\\n",
      "372797                                  Unibroue           4.0   \n",
      "942896                      Bell's Brewery, Inc.           4.0   \n",
      "1152395                  Arcadia Brewing Company           3.5   \n",
      "410631                    Tröegs Brewing Company           4.5   \n",
      "699913             Boulder Beer / Wilderness Pub           3.5   \n",
      "...                                          ...           ...   \n",
      "1126739                       Miller Brewing Co.           2.0   \n",
      "101744                 Hale's Ales Brewery & Pub           4.0   \n",
      "690490   Bayerische Staatsbrauerei Weihenstephan           4.0   \n",
      "554111                    Summit Brewing Company           3.5   \n",
      "368888                                  Unibroue           4.0   \n",
      "\n",
      "         review_appearance  review_palate  review_taste  beer_abv  \n",
      "372797                 5.0            4.0           4.5      9.00  \n",
      "942896                 4.5            5.0           4.0     10.50  \n",
      "1152395                3.5            3.0           4.5      5.80  \n",
      "410631                 4.0            4.5           4.5      7.50  \n",
      "699913                 4.0            3.0           2.5      5.94  \n",
      "...                    ...            ...           ...       ...  \n",
      "1126739                2.0            3.0           1.5      4.66  \n",
      "101744                 4.0            4.0           4.0       NaN  \n",
      "690490                 4.0            4.0           4.5      7.40  \n",
      "554111                 3.5            4.0           3.5      7.00  \n",
      "368888                 3.5            4.0           4.0      9.00  \n",
      "\n",
      "[317323 rows x 6 columns]\n"
     ]
    }
   ],
   "source": [
    "# Use index number to subset df2 based on df1's index\n",
    "X_test_v3_unencoded = df.loc[X_test.index]\n",
    "\n",
    "print(X_test_v3_unencoded)"
   ]
  },
  {
   "cell_type": "code",
   "execution_count": 36,
   "metadata": {},
   "outputs": [],
   "source": [
    "X_test_v3_unencoded.to_pickle(interim_folder_path + 'df_X_test_v3_unencoded.pkl')"
   ]
  },
  {
   "cell_type": "code",
   "execution_count": 37,
   "metadata": {},
   "outputs": [
    {
     "name": "stdout",
     "output_type": "stream",
     "text": [
      "Total of 317323 records, with 985 unqiue brewery_names in X_test, and 104 unique beer_style in y_test.\n"
     ]
    }
   ],
   "source": [
    "print(f\"Total of {len(X_test)} records, with {X_test['brewery_name'].nunique()} unqiue brewery_names in X_test, and {y_test.nunique()} unique beer_style in y_test.\")"
   ]
  },
  {
   "cell_type": "code",
   "execution_count": 38,
   "metadata": {},
   "outputs": [
    {
     "name": "stdout",
     "output_type": "stream",
     "text": [
      "(951968, 6)\n",
      "(317323, 6)\n",
      "(317323, 6)\n"
     ]
    }
   ],
   "source": [
    "print(X_train.shape) #(951968, 6)\n",
    "print(X_val.shape) #(317323, 6)\n",
    "print(X_test.shape) #(317323, 6)"
   ]
  },
  {
   "cell_type": "code",
   "execution_count": 39,
   "metadata": {},
   "outputs": [],
   "source": [
    "from ds.data.sets import save_sets_v2"
   ]
  },
  {
   "cell_type": "code",
   "execution_count": 40,
   "metadata": {},
   "outputs": [],
   "source": [
    "save_sets_v2(X_train, y_train, X_val, y_val, X_test, y_test, path='../data/processed/', suffix='_v3')"
   ]
  },
  {
   "attachments": {},
   "cell_type": "markdown",
   "metadata": {},
   "source": [
    "Start from the beer_reviews.csv, by the end of this, we should have \n",
    "\n",
    "1) array of unique 'beer_style' saved in \"../data/processed/\" as \"beer_style.npy\"\n",
    "2) array of unqiue 'brewery_name' in \"../data/processed/\"  as \"brewery_name.npy\"\n",
    "3) array of feature names in \"../data/processed/\" as \"features_label.npy\"\n",
    "4) the numeric imputer saved in \"../models/\" as imputer_numeric.joblib\n",
    "5) the numberic scaler saved in \"../models/\" as scaler.joblib\n",
    "6) array of the fully preprocessed data saved in \"../data/interim/\" as 'X_processed.npy'\n",
    "7) df of fully processd df in \"../data/interim/\" as \"df_processed.pkl\"\n",
    "8) Train/val/test datasets split from \"df_processed\" in \"../data/processed/\"\n"
   ]
  }
 ],
 "metadata": {
  "kernelspec": {
   "display_name": "Python 3",
   "language": "python",
   "name": "python3"
  },
  "language_info": {
   "codemirror_mode": {
    "name": "ipython",
    "version": 3
   },
   "file_extension": ".py",
   "mimetype": "text/x-python",
   "name": "python",
   "nbconvert_exporter": "python",
   "pygments_lexer": "ipython3",
   "version": "3.8.10"
  },
  "orig_nbformat": 4
 },
 "nbformat": 4,
 "nbformat_minor": 2
}
