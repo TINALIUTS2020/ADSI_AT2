{
 "cells": [
  {
   "attachments": {},
   "cell_type": "markdown",
   "metadata": {},
   "source": [
    "This is model from the v3 split dataset"
   ]
  },
  {
   "cell_type": "markdown",
   "metadata": {},
   "source": [
    "By the end of this file\n",
    "1) ANN_T_label_encoder is saved in \"../models/\"\n",
    "2) ANN_T_model.joblib is saved in \"../models/\"\n",
    "3) ANN_T_model_history.joblib is saved in \"../models/\"\n",
    "5) Classification report on the train_v3 prediction is saved in \".../data/external/\" as 'df_clr_ANN_T_X_train_v3.csv'\n",
    "6) Classification report on the test_v3 prediction is saved in \".../data/external/\" as 'df_clr_ANN_T_X_test_v3.csv'\n",
    "4) csv file with th original test_v3 df with prediction is saved in \".../data/external/\" as 'df_X_test_v3_output.csv'\n",
    "\n",
    "Custom functions used:\n",
    "1) from ds.data.sets import load_sets_v2\n",
    "2) from ds.models.performance import plot_model_learningcurve, plot_model_accuracy, plot_model_loss, df_classifcation_report"
   ]
  },
  {
   "cell_type": "code",
   "execution_count": 37,
   "metadata": {},
   "outputs": [
    {
     "name": "stdout",
     "output_type": "stream",
     "text": [
      "The autoreload extension is already loaded. To reload it, use:\n",
      "  %reload_ext autoreload\n"
     ]
    }
   ],
   "source": [
    "%load_ext autoreload\n",
    "%autoreload 2"
   ]
  },
  {
   "cell_type": "code",
   "execution_count": 38,
   "metadata": {},
   "outputs": [
    {
     "name": "stdout",
     "output_type": "stream",
     "text": [
      "Current workpath: /home/tina4aiml/dev/notebooks\n",
      "Parent_folder: /home/tina4aiml/dev\n",
      "/home/tina4aiml/dev/src\n"
     ]
    }
   ],
   "source": [
    "# for Tina machine only, to import .py from src/ds/\n",
    "import os\n",
    "current_workpath = os.getcwd()\n",
    "print(\"Current workpath:\", current_workpath)\n",
    "\n",
    "parent_folder = os.path.dirname(current_workpath)\n",
    "print(\"Parent_folder:\", parent_folder)\n",
    "\n",
    "import sys\n",
    "sys.path.append(parent_folder+'/src')\n",
    "print(sys.path[-1])"
   ]
  },
  {
   "cell_type": "code",
   "execution_count": 39,
   "metadata": {},
   "outputs": [],
   "source": [
    "rawfile_name = 'beer_reviews'\n",
    "rawfile_format = '.csv'\n",
    "rawfile_path = \"../data/raw/\"\n",
    "\n",
    "interim_folder_path = \"../data/interim/\"\n",
    "processed_folder_path  =\"../data/processed/\"\n",
    "external_folder_path  =\"../data/external/\"\n",
    "model_folder_path = \"../models/\""
   ]
  },
  {
   "attachments": {},
   "cell_type": "markdown",
   "metadata": {},
   "source": [
    "# import data"
   ]
  },
  {
   "cell_type": "code",
   "execution_count": 40,
   "metadata": {},
   "outputs": [],
   "source": [
    "import pandas as pd\n",
    "import numpy as np"
   ]
  },
  {
   "cell_type": "code",
   "execution_count": 41,
   "metadata": {},
   "outputs": [],
   "source": [
    "from ds.data.sets import load_sets_v2"
   ]
  },
  {
   "cell_type": "code",
   "execution_count": 42,
   "metadata": {},
   "outputs": [
    {
     "name": "stdout",
     "output_type": "stream",
     "text": [
      "X_train_v3 shape: (951968, 6)\n",
      "y_train_v3 shape: (951968,)\n",
      "X_val_v3 shape: (317323, 6)\n",
      "y_val_v3 shape: (317323,)\n",
      "X_test_v3 shape: (317323, 6)\n",
      "y_test_v3 shape: (317323,)\n"
     ]
    }
   ],
   "source": [
    "X_train_v3, y_train_v3, X_val_v3, y_val_v3, X_test_v3, y_test_v3 = load_sets_v2(path='../data/processed/', suffix='_v3')"
   ]
  },
  {
   "cell_type": "code",
   "execution_count": 43,
   "metadata": {},
   "outputs": [
    {
     "name": "stdout",
     "output_type": "stream",
     "text": [
      "X_train_v3 shape: (951968, 6)\n",
      "y_train_v3 shape: (951968,)\n",
      "X_val_v3 shape: (317323, 6)\n",
      "y_val_v3 shape: (317323,)\n",
      "X_test_v3 shape: (317323, 6)\n",
      "y_test_v3 shape: (317323,)\n"
     ]
    }
   ],
   "source": [
    "# Check if the datasets were loaded successfully\n",
    "if X_train_v3 is not None:\n",
    "    print(\"X_train_v3 shape:\", X_train_v3.shape) # (951968, 6)\n",
    "else:\n",
    "    print(\"X_train_v3 file not found\")\n",
    "\n",
    "if y_train_v3 is not None:\n",
    "    print(\"y_train_v3 shape:\", y_train_v3.shape) #(951968,)\n",
    "else:\n",
    "    print(\"y_train_v3 file not found\") \n",
    "\n",
    "if X_val_v3 is not None:\n",
    "    print(\"X_val_v3 shape:\", X_val_v3.shape) # (317323, 6)\n",
    "else:\n",
    "    print(\"X_val_v3 file not found\")\n",
    "\n",
    "if y_val_v3 is not None:\n",
    "    print(\"y_val_v3 shape:\", y_val_v3.shape) # (317323,)\n",
    "else:\n",
    "    print(\"y_val_v3 file not found\")\n",
    "\n",
    "if X_test_v3 is not None:\n",
    "    print(\"X_test_v3 shape:\", X_test_v3.shape) # (317323, 6)\n",
    "else:\n",
    "    print(\"X_test_v3 file not found\")\n",
    "\n",
    "if y_test_v3 is not None:\n",
    "    print(\"y_test_v3 shape:\", y_test_v3.shape) # (317323,)\n",
    "else:\n",
    "    print(\"y_test_v3 file not found\")"
   ]
  },
  {
   "attachments": {},
   "cell_type": "markdown",
   "metadata": {},
   "source": [
    "# Encode target"
   ]
  },
  {
   "cell_type": "code",
   "execution_count": 44,
   "metadata": {},
   "outputs": [],
   "source": [
    "from sklearn.preprocessing import LabelEncoder\n",
    "import joblib\n",
    "\n",
    "# Initialize the LabelEncoder\n",
    "label_encoder = LabelEncoder()\n",
    "\n",
    "# Fit the LabelEncoder on the training set\n",
    "label_encoder.fit(y_train_v3)\n",
    "\n",
    "# Save the LabelEncoder\n",
    "joblib.dump(label_encoder, model_folder_path+'ANN_T_label_encoder.joblib')\n",
    "\n",
    "# Transform the target variables\n",
    "y_train_v3_encoded = label_encoder.transform(y_train_v3).astype(int)\n",
    "y_val_v3_encoded = label_encoder.transform(y_val_v3).astype(int)\n",
    "y_test_v3_encoded = label_encoder.transform(y_test_v3).astype(int)"
   ]
  },
  {
   "cell_type": "code",
   "execution_count": 45,
   "metadata": {},
   "outputs": [],
   "source": [
    "X_train_v3 = X_train_v3.astype(float)\n",
    "X_val_v3 = X_val_v3.astype(float)\n",
    "X_test_v3 = X_test_v3.astype(float)"
   ]
  },
  {
   "cell_type": "code",
   "execution_count": 46,
   "metadata": {},
   "outputs": [
    {
     "name": "stdout",
     "output_type": "stream",
     "text": [
      "int64\n",
      "float64\n"
     ]
    }
   ],
   "source": [
    "#both need to be int\n",
    "print(y_train_v3_encoded.dtype)\n",
    "print(X_train_v3.dtype)"
   ]
  },
  {
   "attachments": {},
   "cell_type": "markdown",
   "metadata": {},
   "source": [
    "# Define Neural Network Architecture"
   ]
  },
  {
   "cell_type": "code",
   "execution_count": 47,
   "metadata": {},
   "outputs": [
    {
     "data": {
      "text/plain": [
       "6"
      ]
     },
     "execution_count": 47,
     "metadata": {},
     "output_type": "execute_result"
    }
   ],
   "source": [
    "features_names = np.load(processed_folder_path+'features_label.npy',allow_pickle=True)\n",
    "features_names_n = len(features_names)\n",
    "features_names_n "
   ]
  },
  {
   "cell_type": "code",
   "execution_count": 48,
   "metadata": {},
   "outputs": [
    {
     "data": {
      "text/plain": [
       "104"
      ]
     },
     "execution_count": 48,
     "metadata": {},
     "output_type": "execute_result"
    }
   ],
   "source": [
    "target_class = np.load(processed_folder_path+'beer_style.npy',allow_pickle=True)\n",
    "target_class_n = len(target_class)\n",
    "target_class_n "
   ]
  },
  {
   "cell_type": "code",
   "execution_count": 49,
   "metadata": {},
   "outputs": [],
   "source": [
    "import tensorflow as tf\n",
    "tf.keras.backend.clear_session()"
   ]
  },
  {
   "cell_type": "code",
   "execution_count": 50,
   "metadata": {},
   "outputs": [],
   "source": [
    "tf.keras.utils.set_random_seed(1)\n",
    "num_classes = target_class_n\n",
    "input_shape = (features_names_n,)\n"
   ]
  },
  {
   "cell_type": "code",
   "execution_count": 51,
   "metadata": {},
   "outputs": [],
   "source": [
    "## callback that will decrease the learning rate by a factor of 0.2 if the model doesn't improve after 5 epochs\n",
    "from tensorflow.keras.callbacks import EarlyStopping, ReduceLROnPlateau\n",
    "reduce_lr = ReduceLROnPlateau(monitor='val_loss', factor=0.2, patience=3, min_lr=0.0000001)"
   ]
  },
  {
   "cell_type": "code",
   "execution_count": 52,
   "metadata": {},
   "outputs": [],
   "source": [
    "ANN_T_model = tf.keras.models.Sequential([\n",
    "    tf.keras.layers.Dense(128, activation='relu', input_shape=input_shape),\n",
    "    tf.keras.layers.Dense(64, activation='relu'),\n",
    "    tf.keras.layers.Dense(32, activation='relu'),\n",
    "    tf.keras.layers.Dense(16, activation='relu'),\n",
    "    tf.keras.layers.Dense(num_classes, activation='softmax')\n",
    "])\n",
    "\n",
    "ANN_T_model.compile(optimizer='adam', loss='sparse_categorical_crossentropy', metrics=['accuracy'])\n"
   ]
  },
  {
   "cell_type": "code",
   "execution_count": 53,
   "metadata": {},
   "outputs": [
    {
     "name": "stdout",
     "output_type": "stream",
     "text": [
      "Epoch 1/20\n",
      "29749/29749 [==============================] - 139s 5ms/step - loss: 3.4511 - accuracy: 0.1707 - val_loss: 3.3074 - val_accuracy: 0.1928 - lr: 0.0010\n",
      "Epoch 2/20\n",
      "29749/29749 [==============================] - 133s 4ms/step - loss: 3.2720 - accuracy: 0.1954 - val_loss: 3.2422 - val_accuracy: 0.1963 - lr: 0.0010\n",
      "Epoch 3/20\n",
      "29749/29749 [==============================] - 134s 4ms/step - loss: 3.2356 - accuracy: 0.2028 - val_loss: 3.2067 - val_accuracy: 0.2099 - lr: 0.0010\n",
      "Epoch 4/20\n",
      "29749/29749 [==============================] - 136s 5ms/step - loss: 3.2106 - accuracy: 0.2085 - val_loss: 3.1945 - val_accuracy: 0.2110 - lr: 0.0010\n",
      "Epoch 5/20\n",
      "29749/29749 [==============================] - 132s 4ms/step - loss: 3.1920 - accuracy: 0.2133 - val_loss: 3.1688 - val_accuracy: 0.2191 - lr: 0.0010\n",
      "Epoch 6/20\n",
      "29749/29749 [==============================] - 135s 5ms/step - loss: 3.1778 - accuracy: 0.2171 - val_loss: 3.1804 - val_accuracy: 0.2184 - lr: 0.0010\n",
      "Epoch 7/20\n",
      "29749/29749 [==============================] - 139s 5ms/step - loss: 3.1657 - accuracy: 0.2198 - val_loss: 3.1597 - val_accuracy: 0.2228 - lr: 0.0010\n",
      "Epoch 8/20\n",
      "29749/29749 [==============================] - 135s 5ms/step - loss: 3.1566 - accuracy: 0.2222 - val_loss: 3.1349 - val_accuracy: 0.2289 - lr: 0.0010\n",
      "Epoch 9/20\n",
      "29749/29749 [==============================] - 137s 5ms/step - loss: 3.1476 - accuracy: 0.2247 - val_loss: 3.1260 - val_accuracy: 0.2272 - lr: 0.0010\n",
      "Epoch 10/20\n",
      "29749/29749 [==============================] - 143s 5ms/step - loss: 3.1407 - accuracy: 0.2259 - val_loss: 3.1302 - val_accuracy: 0.2292 - lr: 0.0010\n",
      "Epoch 11/20\n",
      "29749/29749 [==============================] - 115s 4ms/step - loss: 3.1346 - accuracy: 0.2275 - val_loss: 3.1341 - val_accuracy: 0.2279 - lr: 0.0010\n",
      "Epoch 12/20\n",
      "29749/29749 [==============================] - 116s 4ms/step - loss: 3.1304 - accuracy: 0.2289 - val_loss: 3.1682 - val_accuracy: 0.2237 - lr: 0.0010\n",
      "Epoch 13/20\n",
      "29749/29749 [==============================] - 116s 4ms/step - loss: 3.0697 - accuracy: 0.2421 - val_loss: 3.0694 - val_accuracy: 0.2434 - lr: 2.0000e-04\n",
      "Epoch 14/20\n",
      "29749/29749 [==============================] - 116s 4ms/step - loss: 3.0617 - accuracy: 0.2440 - val_loss: 3.0670 - val_accuracy: 0.2439 - lr: 2.0000e-04\n",
      "Epoch 15/20\n",
      "29749/29749 [==============================] - 123s 4ms/step - loss: 3.0569 - accuracy: 0.2455 - val_loss: 3.0661 - val_accuracy: 0.2470 - lr: 2.0000e-04\n",
      "Epoch 16/20\n",
      "29749/29749 [==============================] - 115s 4ms/step - loss: 3.0539 - accuracy: 0.2467 - val_loss: 3.0540 - val_accuracy: 0.2480 - lr: 2.0000e-04\n",
      "Epoch 17/20\n",
      "29749/29749 [==============================] - 117s 4ms/step - loss: 3.0510 - accuracy: 0.2474 - val_loss: 3.0474 - val_accuracy: 0.2480 - lr: 2.0000e-04\n",
      "Epoch 18/20\n",
      "29749/29749 [==============================] - 117s 4ms/step - loss: 3.0481 - accuracy: 0.2479 - val_loss: 3.0514 - val_accuracy: 0.2474 - lr: 2.0000e-04\n",
      "Epoch 19/20\n",
      "29749/29749 [==============================] - 116s 4ms/step - loss: 3.0459 - accuracy: 0.2483 - val_loss: 3.0465 - val_accuracy: 0.2491 - lr: 2.0000e-04\n",
      "Epoch 20/20\n",
      "29749/29749 [==============================] - 116s 4ms/step - loss: 3.0438 - accuracy: 0.2486 - val_loss: 3.0412 - val_accuracy: 0.2474 - lr: 2.0000e-04\n"
     ]
    }
   ],
   "source": [
    "n_epochs = 20\n",
    "n_batchsize = 32\n",
    "es_patience = 5\n",
    "monitor_metric = 'val_loss'\n",
    "\n",
    "ANN_T_history = ANN_T_model.fit(\n",
    "                          X_train_v3, \n",
    "                          y_train_v3_encoded, \n",
    "                          epochs=n_epochs, \n",
    "                          batch_size=n_batchsize, \n",
    "                          validation_data=(X_val_v3, y_val_v3_encoded),    \n",
    "                          callbacks=[        \n",
    "                            EarlyStopping(\n",
    "                            monitor=monitor_metric,\n",
    "                            patience=es_patience,\n",
    "                            restore_best_weights=True\n",
    "                            ),\n",
    "                            reduce_lr\n",
    "                        ] )\n",
    "#runtime = 42m"
   ]
  },
  {
   "cell_type": "code",
   "execution_count": 54,
   "metadata": {},
   "outputs": [
    {
     "data": {
      "text/plain": [
       "['../models/ANN_T_model.joblib']"
      ]
     },
     "execution_count": 54,
     "metadata": {},
     "output_type": "execute_result"
    }
   ],
   "source": [
    "from joblib import dump\n",
    "dump(ANN_T_model, model_folder_path+'ANN_T_model.joblib')"
   ]
  },
  {
   "cell_type": "code",
   "execution_count": 55,
   "metadata": {},
   "outputs": [
    {
     "data": {
      "text/plain": [
       "['../models/ANN_T_model_history.joblib']"
      ]
     },
     "execution_count": 55,
     "metadata": {},
     "output_type": "execute_result"
    }
   ],
   "source": [
    "dump(ANN_T_model.history, model_folder_path+'ANN_T_model_history.joblib')"
   ]
  },
  {
   "cell_type": "markdown",
   "metadata": {},
   "source": [
    "# Model Performance"
   ]
  },
  {
   "cell_type": "code",
   "execution_count": 56,
   "metadata": {},
   "outputs": [],
   "source": [
    "ANN_T_model = joblib.load(model_folder_path+'ANN_T_model.joblib')"
   ]
  },
  {
   "cell_type": "code",
   "execution_count": 57,
   "metadata": {},
   "outputs": [],
   "source": [
    "ANN_T_history = joblib.load(model_folder_path+'ANN_T_model_history.joblib')"
   ]
  },
  {
   "cell_type": "code",
   "execution_count": 58,
   "metadata": {},
   "outputs": [
    {
     "name": "stdout",
     "output_type": "stream",
     "text": [
      "Model: \"ANN_T_model\"\n",
      "_________________________________________________________________\n",
      " Layer (type)                Output Shape              Param #   \n",
      "=================================================================\n",
      " dense (Dense)               (None, 128)               896       \n",
      "                                                                 \n",
      " dense_1 (Dense)             (None, 64)                8256      \n",
      "                                                                 \n",
      " dense_2 (Dense)             (None, 32)                2080      \n",
      "                                                                 \n",
      " dense_3 (Dense)             (None, 16)                528       \n",
      "                                                                 \n",
      " dense_4 (Dense)             (None, 104)               1768      \n",
      "                                                                 \n",
      "=================================================================\n",
      "Total params: 13,528\n",
      "Trainable params: 13,528\n",
      "Non-trainable params: 0\n",
      "_________________________________________________________________\n"
     ]
    }
   ],
   "source": [
    "# Model Summary after model.save\n",
    "ANN_T_model._name = 'ANN_T_model'\n",
    "ANN_T_model.summary()"
   ]
  },
  {
   "cell_type": "code",
   "execution_count": 59,
   "metadata": {},
   "outputs": [
    {
     "data": {
      "image/png": "[encoded data removed]",
      "text/plain": [
       "<Figure size 640x480 with 1 Axes>"
      ]
     },
     "metadata": {},
     "output_type": "display_data"
    }
   ],
   "source": [
    "# Model- learning curve\n",
    "from ds.models.performance import plot_model_learningcurve\n",
    "plot_model_learningcurve(ANN_T_history.history,'NeuralNet on train_v3 - Learning curve')"
   ]
  },
  {
   "cell_type": "code",
   "execution_count": 60,
   "metadata": {},
   "outputs": [
    {
     "data": {
      "image/png": "[encoded data removed]",
      "text/plain": [
       "<Figure size 640x480 with 1 Axes>"
      ]
     },
     "metadata": {},
     "output_type": "display_data"
    }
   ],
   "source": [
    "# plot performance on train set\n",
    "from ds.models.performance import plot_model_accuracy, plot_model_loss\n",
    "\n",
    "plot_model_accuracy(ANN_T_history.history,'NeuralNet on train_v3 - Accuracy')"
   ]
  },
  {
   "cell_type": "code",
   "execution_count": 61,
   "metadata": {},
   "outputs": [
    {
     "data": {
      "image/png": "[encoded data removed]",
      "text/plain": [
       "<Figure size 640x480 with 1 Axes>"
      ]
     },
     "metadata": {},
     "output_type": "display_data"
    }
   ],
   "source": [
    "plot_model_loss(ANN_T_history.history,'NeuralNet on train_v3 - Loss')"
   ]
  },
  {
   "cell_type": "code",
   "execution_count": 62,
   "metadata": {},
   "outputs": [
    {
     "name": "stdout",
     "output_type": "stream",
     "text": [
      "29749/29749 [==============================] - 43s 1ms/step\n"
     ]
    }
   ],
   "source": [
    "# classification report\n",
    "ANN_T_X_train_v3_predictions = np.argmax(ANN_T_model.predict(X_train_v3), axis=1)"
   ]
  },
  {
   "cell_type": "code",
   "execution_count": 63,
   "metadata": {},
   "outputs": [
    {
     "name": "stdout",
     "output_type": "stream",
     "text": [
      "ANN_T_model - Trainset Accuracy: 0.2477331170795657\n",
      "ANN_T_model - Trainset Precision: 0.2870331068099399\n",
      "ANN_T_model - Trainset Recall: 0.2477331170795657\n",
      "ANN_T_model - Trainset F1 Score: 0.19488070665961302\n"
     ]
    },
    {
     "data": {
      "text/plain": [
       "'\\nExp 1 - numeric impute by KNN columnwise, hidden layer = 2, epochs = 10\\nv3NN_model - Trainset Accuracy: 0.23646803253890888\\nv3NN_model - Trainset Precision: 0.27492554151748233\\nv3NN_model - Trainset Recall: 0.23646803253890888\\nv3NN_model - Trainset F1 Score: 0.1869457649785264\\n\\nExp 2 - numeric impute by mean, hidden layer = 2, epochs = 10\\nANN_Tina_model - Trainset Accuracy: 0.2347904551413493\\nANN_Tina_model - Trainset Precision: 0.256342174730209\\nANN_Tina_model - Trainset Recall: 0.2347904551413493\\nANN_Tina_model - Trainset F1 Score: 0.17865772444803876\\n\\nExp 3 - numeric impute by mean, hidden layer = 3, epochs = 20\\nANN_T_model - Trainset Accuracy: 0.251167056035497\\nANN_T_model - Trainset Precision: 0.27120038523333795\\nANN_T_model - Trainset Recall: 0.251167056035497\\nANN_T_model - Trainset F1 Score: 0.19564704703367253\\n'"
      ]
     },
     "execution_count": 63,
     "metadata": {},
     "output_type": "execute_result"
    }
   ],
   "source": [
    "#print overperformance metrics\n",
    "from ds.models.performance import print_overall_model_metric\n",
    "print_overall_model_metric(y_train_v3_encoded,ANN_T_X_train_v3_predictions, 'ANN_T_model','Trainset')"
   ]
  },
  {
   "cell_type": "code",
   "execution_count": 65,
   "metadata": {},
   "outputs": [
    {
     "name": "stdout",
     "output_type": "stream",
     "text": [
      "                                                    Precision  Recall  \\\n",
      "Class                                                                   \n",
      "support\\n\\n                         Hefeweizen ...       0.00    0.00   \n",
      "English Strong Ale                                       0.25    0.70   \n",
      "Foreign / Export Stout                                   0.26    0.10   \n",
      "German Pilsener                                          0.15    0.01   \n",
      "American Double / Imperial IPA                           0.25    0.32   \n",
      "...                                                       ...     ...   \n",
      "Happoshu                                                 0.00    0.00   \n",
      "Sahti                                                    0.36    0.11   \n",
      "Bière de Champagne / Bière Brut                          0.10    0.24   \n",
      "951968\\n                          macro avg              0.27    0.13   \n",
      "weighted avg                                             0.29    0.25   \n",
      "\n",
      "                                                    F1-Score   Support  \n",
      "Class                                                                   \n",
      "support\\n\\n                         Hefeweizen ...      0.00    4589.0  \n",
      "English Strong Ale                                      0.37   18521.0  \n",
      "Foreign / Export Stout                                  0.15   27213.0  \n",
      "German Pilsener                                         0.01    5553.0  \n",
      "American Double / Imperial IPA                          0.28   16019.0  \n",
      "...                                                      ...       ...  \n",
      "Happoshu                                                0.00    2199.0  \n",
      "Sahti                                                   0.16   12416.0  \n",
      "Bière de Champagne / Bière Brut                         0.14   18106.0  \n",
      "951968\\n                          macro avg             0.13  951968.0  \n",
      "weighted avg                                            0.19  951968.0  \n",
      "\n",
      "[106 rows x 4 columns]\n",
      "                                                    Precision  Recall  \\\n",
      "Class                                                                   \n",
      "support\\n\\n                         Hefeweizen ...       0.00    0.00   \n",
      "English Strong Ale                                       0.25    0.70   \n",
      "Foreign / Export Stout                                   0.26    0.10   \n",
      "German Pilsener                                          0.15    0.01   \n",
      "American Double / Imperial IPA                           0.25    0.32   \n",
      "...                                                       ...     ...   \n",
      "Happoshu                                                 0.00    0.00   \n",
      "Sahti                                                    0.36    0.11   \n",
      "Bière de Champagne / Bière Brut                          0.10    0.24   \n",
      "951968\\n                          macro avg              0.27    0.13   \n",
      "weighted avg                                             0.29    0.25   \n",
      "\n",
      "                                                    F1-Score   Support  \n",
      "Class                                                                   \n",
      "support\\n\\n                         Hefeweizen ...      0.00    4589.0  \n",
      "English Strong Ale                                      0.37   18521.0  \n",
      "Foreign / Export Stout                                  0.15   27213.0  \n",
      "German Pilsener                                         0.01    5553.0  \n",
      "American Double / Imperial IPA                          0.28   16019.0  \n",
      "...                                                      ...       ...  \n",
      "Happoshu                                                0.00    2199.0  \n",
      "Sahti                                                   0.16   12416.0  \n",
      "Bière de Champagne / Bière Brut                         0.14   18106.0  \n",
      "951968\\n                          macro avg             0.13  951968.0  \n",
      "weighted avg                                            0.19  951968.0  \n",
      "\n",
      "[106 rows x 4 columns]\n",
      "csv copy of the classification report is saved at ../data/external/df_clr_ANN_T_X_train_v3.csv\n"
     ]
    }
   ],
   "source": [
    "from ds.models.performance import df_classifcation_report\n",
    "df_classifcation_report(\n",
    "    y_encoded = y_train_v3_encoded, \n",
    "    y_prediction = ANN_T_X_train_v3_predictions, \n",
    "    target_names = target_class,\n",
    "    filename = 'df_clr_ANN_T_X_train_v3.csv', \n",
    "    dest = external_folder_path\n",
    "    )"
   ]
  },
  {
   "attachments": {},
   "cell_type": "markdown",
   "metadata": {},
   "source": [
    "# 2) Get Accuracy on test_set"
   ]
  },
  {
   "cell_type": "code",
   "execution_count": 66,
   "metadata": {},
   "outputs": [
    {
     "name": "stdout",
     "output_type": "stream",
     "text": [
      "9917/9917 [==============================] - 15s 1ms/step\n"
     ]
    },
    {
     "data": {
      "text/plain": [
       "array([ 9, 86, 14, ..., 12, 12,  9])"
      ]
     },
     "execution_count": 66,
     "metadata": {},
     "output_type": "execute_result"
    }
   ],
   "source": [
    "y_test_v3_pred_probs = ANN_T_model.predict(X_test_v3)\n",
    "y_test_v3_pred = y_test_v3_pred_probs.argmax(axis=1)\n",
    "y_test_v3_pred"
   ]
  },
  {
   "cell_type": "code",
   "execution_count": 67,
   "metadata": {},
   "outputs": [],
   "source": [
    "from sklearn.metrics import accuracy_score\n",
    "ANN_T_model_test_accuracy = accuracy_score(y_test_v3_encoded, y_test_v3_pred)"
   ]
  },
  {
   "cell_type": "code",
   "execution_count": 68,
   "metadata": {},
   "outputs": [
    {
     "name": "stdout",
     "output_type": "stream",
     "text": [
      "Test Set Accuracy: 0.2457653558046533 or 24.58%\n"
     ]
    }
   ],
   "source": [
    "print(f\"Test Set Accuracy: {ANN_T_model_test_accuracy} or {ANN_T_model_test_accuracy:.2%}\")"
   ]
  },
  {
   "cell_type": "code",
   "execution_count": 69,
   "metadata": {},
   "outputs": [
    {
     "name": "stdout",
     "output_type": "stream",
     "text": [
      "ANN_T_model - Testset Accuracy: 0.2457653558046533\n",
      "ANN_T_model - Testset Precision: 0.27548015271524856\n",
      "ANN_T_model - Testset Recall: 0.2457653558046533\n",
      "ANN_T_model - Testset F1 Score: 0.19342806259237774\n"
     ]
    },
    {
     "data": {
      "text/plain": [
       "'\\nExp 1 - numeric impute by KNN columnwise\\nv3NN_model - Testset Accuracy: 0.23450868673244613\\nv3NN_model - Testset Precision: 0.27564628804585606\\nv3NN_model - Testset Recall: 0.23450868673244613\\nv3NN_model - Testset F1 Score: 0.18510128840197598\\n\\nExp 2 - numeric impute by mean\\nANN_Tina_model - Testset Accuracy: 0.23299603243382924\\nANN_Tina_model - Testset Precision: 0.25523461092186067\\nANN_Tina_model - Testset Recall: 0.23299603243382924\\nANN_Tina_model - Testset F1 Score: 0.1771727300559152\\n\\nExp 3 - numeric impute by mean, hidden layer = 3, epochs = 20\\nANN_T_model - Testset Accuracy: 0.24925076341771632\\nANN_T_model - Testset Precision: 0.27169378111302694\\nANN_T_model - Testset Recall: 0.24925076341771632\\nANN_T_model - Testset F1 Score: 0.19433751690507442\\n'"
      ]
     },
     "execution_count": 69,
     "metadata": {},
     "output_type": "execute_result"
    }
   ],
   "source": [
    "print_overall_model_metric(y_test_v3_encoded, y_test_v3_pred, 'ANN_T_model','Testset')"
   ]
  },
  {
   "cell_type": "code",
   "execution_count": 70,
   "metadata": {},
   "outputs": [
    {
     "name": "stdout",
     "output_type": "stream",
     "text": [
      "                                                    Precision  Recall  \\\n",
      "Class                                                                   \n",
      "support\\n\\n                         Hefeweizen ...       0.00    0.00   \n",
      "English Strong Ale                                       0.25    0.70   \n",
      "Foreign / Export Stout                                   0.25    0.10   \n",
      "German Pilsener                                          0.20    0.01   \n",
      "American Double / Imperial IPA                           0.25    0.32   \n",
      "...                                                       ...     ...   \n",
      "Happoshu                                                 0.00    0.00   \n",
      "Sahti                                                    0.33    0.10   \n",
      "Bière de Champagne / Bière Brut                          0.09    0.23   \n",
      "317323\\n                          macro avg              0.26    0.13   \n",
      "weighted avg                                             0.28    0.25   \n",
      "\n",
      "                                                    F1-Score   Support  \n",
      "Class                                                                   \n",
      "support\\n\\n                         Hefeweizen ...      0.00    1521.0  \n",
      "English Strong Ale                                      0.37    6085.0  \n",
      "Foreign / Export Stout                                  0.14    9288.0  \n",
      "German Pilsener                                         0.01    1887.0  \n",
      "American Double / Imperial IPA                          0.28    5390.0  \n",
      "...                                                      ...       ...  \n",
      "Happoshu                                                0.00     731.0  \n",
      "Sahti                                                   0.15    4130.0  \n",
      "Bière de Champagne / Bière Brut                         0.13    5896.0  \n",
      "317323\\n                          macro avg             0.13  317323.0  \n",
      "weighted avg                                            0.19  317323.0  \n",
      "\n",
      "[106 rows x 4 columns]\n",
      "                                                    Precision  Recall  \\\n",
      "Class                                                                   \n",
      "support\\n\\n                         Hefeweizen ...       0.00    0.00   \n",
      "English Strong Ale                                       0.25    0.70   \n",
      "Foreign / Export Stout                                   0.25    0.10   \n",
      "German Pilsener                                          0.20    0.01   \n",
      "American Double / Imperial IPA                           0.25    0.32   \n",
      "...                                                       ...     ...   \n",
      "Happoshu                                                 0.00    0.00   \n",
      "Sahti                                                    0.33    0.10   \n",
      "Bière de Champagne / Bière Brut                          0.09    0.23   \n",
      "317323\\n                          macro avg              0.26    0.13   \n",
      "weighted avg                                             0.28    0.25   \n",
      "\n",
      "                                                    F1-Score   Support  \n",
      "Class                                                                   \n",
      "support\\n\\n                         Hefeweizen ...      0.00    1521.0  \n",
      "English Strong Ale                                      0.37    6085.0  \n",
      "Foreign / Export Stout                                  0.14    9288.0  \n",
      "German Pilsener                                         0.01    1887.0  \n",
      "American Double / Imperial IPA                          0.28    5390.0  \n",
      "...                                                      ...       ...  \n",
      "Happoshu                                                0.00     731.0  \n",
      "Sahti                                                   0.15    4130.0  \n",
      "Bière de Champagne / Bière Brut                         0.13    5896.0  \n",
      "317323\\n                          macro avg             0.13  317323.0  \n",
      "weighted avg                                            0.19  317323.0  \n",
      "\n",
      "[106 rows x 4 columns]\n",
      "csv copy of the classification report is saved at ../data/external/df_clr_ANN_T_X_test_v3.csv\n"
     ]
    }
   ],
   "source": [
    "# Classification report\n",
    "df_classifcation_report(\n",
    "    y_encoded = y_test_v3_encoded, \n",
    "    y_prediction = y_test_v3_pred, \n",
    "    target_names = target_class,\n",
    "    filename = 'df_clr_ANN_T_X_test_v3.csv', \n",
    "    dest = external_folder_path\n",
    "    )"
   ]
  },
  {
   "cell_type": "code",
   "execution_count": 71,
   "metadata": {},
   "outputs": [
    {
     "data": {
      "text/plain": [
       "array(['American Double / Imperial IPA', 'Quadrupel (Quad)',\n",
       "       'American Pale Ale (APA)', ..., 'American IPA', 'American IPA',\n",
       "       'American Double / Imperial IPA'], dtype=object)"
      ]
     },
     "execution_count": 71,
     "metadata": {},
     "output_type": "execute_result"
    }
   ],
   "source": [
    "# Load the saved LabelEncoder\n",
    "label_encoder = joblib.load(model_folder_path+'ANN_T_label_encoder.joblib')\n",
    "\n",
    "# Revert the encoded labels back to their original text form\n",
    "y_test_v3_pred_decoded = label_encoder.inverse_transform(y_test_v3_pred)\n",
    "y_test_v3_pred_decoded"
   ]
  },
  {
   "attachments": {},
   "cell_type": "markdown",
   "metadata": {},
   "source": [
    "# Assemble back to df"
   ]
  },
  {
   "cell_type": "code",
   "execution_count": 72,
   "metadata": {},
   "outputs": [],
   "source": [
    "df_X_test_v3_unencoded = pd.read_pickle(interim_folder_path + 'df_X_test_v3_unencoded.pkl')\n",
    "df_X_test_v3_unencoded['prediction'] = y_test_v3_pred_decoded\n",
    "df_X_test_v3_unencoded.to_csv(external_folder_path+'df_X_test_v3_output.csv', index=True)"
   ]
  }
 ],
 "metadata": {
  "kernelspec": {
   "display_name": "Python 3",
   "language": "python",
   "name": "python3"
  },
  "language_info": {
   "codemirror_mode": {
    "name": "ipython",
    "version": 3
   },
   "file_extension": ".py",
   "mimetype": "text/x-python",
   "name": "python",
   "nbconvert_exporter": "python",
   "pygments_lexer": "ipython3",
   "version": "3.8.10"
  },
  "orig_nbformat": 4
 },
 "nbformat": 4,
 "nbformat_minor": 2
}
