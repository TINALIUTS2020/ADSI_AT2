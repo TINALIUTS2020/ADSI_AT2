{
 "cells": [
  {
   "cell_type": "markdown",
   "id": "df8338e1-5d57-4c53-aedf-b3e8ce2cb844",
   "metadata": {},
   "source": [
    "##Base Model XGBoost"
   ]
  },
  {
   "cell_type": "code",
   "execution_count": 1,
   "id": "93b14bfa-26c4-433c-8e91-2403c1af5d89",
   "metadata": {},
   "outputs": [],
   "source": [
    "# Preparing Notebook for experiment\n",
    "%load_ext autoreload\n",
    "%autoreload 2"
   ]
  },
  {
   "cell_type": "code",
   "execution_count": 2,
   "id": "0f850547-8ac5-48db-824e-c2e77126e355",
   "metadata": {},
   "outputs": [
    {
     "ename": "ModuleNotFoundError",
     "evalue": "No module named 'xgboost'",
     "output_type": "error",
     "traceback": [
      "\u001b[0;31m---------------------------------------------------------------------------\u001b[0m",
      "\u001b[0;31mModuleNotFoundError\u001b[0m                       Traceback (most recent call last)",
      "\u001b[0;32m/var/folders/0k/1wzhbsdn1qg5rjtbbrf6008h0000gn/T/ipykernel_42954/3572671095.py\u001b[0m in \u001b[0;36m<module>\u001b[0;34m\u001b[0m\n\u001b[1;32m      2\u001b[0m \u001b[0;32mimport\u001b[0m \u001b[0mpandas\u001b[0m \u001b[0;32mas\u001b[0m \u001b[0mpd\u001b[0m\u001b[0;34m\u001b[0m\u001b[0;34m\u001b[0m\u001b[0m\n\u001b[1;32m      3\u001b[0m \u001b[0;32mimport\u001b[0m \u001b[0mnumpy\u001b[0m \u001b[0;32mas\u001b[0m \u001b[0mnp\u001b[0m\u001b[0;34m\u001b[0m\u001b[0;34m\u001b[0m\u001b[0m\n\u001b[0;32m----> 4\u001b[0;31m \u001b[0;32mimport\u001b[0m \u001b[0mxgboost\u001b[0m \u001b[0;32mas\u001b[0m \u001b[0mxgb\u001b[0m\u001b[0;34m\u001b[0m\u001b[0;34m\u001b[0m\u001b[0m\n\u001b[0m\u001b[1;32m      5\u001b[0m \u001b[0;32mfrom\u001b[0m \u001b[0msklearn\u001b[0m\u001b[0;34m.\u001b[0m\u001b[0mmodel_selection\u001b[0m \u001b[0;32mimport\u001b[0m \u001b[0mGridSearchCV\u001b[0m\u001b[0;34m\u001b[0m\u001b[0;34m\u001b[0m\u001b[0m\n\u001b[1;32m      6\u001b[0m \u001b[0;32mfrom\u001b[0m \u001b[0mimblearn\u001b[0m\u001b[0;34m.\u001b[0m\u001b[0mover_sampling\u001b[0m \u001b[0;32mimport\u001b[0m \u001b[0mSMOTE\u001b[0m\u001b[0;34m\u001b[0m\u001b[0;34m\u001b[0m\u001b[0m\n",
      "\u001b[0;31mModuleNotFoundError\u001b[0m: No module named 'xgboost'"
     ]
    }
   ],
   "source": [
    "# Importing Packages\n",
    "import pandas as pd\n",
    "import numpy as np\n",
    "import xgboost as xgb\n",
    "from sklearn.model_selection import GridSearchCV\n",
    "from imblearn.over_sampling import SMOTE\n",
    "from joblib import dump "
   ]
  },
  {
   "cell_type": "code",
   "execution_count": null,
   "id": "f438f586-a8cb-435b-96f8-9c95c43327e8",
   "metadata": {},
   "outputs": [],
   "source": [
    "# Getting data\n",
    "from src.data.sets import load_sets\n",
    "X_train, y_train, X_val, y_val, X_test, y_test = load_sets(path='../data/processed/')\n"
   ]
  },
  {
   "cell_type": "code",
   "execution_count": null,
   "id": "60866c7d-ce10-447a-8ea1-5af6612f3018",
   "metadata": {},
   "outputs": [],
   "source": [
    "# Convert the data to DMatrix format\n",
    "dtrain = xgb.DMatrix(X_train_res, label=y_train_res)\n",
    "dval = xgb.DMatrix(X_val_res, label=y_val_res)\n",
    "dtest = xgb.DMatrix(X_test, label=y_test)"
   ]
  },
  {
   "cell_type": "code",
   "execution_count": null,
   "id": "21567e8d-4b11-4b78-a068-8e39b28f7c2e",
   "metadata": {},
   "outputs": [],
   "source": [
    "# Defining parameters for grid search\n",
    "params = {\n",
    "    'objective': ['binary:logistic'],\n",
    "    'eval_metric': ['logloss'],\n",
    "    'max_depth': [3, 4, 5],\n",
    "    'learning_rate': [0.1, 0.01, 0.001],\n",
    "    'subsample': [0.8, 0.9],\n",
    "    'colsample_bytree': [0.8, 0.9]\n",
    "}"
   ]
  },
  {
   "cell_type": "code",
   "execution_count": null,
   "id": "a683d5a7-48c1-4269-b8a3-6686d1e9f7d7",
   "metadata": {},
   "outputs": [],
   "source": [
    "# Perform grid search\n",
    "grid_search = GridSearchCV(xgb_model, params, scoring='accuracy', cv=5)\n",
    "grid_search.fit(X_train, y_train)"
   ]
  },
  {
   "cell_type": "code",
   "execution_count": null,
   "id": "2fbaed78-192a-4803-97d0-694cc053b908",
   "metadata": {},
   "outputs": [],
   "source": [
    "# Get the best model and its parameters\n",
    "best_model = grid_search.best_estimator_\n",
    "best_params = grid_search.best_params_\n",
    "print(\"Best Parameters:\", best_params)"
   ]
  },
  {
   "cell_type": "code",
   "execution_count": null,
   "id": "609aa9c8-4380-4a17-b3a2-6d2127f1a4cf",
   "metadata": {},
   "outputs": [],
   "source": [
    "# Train the best model\n",
    "base_mod = best_model.fit(X_train, y_train)"
   ]
  },
  {
   "cell_type": "code",
   "execution_count": null,
   "id": "05168b76-9046-4173-94b5-825439955c6b",
   "metadata": {},
   "outputs": [],
   "source": [
    "# Analytics\n",
    "from src.models.performance import evaluate_model\n",
    "evaluate_model(base_mod, X_val, y_val)"
   ]
  },
  {
   "cell_type": "code",
   "execution_count": null,
   "id": "4829cea8-fc7f-4c5c-8c9c-92387e2d28f3",
   "metadata": {},
   "outputs": [],
   "source": [
    "# Saving Model\n",
    "dump(base_mod,  '../models/base_mod_Marco.joblib')"
   ]
  },
  {
   "cell_type": "code",
   "execution_count": null,
   "id": "5786df59-39b2-4697-8ea5-b90cfea0308d",
   "metadata": {},
   "outputs": [],
   "source": []
  },
  {
   "cell_type": "code",
   "execution_count": null,
   "id": "c3cea356-c9b5-4d93-89c7-98af07125a46",
   "metadata": {},
   "outputs": [],
   "source": []
  }
 ],
 "metadata": {
  "kernelspec": {
   "display_name": "Python 3 (ipykernel)",
   "language": "python",
   "name": "python3"
  },
  "language_info": {
   "codemirror_mode": {
    "name": "ipython",
    "version": 3
   },
   "file_extension": ".py",
   "mimetype": "text/x-python",
   "name": "python",
   "nbconvert_exporter": "python",
   "pygments_lexer": "ipython3",
   "version": "3.9.13"
  }
 },
 "nbformat": 4,
 "nbformat_minor": 5
}
