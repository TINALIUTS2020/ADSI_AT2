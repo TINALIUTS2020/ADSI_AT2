{
 "cells": [
  {
   "cell_type": "markdown",
   "metadata": {},
   "source": [
    "This is to run performance metric (Accuracy) from the final model file."
   ]
  },
  {
   "cell_type": "code",
   "execution_count": 1,
   "metadata": {},
   "outputs": [],
   "source": [
    "%load_ext autoreload\n",
    "%autoreload 2"
   ]
  },
  {
   "cell_type": "code",
   "execution_count": 2,
   "metadata": {},
   "outputs": [
    {
     "name": "stdout",
     "output_type": "stream",
     "text": [
      "Current workpath: /home/dev/notebooks\n",
      "Parent_folder: /home/dev\n",
      "/home/dev/src\n"
     ]
    }
   ],
   "source": [
    "# for Tina machine only, to import .py from src/ds/\n",
    "import os\n",
    "current_workpath = os.getcwd()\n",
    "print(\"Current workpath:\", current_workpath)\n",
    "\n",
    "parent_folder = os.path.dirname(current_workpath)\n",
    "print(\"Parent_folder:\", parent_folder)\n",
    "\n",
    "import sys\n",
    "sys.path.append(parent_folder+'/src')\n",
    "print(sys.path[-1])"
   ]
  },
  {
   "cell_type": "code",
   "execution_count": 3,
   "metadata": {},
   "outputs": [],
   "source": [
    "rawfile_name = 'beer_reviews'\n",
    "rawfile_format = '.csv'\n",
    "rawfile_path = \"../data/raw/\"\n",
    "\n",
    "interim_folder_path = \"../data/interim/\"\n",
    "processed_folder_path  =\"../data/processed/\"\n",
    "external_folder_path  =\"../data/external/\"\n",
    "model_folder_path = \"../models/\""
   ]
  },
  {
   "cell_type": "markdown",
   "metadata": {},
   "source": [
    "# Create the split datasets"
   ]
  },
  {
   "cell_type": "code",
   "execution_count": 4,
   "metadata": {},
   "outputs": [
    {
     "name": "stderr",
     "output_type": "stream",
     "text": [
      "2023-07-12 13:22:30.042084: I tensorflow/core/util/port.cc:110] oneDNN custom operations are on. You may see slightly different numerical results due to floating-point round-off errors from different computation orders. To turn them off, set the environment variable `TF_ENABLE_ONEDNN_OPTS=0`.\n",
      "2023-07-12 13:22:30.083288: I tensorflow/core/platform/cpu_feature_guard.cc:182] This TensorFlow binary is optimized to use available CPU instructions in performance-critical operations.\n",
      "To enable the following instructions: AVX2 AVX512F AVX512_VNNI FMA, in other operations, rebuild TensorFlow with the appropriate compiler flags.\n"
     ]
    }
   ],
   "source": [
    "import pandas as pd\n",
    "import numpy as np\n",
    "import joblib\n",
    "import tensorflow as tf"
   ]
  },
  {
   "cell_type": "code",
   "execution_count": 13,
   "metadata": {},
   "outputs": [],
   "source": [
    "datasets = joblib.load(\"../data/processed/datasetsjmone\")"
   ]
  },
  {
   "cell_type": "markdown",
   "metadata": {},
   "source": [
    "# Preprocess the data"
   ]
  },
  {
   "cell_type": "code",
   "execution_count": 14,
   "metadata": {},
   "outputs": [],
   "source": [
    "drops = [\n",
    "    \"review_overall\",\n",
    "    \"beer_name\",\n",
    "]\n",
    "for data in datasets:\n",
    "    if isinstance(data, pd.DataFrame):\n",
    "        for column in drops:\n",
    "            if column in data.columns:\n",
    "                data.drop(columns=column, inplace=True)"
   ]
  },
  {
   "cell_type": "code",
   "execution_count": 15,
   "metadata": {},
   "outputs": [],
   "source": [
    "x_train, y_train, x_test, y_test, x_validation, y_validation = datasets"
   ]
  },
  {
   "cell_type": "code",
   "execution_count": 17,
   "metadata": {},
   "outputs": [],
   "source": [
    "x_train = x_train.fillna(-9)\n",
    "x_test = x_test.fillna(-9)"
   ]
  },
  {
   "cell_type": "code",
   "execution_count": 21,
   "metadata": {},
   "outputs": [],
   "source": [
    "df_train = x_train\n",
    "y_train = y_train\n",
    "y_train_vocab = sorted(set(y_train))"
   ]
  },
  {
   "cell_type": "code",
   "execution_count": 22,
   "metadata": {},
   "outputs": [],
   "source": [
    "df_test = x_test\n",
    "y_test = y_test\n",
    "y_test_vocab = sorted(set(y_test))"
   ]
  },
  {
   "cell_type": "code",
   "execution_count": null,
   "metadata": {},
   "outputs": [],
   "source": [
    "target_lookup_train = tf.keras.layers.StringLookup(vocabulary=y_train_vocab, output_mode='one_hot')"
   ]
  },
  {
   "cell_type": "code",
   "execution_count": null,
   "metadata": {},
   "outputs": [],
   "source": [
    "target_lookup_test = tf.keras.layers.StringLookup(vocabulary=y_test_vocab, output_mode='one_hot')"
   ]
  },
  {
   "cell_type": "markdown",
   "metadata": {},
   "source": [
    "# load the model"
   ]
  },
  {
   "cell_type": "code",
   "execution_count": 5,
   "metadata": {},
   "outputs": [
    {
     "name": "stderr",
     "output_type": "stream",
     "text": [
      "2023-07-12 13:22:32.428227: E tensorflow/compiler/xla/stream_executor/cuda/cuda_driver.cc:266] failed call to cuInit: UNKNOWN ERROR (34)\n"
     ]
    },
    {
     "name": "stdout",
     "output_type": "stream",
     "text": [
      "Model: \"model_1\"\n",
      "__________________________________________________________________________________________________\n",
      " Layer (type)                   Output Shape         Param #     Connected to                     \n",
      "==================================================================================================\n",
      " beer_abv (InputLayer)          [(None,)]            0           []                               \n",
      "                                                                                                  \n",
      " brewery_name (InputLayer)      [(None,)]            0           []                               \n",
      "                                                                                                  \n",
      " review_appearance (InputLayer)  [(None,)]           0           []                               \n",
      "                                                                                                  \n",
      " review_aroma (InputLayer)      [(None,)]            0           []                               \n",
      "                                                                                                  \n",
      " review_palate (InputLayer)     [(None,)]            0           []                               \n",
      "                                                                                                  \n",
      " review_taste (InputLayer)      [(None,)]            0           []                               \n",
      "                                                                                                  \n",
      " model (Functional)             (None, 5863)         11          ['beer_abv[0][0]',               \n",
      "                                                                  'brewery_name[0][0]',           \n",
      "                                                                  'review_appearance[0][0]',      \n",
      "                                                                  'review_aroma[0][0]',           \n",
      "                                                                  'review_palate[0][0]',          \n",
      "                                                                  'review_taste[0][0]']           \n",
      "                                                                                                  \n",
      " sequential (Sequential)        (None, 105)          27361897    ['model[0][0]']                  \n",
      "                                                                                                  \n",
      "==================================================================================================\n",
      "Total params: 27,361,908\n",
      "Trainable params: 27,347,561\n",
      "Non-trainable params: 14,347\n",
      "__________________________________________________________________________________________________\n"
     ]
    }
   ],
   "source": [
    "# Load the Keras model\n",
    "final_model = tf.keras.models.load_model(model_folder_path+'goodmod_13/')\n",
    "\n",
    "# Access the model's summary\n",
    "final_model.summary()\n"
   ]
  },
  {
   "cell_type": "code",
   "execution_count": 6,
   "metadata": {},
   "outputs": [
    {
     "data": {
      "image/png": "[encoded data removed]",
      "text/plain": [
       "<IPython.core.display.Image object>"
      ]
     },
     "execution_count": 6,
     "metadata": {},
     "output_type": "execute_result"
    }
   ],
   "source": [
    "from tensorflow.keras.utils import plot_model\n",
    "plot_model(final_model, to_file='model_architecture.png', show_shapes=True, show_layer_names=True)"
   ]
  },
  {
   "cell_type": "markdown",
   "metadata": {},
   "source": [
    "# On Train Set"
   ]
  },
  {
   "cell_type": "code",
   "execution_count": 24,
   "metadata": {},
   "outputs": [
    {
     "name": "stdout",
     "output_type": "stream",
     "text": [
      "   11/42549 [..............................] - ETA: 8:36  "
     ]
    },
    {
     "name": "stderr",
     "output_type": "stream",
     "text": [
      "2023-07-12 11:22:22.955341: I tensorflow/compiler/xla/stream_executor/cuda/cuda_blas.cc:637] TensorFloat-32 will be used for the matrix multiplication. This will only be logged once.\n"
     ]
    },
    {
     "name": "stdout",
     "output_type": "stream",
     "text": [
      "42549/42549 [==============================] - 953s 22ms/step\n"
     ]
    }
   ],
   "source": [
    "y_train_v3_pred_probs = final_model.predict(dict(df_train))"
   ]
  },
  {
   "cell_type": "code",
   "execution_count": 42,
   "metadata": {},
   "outputs": [],
   "source": [
    "pred_decode_train= tf.keras.layers.StringLookup(vocabulary=y_train_vocab , invert=True)\n",
    "pred_train_ = tf.argmax(y_train_v3_pred_probs, axis=-1)\n",
    "pred_train = pred_decode_train(pred_train_)\n",
    "pred_train__ = np.array([x.decode('utf-8') for x in pred_train.numpy()])"
   ]
  },
  {
   "cell_type": "code",
   "execution_count": 59,
   "metadata": {},
   "outputs": [
    {
     "name": "stdout",
     "output_type": "stream",
     "text": [
      "Training accuracy: 0.8357455315698555\n"
     ]
    }
   ],
   "source": [
    "import numpy as np\n",
    "from sklearn.metrics import accuracy_score\n",
    "from sklearn.preprocessing import MultiLabelBinarizer\n",
    "\n",
    "# Convert tensors to numpy arrays\n",
    "y_train_arr = np.array(y_train)\n",
    "pred_train_arr = pred_train__\n",
    "\n",
    "# Convert y_train and pred_train to binary arrays\n",
    "mlb = MultiLabelBinarizer()\n",
    "y_train_bin = mlb.fit_transform(y_train_arr)\n",
    "pred_train_bin = mlb.transform(pred_train_arr)\n",
    "\n",
    "# Calculate the accuracy score\n",
    "train_accuracy = accuracy_score(y_train_bin, pred_train_bin)\n",
    "print(\"Training accuracy:\", train_accuracy)\n"
   ]
  },
  {
   "cell_type": "markdown",
   "metadata": {},
   "source": [
    "# On Test Set"
   ]
  },
  {
   "cell_type": "code",
   "execution_count": 66,
   "metadata": {},
   "outputs": [
    {
     "name": "stdout",
     "output_type": "stream",
     "text": [
      "5319/5319 [==============================] - 27s 5ms/step\n"
     ]
    }
   ],
   "source": [
    "y_test_v3_pred_probs = final_model.predict(dict(df_test))"
   ]
  },
  {
   "cell_type": "code",
   "execution_count": 67,
   "metadata": {},
   "outputs": [],
   "source": [
    "pred_decode_test= tf.keras.layers.StringLookup(vocabulary=y_test_vocab , invert=True)\n",
    "pred_test_ = tf.argmax(y_test_v3_pred_probs, axis=-1)\n",
    "pred_test = pred_decode_test(pred_test_)\n",
    "pred_test__ = np.array([x.decode('utf-8') for x in pred_test.numpy()])"
   ]
  },
  {
   "cell_type": "code",
   "execution_count": 68,
   "metadata": {},
   "outputs": [
    {
     "name": "stdout",
     "output_type": "stream",
     "text": [
      "Test accuracy: 0.785732752035912\n"
     ]
    }
   ],
   "source": [
    "y_test_arr = np.array(y_test)\n",
    "pred_test_arr = pred_test__\n",
    "\n",
    "mlb = MultiLabelBinarizer()\n",
    "y_test_bin = mlb.fit_transform(y_test_arr)\n",
    "pred_test_bin = mlb.transform(pred_test_arr)\n",
    "\n",
    "\n",
    "test_accuracy = accuracy_score(y_test_bin, pred_test_bin)\n",
    "print(\"Test accuracy:\", test_accuracy)\n"
   ]
  }
 ],
 "metadata": {
  "kernelspec": {
   "display_name": "Python 3",
   "language": "python",
   "name": "python3"
  },
  "language_info": {
   "codemirror_mode": {
    "name": "ipython",
    "version": 3
   },
   "file_extension": ".py",
   "mimetype": "text/x-python",
   "name": "python",
   "nbconvert_exporter": "python",
   "pygments_lexer": "ipython3",
   "version": "3.8.10"
  },
  "orig_nbformat": 4
 },
 "nbformat": 4,
 "nbformat_minor": 2
}
