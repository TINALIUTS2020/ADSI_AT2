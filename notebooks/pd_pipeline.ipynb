{
 "cells": [
  {
   "cell_type": "code",
   "execution_count": 38,
   "metadata": {},
   "outputs": [
    {
     "name": "stdout",
     "output_type": "stream",
     "text": [
      "The autoreload extension is already loaded. To reload it, use:\n",
      "  %reload_ext autoreload\n"
     ]
    }
   ],
   "source": [
    "%load_ext autoreload\n",
    "%autoreload 2"
   ]
  },
  {
   "cell_type": "code",
   "execution_count": 52,
   "metadata": {},
   "outputs": [],
   "source": [
    "from ds.data.sets import save_sets_v2\n",
    "\n",
    "import re\n",
    "import joblib\n",
    "import pandas as pd\n",
    "import numpy as np\n",
    "\n",
    "from sklearn.model_selection import train_test_split"
   ]
  },
  {
   "cell_type": "code",
   "execution_count": 40,
   "metadata": {},
   "outputs": [],
   "source": [
    "random_state = 55"
   ]
  },
  {
   "attachments": {},
   "cell_type": "markdown",
   "metadata": {},
   "source": [
    "# Read Data"
   ]
  },
  {
   "cell_type": "code",
   "execution_count": 41,
   "metadata": {},
   "outputs": [],
   "source": [
    "df = pd.read_csv(\"../data/raw/beer_reviews.csv\")"
   ]
  },
  {
   "attachments": {},
   "cell_type": "markdown",
   "metadata": {},
   "source": [
    "- brewery_name: Union[str, None] = Field(default=None, description=\"Name of brewery\", max_length=100)\n",
    "- review_aroma: Union[float, None] = Field(default=None, description=\"How good does the beer smell\", ge=1, le=5)\n",
    "- review_appearance: Union[float, None] = Field(default=None, description=\"How good does the beer look\", ge=1, le=5)\n",
    "- review_palate: Union[float, None] = Field(default=None, description=\"Something else to do with taste?\", ge=1, le=5)\n",
    "- review_taste: Union[float, None] = Field(default=None, description=\"How good does the beer taste?\", ge=1, le=5)\n",
    "- beer_abv: Union[float, None] = Field(default=None, description=\"Alchohol by volume\", ge=1, le=5)"
   ]
  },
  {
   "attachments": {},
   "cell_type": "markdown",
   "metadata": {},
   "source": [
    "# Drop Uneeded Cols"
   ]
  },
  {
   "cell_type": "code",
   "execution_count": 42,
   "metadata": {},
   "outputs": [
    {
     "data": {
      "text/html": [
       "<div>\n",
       "<style scoped>\n",
       "    .dataframe tbody tr th:only-of-type {\n",
       "        vertical-align: middle;\n",
       "    }\n",
       "\n",
       "    .dataframe tbody tr th {\n",
       "        vertical-align: top;\n",
       "    }\n",
       "\n",
       "    .dataframe thead th {\n",
       "        text-align: right;\n",
       "    }\n",
       "</style>\n",
       "<table border=\"1\" class=\"dataframe\">\n",
       "  <thead>\n",
       "    <tr style=\"text-align: right;\">\n",
       "      <th></th>\n",
       "      <th>brewery_name</th>\n",
       "      <th>review_overall</th>\n",
       "      <th>review_aroma</th>\n",
       "      <th>review_appearance</th>\n",
       "      <th>beer_style</th>\n",
       "      <th>review_palate</th>\n",
       "      <th>review_taste</th>\n",
       "      <th>beer_name</th>\n",
       "      <th>beer_abv</th>\n",
       "    </tr>\n",
       "  </thead>\n",
       "  <tbody>\n",
       "    <tr>\n",
       "      <th>0</th>\n",
       "      <td>Vecchio Birraio</td>\n",
       "      <td>1.5</td>\n",
       "      <td>2.0</td>\n",
       "      <td>2.5</td>\n",
       "      <td>Hefeweizen</td>\n",
       "      <td>1.5</td>\n",
       "      <td>1.5</td>\n",
       "      <td>Sausa Weizen</td>\n",
       "      <td>5.0</td>\n",
       "    </tr>\n",
       "    <tr>\n",
       "      <th>1</th>\n",
       "      <td>Vecchio Birraio</td>\n",
       "      <td>3.0</td>\n",
       "      <td>2.5</td>\n",
       "      <td>3.0</td>\n",
       "      <td>English Strong Ale</td>\n",
       "      <td>3.0</td>\n",
       "      <td>3.0</td>\n",
       "      <td>Red Moon</td>\n",
       "      <td>6.2</td>\n",
       "    </tr>\n",
       "    <tr>\n",
       "      <th>2</th>\n",
       "      <td>Vecchio Birraio</td>\n",
       "      <td>3.0</td>\n",
       "      <td>2.5</td>\n",
       "      <td>3.0</td>\n",
       "      <td>Foreign / Export Stout</td>\n",
       "      <td>3.0</td>\n",
       "      <td>3.0</td>\n",
       "      <td>Black Horse Black Beer</td>\n",
       "      <td>6.5</td>\n",
       "    </tr>\n",
       "    <tr>\n",
       "      <th>3</th>\n",
       "      <td>Vecchio Birraio</td>\n",
       "      <td>3.0</td>\n",
       "      <td>3.0</td>\n",
       "      <td>3.5</td>\n",
       "      <td>German Pilsener</td>\n",
       "      <td>2.5</td>\n",
       "      <td>3.0</td>\n",
       "      <td>Sausa Pils</td>\n",
       "      <td>5.0</td>\n",
       "    </tr>\n",
       "    <tr>\n",
       "      <th>4</th>\n",
       "      <td>Caldera Brewing Company</td>\n",
       "      <td>4.0</td>\n",
       "      <td>4.5</td>\n",
       "      <td>4.0</td>\n",
       "      <td>American Double / Imperial IPA</td>\n",
       "      <td>4.0</td>\n",
       "      <td>4.5</td>\n",
       "      <td>Cauldron DIPA</td>\n",
       "      <td>7.7</td>\n",
       "    </tr>\n",
       "    <tr>\n",
       "      <th>...</th>\n",
       "      <td>...</td>\n",
       "      <td>...</td>\n",
       "      <td>...</td>\n",
       "      <td>...</td>\n",
       "      <td>...</td>\n",
       "      <td>...</td>\n",
       "      <td>...</td>\n",
       "      <td>...</td>\n",
       "      <td>...</td>\n",
       "    </tr>\n",
       "    <tr>\n",
       "      <th>1586609</th>\n",
       "      <td>The Defiant Brewing Company</td>\n",
       "      <td>5.0</td>\n",
       "      <td>4.0</td>\n",
       "      <td>3.5</td>\n",
       "      <td>Pumpkin Ale</td>\n",
       "      <td>4.0</td>\n",
       "      <td>4.0</td>\n",
       "      <td>The Horseman's Ale</td>\n",
       "      <td>5.2</td>\n",
       "    </tr>\n",
       "    <tr>\n",
       "      <th>1586610</th>\n",
       "      <td>The Defiant Brewing Company</td>\n",
       "      <td>4.0</td>\n",
       "      <td>5.0</td>\n",
       "      <td>2.5</td>\n",
       "      <td>Pumpkin Ale</td>\n",
       "      <td>2.0</td>\n",
       "      <td>4.0</td>\n",
       "      <td>The Horseman's Ale</td>\n",
       "      <td>5.2</td>\n",
       "    </tr>\n",
       "    <tr>\n",
       "      <th>1586611</th>\n",
       "      <td>The Defiant Brewing Company</td>\n",
       "      <td>4.5</td>\n",
       "      <td>3.5</td>\n",
       "      <td>3.0</td>\n",
       "      <td>Pumpkin Ale</td>\n",
       "      <td>3.5</td>\n",
       "      <td>4.0</td>\n",
       "      <td>The Horseman's Ale</td>\n",
       "      <td>5.2</td>\n",
       "    </tr>\n",
       "    <tr>\n",
       "      <th>1586612</th>\n",
       "      <td>The Defiant Brewing Company</td>\n",
       "      <td>4.0</td>\n",
       "      <td>4.5</td>\n",
       "      <td>4.5</td>\n",
       "      <td>Pumpkin Ale</td>\n",
       "      <td>4.5</td>\n",
       "      <td>4.5</td>\n",
       "      <td>The Horseman's Ale</td>\n",
       "      <td>5.2</td>\n",
       "    </tr>\n",
       "    <tr>\n",
       "      <th>1586613</th>\n",
       "      <td>The Defiant Brewing Company</td>\n",
       "      <td>5.0</td>\n",
       "      <td>4.5</td>\n",
       "      <td>4.5</td>\n",
       "      <td>Pumpkin Ale</td>\n",
       "      <td>4.5</td>\n",
       "      <td>4.5</td>\n",
       "      <td>The Horseman's Ale</td>\n",
       "      <td>5.2</td>\n",
       "    </tr>\n",
       "  </tbody>\n",
       "</table>\n",
       "<p>1586614 rows × 9 columns</p>\n",
       "</div>"
      ],
      "text/plain": [
       "                        brewery_name  review_overall  review_aroma  \\\n",
       "0                    Vecchio Birraio             1.5           2.0   \n",
       "1                    Vecchio Birraio             3.0           2.5   \n",
       "2                    Vecchio Birraio             3.0           2.5   \n",
       "3                    Vecchio Birraio             3.0           3.0   \n",
       "4            Caldera Brewing Company             4.0           4.5   \n",
       "...                              ...             ...           ...   \n",
       "1586609  The Defiant Brewing Company             5.0           4.0   \n",
       "1586610  The Defiant Brewing Company             4.0           5.0   \n",
       "1586611  The Defiant Brewing Company             4.5           3.5   \n",
       "1586612  The Defiant Brewing Company             4.0           4.5   \n",
       "1586613  The Defiant Brewing Company             5.0           4.5   \n",
       "\n",
       "         review_appearance                      beer_style  review_palate  \\\n",
       "0                      2.5                      Hefeweizen            1.5   \n",
       "1                      3.0              English Strong Ale            3.0   \n",
       "2                      3.0          Foreign / Export Stout            3.0   \n",
       "3                      3.5                 German Pilsener            2.5   \n",
       "4                      4.0  American Double / Imperial IPA            4.0   \n",
       "...                    ...                             ...            ...   \n",
       "1586609                3.5                     Pumpkin Ale            4.0   \n",
       "1586610                2.5                     Pumpkin Ale            2.0   \n",
       "1586611                3.0                     Pumpkin Ale            3.5   \n",
       "1586612                4.5                     Pumpkin Ale            4.5   \n",
       "1586613                4.5                     Pumpkin Ale            4.5   \n",
       "\n",
       "         review_taste               beer_name  beer_abv  \n",
       "0                 1.5            Sausa Weizen       5.0  \n",
       "1                 3.0                Red Moon       6.2  \n",
       "2                 3.0  Black Horse Black Beer       6.5  \n",
       "3                 3.0              Sausa Pils       5.0  \n",
       "4                 4.5           Cauldron DIPA       7.7  \n",
       "...               ...                     ...       ...  \n",
       "1586609           4.0      The Horseman's Ale       5.2  \n",
       "1586610           4.0      The Horseman's Ale       5.2  \n",
       "1586611           4.0      The Horseman's Ale       5.2  \n",
       "1586612           4.5      The Horseman's Ale       5.2  \n",
       "1586613           4.5      The Horseman's Ale       5.2  \n",
       "\n",
       "[1586614 rows x 9 columns]"
      ]
     },
     "execution_count": 42,
     "metadata": {},
     "output_type": "execute_result"
    }
   ],
   "source": [
    "drops = [\n",
    "    \"brewery_id\",\n",
    "    \"review_time\",\n",
    "    \"review_profilename\",\n",
    "    \"beer_beerid\"\n",
    "]\n",
    "df = df.drop(columns=drops)\n",
    "df"
   ]
  },
  {
   "attachments": {},
   "cell_type": "markdown",
   "metadata": {},
   "source": [
    "# Drop NA brewerys"
   ]
  },
  {
   "cell_type": "code",
   "execution_count": 43,
   "metadata": {},
   "outputs": [],
   "source": [
    "df =  df.loc[~df[\"brewery_name\"].isna(),:]"
   ]
  },
  {
   "attachments": {},
   "cell_type": "markdown",
   "metadata": {},
   "source": [
    "# Drop values outside of api data validation from all"
   ]
  },
  {
   "cell_type": "code",
   "execution_count": 44,
   "metadata": {},
   "outputs": [],
   "source": [
    "num_cols = [\n",
    "    \"review_overall\",\n",
    "    \"review_aroma\",\n",
    "    \"review_appearance\",\n",
    "    \"review_palate\",\n",
    "    \"review_taste\",\n",
    "]\n",
    "for col in num_cols:\n",
    "    df.loc[df[col]<1,col] = np.nan\n",
    "    df.loc[df[col]>5,col] = np.nan"
   ]
  },
  {
   "cell_type": "code",
   "execution_count": 45,
   "metadata": {},
   "outputs": [],
   "source": [
    "string_cols = [\n",
    "    \"brewery_name\",\n",
    "    \"beer_style\",\n",
    "    \"beer_name\"\n",
    "]\n",
    "for col in string_cols:\n",
    "    df.loc[:,col] = df.loc[:,col].str.lower().str.strip()\n",
    "    df.loc[:,col] = df.loc[:,col].str.normalize('NFKD').str.encode('ascii', errors='ignore').str.decode('utf-8')\n",
    "    df.loc[:,col] = df.loc[:,col].str.replace(r\"[^\\w\\s\\d/]\", \"\", regex=True)\n",
    "    df.loc[:,col] = df.loc[:,col].str.replace(r\"\\s+\", \" \", regex=True)\n"
   ]
  },
  {
   "attachments": {},
   "cell_type": "markdown",
   "metadata": {},
   "source": [
    "# Split Multiple Brewery entries and append <- keeps multiple entries"
   ]
  },
  {
   "cell_type": "code",
   "execution_count": 46,
   "metadata": {},
   "outputs": [],
   "source": [
    "# explode multi brewary name and add back\n",
    "multi_brewery = df[\"brewery_name\"].str.split(\" / \")\n",
    "multi_brewery = df.loc[multi_brewery.str.len()>1,:]\n",
    "multi_brewery.loc[:,\"brewery_name\"] = multi_brewery.loc[:,\"brewery_name\"].str.split(\" / \")\n",
    "multi_brewery = multi_brewery.explode(\"brewery_name\")"
   ]
  },
  {
   "cell_type": "code",
   "execution_count": 47,
   "metadata": {},
   "outputs": [],
   "source": [
    "df = pd.concat([df, multi_brewery])"
   ]
  },
  {
   "attachments": {},
   "cell_type": "markdown",
   "metadata": {},
   "source": [
    "# Extract Outcome"
   ]
  },
  {
   "cell_type": "code",
   "execution_count": 48,
   "metadata": {},
   "outputs": [],
   "source": [
    "target = df.pop(\"beer_style\")"
   ]
  },
  {
   "attachments": {},
   "cell_type": "markdown",
   "metadata": {},
   "source": [
    "# Create Splits"
   ]
  },
  {
   "cell_type": "code",
   "execution_count": 49,
   "metadata": {},
   "outputs": [],
   "source": [
    "x_train, x_test, y_train, y_test = train_test_split(df, target, test_size=0.2, stratify=target, random_state=random_state)\n",
    "x_test, x_validation, y_test, y_validation = train_test_split(x_test, y_test, test_size=0.5, stratify=y_test, random_state=random_state)"
   ]
  },
  {
   "attachments": {},
   "cell_type": "markdown",
   "metadata": {},
   "source": [
    "# Drop bad values from train and test"
   ]
  },
  {
   "cell_type": "code",
   "execution_count": 50,
   "metadata": {},
   "outputs": [],
   "source": [
    "# drop abv > 19\n",
    "x_train.loc[x_train[\"beer_abv\"]>19,\"beer_abv\"] = np.nan\n",
    "x_test.loc[x_test[\"beer_abv\"]>19,\"beer_abv\"] = np.nan"
   ]
  },
  {
   "attachments": {},
   "cell_type": "markdown",
   "metadata": {},
   "source": [
    "# Drop values outside of api data validation from all"
   ]
  },
  {
   "cell_type": "code",
   "execution_count": 53,
   "metadata": {},
   "outputs": [
    {
     "data": {
      "text/plain": [
       "['../data/processed/datasetsjmone']"
      ]
     },
     "execution_count": 53,
     "metadata": {},
     "output_type": "execute_result"
    }
   ],
   "source": [
    "datasets = [\n",
    "    x_train,\n",
    "    y_train,\n",
    "    x_test,\n",
    "    y_test,\n",
    "    x_validation,\n",
    "    y_validation,\n",
    "]\n",
    "joblib.dump(datasets, \"../data/processed/datasetsjmone\")"
   ]
  }
 ],
 "metadata": {
  "kernelspec": {
   "display_name": "Python 3",
   "language": "python",
   "name": "python3"
  },
  "language_info": {
   "codemirror_mode": {
    "name": "ipython",
    "version": 3
   },
   "file_extension": ".py",
   "mimetype": "text/x-python",
   "name": "python",
   "nbconvert_exporter": "python",
   "pygments_lexer": "ipython3",
   "version": "3.8.10"
  },
  "orig_nbformat": 4
 },
 "nbformat": 4,
 "nbformat_minor": 2
}
