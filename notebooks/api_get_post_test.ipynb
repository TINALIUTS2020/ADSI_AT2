{
 "cells": [
  {
   "cell_type": "markdown",
   "metadata": {},
   "source": [
    "This is to test API from \n",
    "https://adsi-attwo-utsthree-948e3d990e02.herokuapp.com/"
   ]
  },
  {
   "cell_type": "markdown",
   "metadata": {},
   "source": [
    "# Setup parameters"
   ]
  },
  {
   "cell_type": "code",
   "execution_count": 1,
   "metadata": {},
   "outputs": [],
   "source": [
    "baseURL = 'https://adsi-attwo-utsthree-948e3d990e02.herokuapp.com'"
   ]
  },
  {
   "cell_type": "code",
   "execution_count": 2,
   "metadata": {},
   "outputs": [],
   "source": [
    "cust_headers = {\n",
    "        'User-Agent': 'XY',\n",
    "           'Content-type': 'application/json'\n",
    "           }\n",
    "# Set if required, otherwise default header set within the functions"
   ]
  },
  {
   "cell_type": "markdown",
   "metadata": {},
   "source": [
    "# Get"
   ]
  },
  {
   "cell_type": "code",
   "execution_count": 4,
   "metadata": {},
   "outputs": [],
   "source": [
    "def get_test (url, dest=None, headers=None):\n",
    "    import requests\n",
    "    if headers is None:\n",
    "        headers = {'User-Agent': 'XY', 'Content-type': 'application/json'}\n",
    "    response = requests.get(url + (dest or ''), headers=headers)\n",
    "    if response.status_code == 200:\n",
    "        print('GET request successful')\n",
    "        print(f'GET response from {baseURL + dest}:...')\n",
    "        print(response.json())\n",
    "    else:\n",
    "        print(f'GET response from {baseURL + dest}:...')\n",
    "        print(f'Request failed with status code {response.status_code}')"
   ]
  },
  {
   "cell_type": "code",
   "execution_count": 6,
   "metadata": {},
   "outputs": [
    {
     "name": "stdout",
     "output_type": "stream",
     "text": [
      "GET request successful\n",
      "GET response from https://adsi-attwo-utsthree-948e3d990e02.herokuapp.com/health/:...\n",
      "Welcome to the Beer API! The weights and biases have been brewed and are a-waiting your request\n"
     ]
    }
   ],
   "source": [
    "para = '/health/'\n",
    "\n",
    "get_test(baseURL,para)"
   ]
  },
  {
   "cell_type": "code",
   "execution_count": 7,
   "metadata": {},
   "outputs": [
    {
     "name": "stdout",
     "output_type": "stream",
     "text": [
      "GET request successful\n",
      "GET response from https://adsi-attwo-utsthree-948e3d990e02.herokuapp.com/model/architecture/:...\n",
      "{'layers': [{'name': 'layer_1', 'type': 'type_1'}, {'name': 'layer_2', 'type': 'type_2'}, {'name': 'layer_3', 'type': 'type_3'}]}\n"
     ]
    }
   ],
   "source": [
    "para = '/model/architecture/'\n",
    "\n",
    "get_test(baseURL,para)"
   ]
  },
  {
   "cell_type": "markdown",
   "metadata": {},
   "source": [
    "# Single post input"
   ]
  },
  {
   "cell_type": "code",
   "execution_count": 22,
   "metadata": {},
   "outputs": [],
   "source": [
    "def post_test (url, dest=None, json = input, headers=None):\n",
    "    import requests\n",
    "    if headers is None:\n",
    "        headers = {'User-Agent': 'XY', 'Content-type': 'application/json'}\n",
    "    response = requests.post(url + (dest or ''), json = input, headers=headers)\n",
    "    if response.status_code == 200:\n",
    "        print('POST request successful')\n",
    "        print(f'POST response from {baseURL + dest}:...')\n",
    "        print(response.json())\n",
    "    else:\n",
    "        print(f'POST response to {baseURL + dest}:...')\n",
    "        print(f'Request failed with status code {response.status_code}')"
   ]
  },
  {
   "cell_type": "code",
   "execution_count": 18,
   "metadata": {},
   "outputs": [],
   "source": [
    "para = '/beer/type/'\n",
    "input = {\n",
    "    \"brewery_name\": \"Amazing But Not Pretty Example Brews\",\n",
    "    \"review_aroma\": 5,\n",
    "    \"review_appearance\": 1,\n",
    "    \"review_palate\": 4,\n",
    "    \"review_taste\": 4,\n",
    "    \"beer_abv\": 2.4\n",
    "}"
   ]
  },
  {
   "cell_type": "code",
   "execution_count": 19,
   "metadata": {},
   "outputs": [
    {
     "name": "stdout",
     "output_type": "stream",
     "text": [
      "POST request successful\n",
      "POST response from https://adsi-attwo-utsthree-948e3d990e02.herokuapp.com/beer/type/:...\n",
      "{'brewery_name': 'Amazing But Not Pretty Example Brews', 'review_aroma': 5.0, 'review_appearance': 1.0, 'review_palate': 4.0, 'review_taste': 4.0, 'beer_abv': 2.4, 'beer_type': 'test_type'}\n"
     ]
    }
   ],
   "source": [
    "post_test (baseURL, dest=para, json = input, headers=None)"
   ]
  },
  {
   "cell_type": "markdown",
   "metadata": {},
   "source": [
    "# Multiple post input"
   ]
  },
  {
   "cell_type": "code",
   "execution_count": 20,
   "metadata": {},
   "outputs": [],
   "source": [
    "para = '/beers/type/'\n",
    "inputs = [\n",
    "    {\n",
    "        \"brewery_name\": \"Amazing But Not Pretty Example Brews\",\n",
    "        \"review_aroma\": 5,\n",
    "        \"review_appearance\": 1,\n",
    "        \"review_palate\": 4,\n",
    "        \"review_taste\": 4,\n",
    "        \"beer_abv\": 2.4\n",
    "    },\n",
    "    {\n",
    "        \"brewery_name\": \"Another Example Brews\",\n",
    "        \"review_aroma\": 3,\n",
    "        \"review_appearance\": 2,\n",
    "        \"review_palate\": 3,\n",
    "        \"review_taste\": 4,\n",
    "        \"beer_abv\": 5.6\n",
    "    }\n",
    "]"
   ]
  },
  {
   "cell_type": "code",
   "execution_count": 23,
   "metadata": {},
   "outputs": [
    {
     "name": "stdout",
     "output_type": "stream",
     "text": [
      "POST response to https://adsi-attwo-utsthree-948e3d990e02.herokuapp.com/beers/type/:...\n",
      "Request failed with status code 422\n"
     ]
    }
   ],
   "source": [
    "post_test (baseURL, dest=para, json = inputs, headers=None)"
   ]
  }
 ],
 "metadata": {
  "kernelspec": {
   "display_name": "Python 3",
   "language": "python",
   "name": "python3"
  },
  "language_info": {
   "codemirror_mode": {
    "name": "ipython",
    "version": 3
   },
   "file_extension": ".py",
   "mimetype": "text/x-python",
   "name": "python",
   "nbconvert_exporter": "python",
   "pygments_lexer": "ipython3",
   "version": "3.8.10"
  },
  "orig_nbformat": 4
 },
 "nbformat": 4,
 "nbformat_minor": 2
}
