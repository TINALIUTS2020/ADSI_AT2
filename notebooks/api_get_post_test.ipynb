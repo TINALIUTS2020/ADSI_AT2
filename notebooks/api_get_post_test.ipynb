{
 "cells": [
  {
   "cell_type": "markdown",
   "metadata": {},
   "source": [
    "This is to test API from \n",
    "https://adsi-attwo-utsthree-948e3d990e02.herokuapp.com/"
   ]
  },
  {
   "cell_type": "markdown",
   "metadata": {},
   "source": [
    "# Setup parameters"
   ]
  },
  {
   "cell_type": "code",
   "execution_count": 1,
   "metadata": {},
   "outputs": [],
   "source": [
    "baseURL = 'https://adsi-attwo-utsthree-948e3d990e02.herokuapp.com'"
   ]
  },
  {
   "cell_type": "code",
   "execution_count": 2,
   "metadata": {},
   "outputs": [],
   "source": [
    "cust_headers = {\n",
    "        'User-Agent': 'XY',\n",
    "           'Content-type': 'application/json'\n",
    "           }\n",
    "# Set if required, otherwise default header set within the functions"
   ]
  },
  {
   "cell_type": "markdown",
   "metadata": {},
   "source": [
    "# Get"
   ]
  },
  {
   "cell_type": "code",
   "execution_count": 3,
   "metadata": {},
   "outputs": [],
   "source": [
    "def get_test (url, dest=None, headers=None):\n",
    "    import requests\n",
    "    if headers is None:\n",
    "        headers = {'User-Agent': 'XY', 'Content-type': 'application/json'}\n",
    "    response = requests.get(url + (dest or ''), headers=headers)\n",
    "    if response.status_code == 200:\n",
    "        print('GET request successful')\n",
    "        print(f'GET response from {url + (dest or \"\")}:...')\n",
    "        print(response.json())\n",
    "        return  'Get request successful'\n",
    "    else:\n",
    "        print(f'GET from {url + (dest or \"\")}:...')\n",
    "        print(f'Request failed with status code {response.status_code}')\n",
    "        return f'Get request failed with status code {response.status_code}'"
   ]
  },
  {
   "cell_type": "code",
   "execution_count": 4,
   "metadata": {},
   "outputs": [
    {
     "name": "stdout",
     "output_type": "stream",
     "text": [
      "GET request successful\n",
      "GET response from https://adsi-attwo-utsthree-948e3d990e02.herokuapp.com/health/:...\n",
      "Welcome to the Beer API! The weights and biases have been brewed and are a-waiting your request\n"
     ]
    }
   ],
   "source": [
    "para = '/health/'\n",
    "\n",
    "health_chk = get_test(baseURL,para)"
   ]
  },
  {
   "cell_type": "code",
   "execution_count": 5,
   "metadata": {},
   "outputs": [
    {
     "name": "stdout",
     "output_type": "stream",
     "text": [
      "GET request successful\n",
      "GET response from https://adsi-attwo-utsthree-948e3d990e02.herokuapp.com/model/architecture/:...\n",
      "{'layers': [{'name': 'layer_1', 'type': 'type_1'}, {'name': 'layer_2', 'type': 'type_2'}, {'name': 'layer_3', 'type': 'type_3'}]}\n"
     ]
    }
   ],
   "source": [
    "para = '/model/architecture/'\n",
    "\n",
    "architecture_chk = get_test(baseURL,para)"
   ]
  },
  {
   "cell_type": "markdown",
   "metadata": {},
   "source": [
    "# Single post input"
   ]
  },
  {
   "cell_type": "code",
   "execution_count": 6,
   "metadata": {},
   "outputs": [],
   "source": [
    "def post_test (url, dest=None, json = input, headers=None):\n",
    "    import requests\n",
    "    if headers is None:\n",
    "        headers = {'User-Agent': 'XY', 'Content-type': 'application/json'}\n",
    "    if json is None:\n",
    "        json = {}\n",
    "    response = requests.post(url + (dest or ''), json = input, headers=headers)\n",
    "    if response.status_code == 200:\n",
    "        response.json()\n",
    "        print('POST request successful')\n",
    "        print(f'POST response from {url + (dest or \"\")}:...')\n",
    "        print(response.json())\n",
    "        return 'POST request successful'\n",
    "        \n",
    "    else:\n",
    "        print(f'POST to {url + (dest or \"\")}:...')\n",
    "        print(f'Request failed with status code {response.status_code}')\n",
    "        return f'POST requerst failed with status code {response.status_code}'\n",
    "        "
   ]
  },
  {
   "cell_type": "code",
   "execution_count": 7,
   "metadata": {},
   "outputs": [],
   "source": [
    "para = '/beer/type/'\n",
    "input = {\n",
    "    \"brewery_name\": \"Amazing But Not Pretty Example Brews\",\n",
    "    \"review_aroma\": 5,\n",
    "    \"review_appearance\": 1,\n",
    "    \"review_palate\": 4,\n",
    "    \"review_taste\": 4,\n",
    "    \"beer_abv\": 2.4\n",
    "}"
   ]
  },
  {
   "cell_type": "code",
   "execution_count": 8,
   "metadata": {},
   "outputs": [
    {
     "name": "stdout",
     "output_type": "stream",
     "text": [
      "POST request successful\n",
      "POST response from https://adsi-attwo-utsthree-948e3d990e02.herokuapp.com/beer/type/:...\n",
      "{'brewery_name': 'Amazing But Not Pretty Example Brews', 'review_aroma': 5.0, 'review_appearance': 1.0, 'review_palate': 4.0, 'review_taste': 4.0, 'beer_abv': 2.4, 'beer_type': 'test_type'}\n"
     ]
    }
   ],
   "source": [
    "single_redict_chk = post_test(baseURL, dest=para, json = input, headers=None)"
   ]
  },
  {
   "cell_type": "code",
   "execution_count": 9,
   "metadata": {},
   "outputs": [
    {
     "name": "stdout",
     "output_type": "stream",
     "text": [
      "POST request successful\n"
     ]
    }
   ],
   "source": [
    "print(single_redict_chk )"
   ]
  },
  {
   "cell_type": "markdown",
   "metadata": {},
   "source": [
    "# Multiple post input"
   ]
  },
  {
   "cell_type": "code",
   "execution_count": 10,
   "metadata": {},
   "outputs": [],
   "source": [
    "para = '/beers/type/'\n",
    "inputs = [\n",
    "    {\n",
    "        \"brewery_name\": \"Amazing But Not Pretty Example Brews\",\n",
    "        \"review_aroma\": 5,\n",
    "        \"review_appearance\": 1,\n",
    "        \"review_palate\": 4,\n",
    "        \"review_taste\": 4,\n",
    "        \"beer_abv\": 2.4\n",
    "    },\n",
    "    {\n",
    "        \"brewery_name\": \"Another Example Brews\",\n",
    "        \"review_aroma\": 3,\n",
    "        \"review_appearance\": 2,\n",
    "        \"review_palate\": 3,\n",
    "        \"review_taste\": 4,\n",
    "        \"beer_abv\": 5.6\n",
    "    }\n",
    "]"
   ]
  },
  {
   "cell_type": "code",
   "execution_count": 11,
   "metadata": {},
   "outputs": [
    {
     "name": "stdout",
     "output_type": "stream",
     "text": [
      "POST to https://adsi-attwo-utsthree-948e3d990e02.herokuapp.com/beers/type/:...\n",
      "Request failed with status code 422\n"
     ]
    }
   ],
   "source": [
    "multi_predict_chk = post_test (baseURL, dest=para, json = inputs, headers=None)"
   ]
  },
  {
   "cell_type": "markdown",
   "metadata": {},
   "source": [
    "# Summary"
   ]
  },
  {
   "cell_type": "code",
   "execution_count": 12,
   "metadata": {},
   "outputs": [
    {
     "name": "stdout",
     "output_type": "stream",
     "text": [
      "Health Check...\n",
      "Get request successful\n",
      "Model Architecture Check...\n",
      "Get request successful\n",
      "Single Precition Check...\n",
      "POST request successful\n",
      "Multi Precitions Check...\n",
      "POST requerst failed with status code 422\n"
     ]
    }
   ],
   "source": [
    "print('Health Check...')\n",
    "print(health_chk)\n",
    "\n",
    "print('Model Architecture Check...')\n",
    "print(architecture_chk)\n",
    "\n",
    "print('Single Precition Check...')\n",
    "print(single_redict_chk)\n",
    "\n",
    "print('Multi Precitions Check...')\n",
    "print(multi_predict_chk)"
   ]
  }
 ],
 "metadata": {
  "kernelspec": {
   "display_name": "Python 3",
   "language": "python",
   "name": "python3"
  },
  "language_info": {
   "codemirror_mode": {
    "name": "ipython",
    "version": 3
   },
   "file_extension": ".py",
   "mimetype": "text/x-python",
   "name": "python",
   "nbconvert_exporter": "python",
   "pygments_lexer": "ipython3",
   "version": "3.8.10"
  },
  "orig_nbformat": 4
 },
 "nbformat": 4,
 "nbformat_minor": 2
}
