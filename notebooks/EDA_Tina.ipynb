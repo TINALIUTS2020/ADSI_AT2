{
 "cells": [
  {
   "cell_type": "raw",
   "id": "fdf99153-ecc5-4847-9a80-8f46c2ee2341",
   "metadata": {},
   "source": [
    "EDA on \\data\\raw\\beer_reviews.csv"
   ]
  },
  {
   "cell_type": "raw",
   "id": "45e9f8fc-30b8-404b-a7ca-945c753d9bd3",
   "metadata": {},
   "source": [
    "1) drop features\n",
    "features_drop = ['brewery_id','review_time','review_overall','review_profilename','beer_name','beer_beerid']"
   ]
  },
  {
   "cell_type": "code",
   "execution_count": null,
   "id": "9625e638-831c-4cd6-a979-33d55ae19de5",
   "metadata": {
    "tags": []
   },
   "outputs": [],
   "source": [
    "import pandas as pd\n",
    "import numpy as np\n",
    "import os"
   ]
  },
  {
   "cell_type": "markdown",
   "id": "2319290e-dc2c-410e-bf8d-0db8d4542d74",
   "metadata": {},
   "source": [
    "# Import raw data"
   ]
  },
  {
   "cell_type": "code",
   "execution_count": null,
   "id": "d9da5d41-38f3-4dc2-99fd-5d8289bbe6e1",
   "metadata": {
    "tags": []
   },
   "outputs": [],
   "source": [
    "# Path\n",
    "path = r\"C:\\Users\\TinaM\\Desktop\\TMB_File\\UTS_JUN_2023\\AdvDSL_36114\\AT2\\ADSI_AT2\""
   ]
  },
  {
   "cell_type": "code",
   "execution_count": null,
   "id": "d06fc077-1952-4a91-96c1-5fa94bb2c597",
   "metadata": {
    "tags": []
   },
   "outputs": [],
   "source": [
    "df_raw = pd.read_csv(path + r\"\\data\\raw\\beer_reviews.csv\")"
   ]
  },
  {
   "cell_type": "markdown",
   "id": "573fb69f-b47c-40cd-8e1b-d06e2284566d",
   "metadata": {},
   "source": [
    "# Inspect data"
   ]
  },
  {
   "cell_type": "code",
   "execution_count": null,
   "id": "191713e9-80ae-4b70-a274-c2d182a4ef07",
   "metadata": {
    "tags": []
   },
   "outputs": [],
   "source": [
    "df_raw.head()"
   ]
  },
  {
   "cell_type": "code",
   "execution_count": null,
   "id": "a89ec09b-3d93-4643-817a-1119e3531f7d",
   "metadata": {
    "tags": []
   },
   "outputs": [],
   "source": [
    "df_raw.shape"
   ]
  },
  {
   "cell_type": "code",
   "execution_count": null,
   "id": "d5b55f37-7652-45e5-aace-a31a23e46aa0",
   "metadata": {
    "tags": []
   },
   "outputs": [],
   "source": [
    "df_raw.info()\n",
    "# no missing rows"
   ]
  },
  {
   "cell_type": "code",
   "execution_count": null,
   "id": "5230bc1b-4a2e-4b17-ab36-81cdf1ab03a2",
   "metadata": {
    "tags": []
   },
   "outputs": [],
   "source": [
    "df_raw.describe()"
   ]
  },
  {
   "cell_type": "markdown",
   "id": "340107e7-f30c-4859-9236-ea5b68053da5",
   "metadata": {},
   "source": [
    "# Pre-processing_1"
   ]
  },
  {
   "cell_type": "markdown",
   "id": "86eca293-103d-4230-a7c3-a74f9d0cef0e",
   "metadata": {},
   "source": [
    "## Drop features"
   ]
  },
  {
   "cell_type": "raw",
   "id": "3136c360-268d-4075-8e9d-1d1ae719426a",
   "metadata": {},
   "source": [
    "From data dict:\n",
    "API Expected Parameter - No\n",
    "brewery_id\tIdentifier of brewery\n",
    "review_time\tTimestamp of review\n",
    "review_overall\tOverall score given by reviewer\n",
    "review_profilename\tProfile name of reviewer\n",
    "beer_name\tName of beer\n",
    "beer_beerid\tIdentifier of beer\n",
    "beer_style (target)\tType of beer"
   ]
  },
  {
   "cell_type": "code",
   "execution_count": null,
   "id": "f0819299-db5c-4203-b29e-2d3568a3e1a2",
   "metadata": {
    "tags": []
   },
   "outputs": [],
   "source": [
    "# Drop the columns\n",
    "features_drop = ['brewery_id','review_time','review_overall','review_profilename','beer_name','beer_beerid']\n",
    "df = df_raw.drop(features_drop, axis=1)"
   ]
  },
  {
   "cell_type": "code",
   "execution_count": null,
   "id": "ef9b8b1d-d991-476a-a945-2dcb24682626",
   "metadata": {
    "tags": []
   },
   "outputs": [],
   "source": [
    "df.head()"
   ]
  },
  {
   "cell_type": "code",
   "execution_count": null,
   "id": "ef594880-e584-4011-9f35-2b5cddcbd170",
   "metadata": {
    "tags": []
   },
   "outputs": [],
   "source": [
    "df.shape"
   ]
  },
  {
   "cell_type": "code",
   "execution_count": null,
   "id": "d93d1b0d-580e-4bba-806f-ea266936b112",
   "metadata": {
    "tags": []
   },
   "outputs": [],
   "source": [
    "brewery_name_counts = df['brewery_name'].value_counts().reset_index()\n",
    "\n",
    "brewery_name_counts\n",
    "# there are 5741 different brewery_names"
   ]
  },
  {
   "cell_type": "code",
   "execution_count": null,
   "id": "a22753de-b427-4976-b86c-60a5504ce7c1",
   "metadata": {
    "tags": []
   },
   "outputs": [],
   "source": [
    "# target classes\n",
    "beer_style_counts = df['beer_style'].value_counts().reset_index()\n",
    "\n",
    "beer_style_counts\n",
    "# there are 104 beer_styles"
   ]
  },
  {
   "cell_type": "code",
   "execution_count": null,
   "id": "6b00fe99",
   "metadata": {},
   "outputs": [],
   "source": [
    "\"\"\"\n",
    "# set the sys.path to the project folder\n",
    "import os\n",
    "notebook_dir = os.getcwd() #'c:\\\\Users\\\\TinaM\\\\Desktop\\\\TMB_File\\\\UTS_JUN_2023\\\\AdvDSL_36114\\\\AT2\\\\ADSI_AT2\\\\notebooks'\n",
    "project_dir = os.path.dirname(notebook_dir) #'c:\\\\Users\\\\TinaM\\\\Desktop\\\\TMB_File\\\\UTS_JUN_2023\\\\AdvDSL_36114\\\\AT2\\\\ADSI_AT2'\n",
    "import sys\n",
    "sys.path.append(project_dir) #'c:\\\\Users\\\\TinaM\\\\Desktop\\\\TMB_File\\\\UTS_JUN_2023\\\\AdvDSL_36114\\\\AT2\\\\ADSI_AT2'\n",
    "\"\"\""
   ]
  },
  {
   "cell_type": "code",
   "execution_count": null,
   "id": "1bc7f020",
   "metadata": {},
   "outputs": [],
   "source": [
    "# split out target\n",
    "from src.data.sets import pop_target\n",
    "df_cleaned, target = pop_target(df=df, target_col='beer_style')"
   ]
  },
  {
   "cell_type": "code",
   "execution_count": null,
   "id": "45f74fe6-7a32-4aa1-8675-11dddefb89be",
   "metadata": {},
   "outputs": [],
   "source": [
    "df_cleaned_column_list = df_cleaned.columns.tolist()"
   ]
  },
  {
   "cell_type": "markdown",
   "id": "a2f6dba2-5f43-4f6a-b393-40c3b545855c",
   "metadata": {},
   "source": [
    "# Split dataset"
   ]
  },
  {
   "cell_type": "code",
   "execution_count": null,
   "id": "6967e76e-1cdc-4dda-adbd-4cb5d437de41",
   "metadata": {
    "tags": []
   },
   "outputs": [],
   "source": [
    "from src.data.sets import split_sets_random\n",
    "X_train, y_train, X_val, y_val, X_test, y_test = split_sets_random(df_cleaned, target=target, test_ratio=0.2, to_numpy=True)"
   ]
  },
  {
   "cell_type": "code",
   "execution_count": null,
   "id": "b4822417-a30e-4ffd-a340-c063bc8b0636",
   "metadata": {},
   "outputs": [],
   "source": [
    "# size of the split dataset\n",
    "print(X_train.shape) #(951968, 6)\n",
    "print(X_val.shape) #(317323, 6)\n",
    "print(X_test.shape) #(317323, 6)"
   ]
  },
  {
   "cell_type": "markdown",
   "id": "c96cb4dc-b4c9-4b17-a07a-f6eaba5dd36c",
   "metadata": {},
   "source": [
    "### save to /data/interim/"
   ]
  },
  {
   "cell_type": "code",
   "execution_count": null,
   "id": "b38b5a6d-ed8e-4f98-9cc0-bec5a501227c",
   "metadata": {},
   "outputs": [],
   "source": [
    "# save dataset\n",
    "from src.data.sets import save_sets\n",
    "\n",
    "save_sets(X_train, y_train, X_val, y_val, X_test, y_test, path='../data/interim/')"
   ]
  },
  {
   "cell_type": "code",
   "execution_count": null,
   "id": "28a2ea24",
   "metadata": {
    "tags": []
   },
   "outputs": [],
   "source": [
    "# load dataset\n",
    "from src.data.sets import load_sets\n",
    "\n",
    "X_train, y_train, X_val, y_val, X_test, y_test = load_sets(path='../data/interim/')"
   ]
  },
  {
   "cell_type": "code",
   "execution_count": null,
   "id": "1766774c",
   "metadata": {},
   "outputs": [],
   "source": [
    "print(X_train.shape) #(951968, 6)\n",
    "print(X_val.shape) #(317323, 6)\n",
    "print(X_test.shape) #(317323, 6)\n",
    "print(y_train.shape) #(951968, )\n",
    "print(y_val.shape) #(317323, )\n",
    "print(y_test.shape) #(317323, )"
   ]
  },
  {
   "cell_type": "markdown",
   "id": "2a3b6fc9-283b-4811-bc3d-3721f20246f7",
   "metadata": {},
   "source": [
    "# Pre-processing 2"
   ]
  },
  {
   "cell_type": "markdown",
   "id": "39cf106a-e987-444c-a06b-51a08202a8bc",
   "metadata": {},
   "source": [
    "## Scale features"
   ]
  },
  {
   "cell_type": "code",
   "execution_count": null,
   "id": "9f416d2f-1903-4fb8-8e10-e172cb51131d",
   "metadata": {},
   "outputs": [],
   "source": [
    "# full feature column names list: df_cleaned_column_list\n",
    "\n",
    "# categorical feature column name:\n",
    "features_cate_colname = ['brewery_name']\n",
    "\n",
    "# numberic feature column name:\n",
    "features_numeric_colname = [col for col in df_cleaned_column_list if col not in features_cate_colname]"
   ]
  },
  {
   "cell_type": "code",
   "execution_count": null,
   "id": "8582816e-b8ce-43fe-8d15-710d1c2b5678",
   "metadata": {},
   "outputs": [],
   "source": [
    "from sklearn.preprocessing import StandardScaler, OneHotEncoder\n",
    "scaler = StandardScaler()\n",
    "encoder = OneHotEncoder(sparse=False)"
   ]
  },
  {
   "cell_type": "code",
   "execution_count": null,
   "id": "f8eba308-1a91-43a6-b29d-dcc70018bf8c",
   "metadata": {},
   "outputs": [],
   "source": [
    "# save the scaler for later\n",
    "from joblib import dump\n",
    "dump(scaler, '../models/scaler.joblib')\n",
    "dump(encoder, '../models/encoder.joblib')"
   ]
  },
  {
   "cell_type": "code",
   "execution_count": null,
   "id": "4d6007c6-55df-433c-96ef-35d3c5fa9bee",
   "metadata": {},
   "outputs": [],
   "source": [
    "\"\"\"\n",
    "# load scaler and encoder\n",
    "from joblib import load\n",
    "\n",
    "scaler = load('../models/scaler.joblib')\n",
    "encoder = load('../models/encoder.joblib')\n",
    "\n",
    "from sklearn.compose import ColumnTransformer\n",
    "# Create the ColumnTransformer\n",
    "preprocessor = ColumnTransformer(\n",
    "    transformers=[\n",
    "        ('numeric', scaler, features_numeric_colname),\n",
    "        ('categorical', encoder, features_cate_colname)\n",
    "    ])\n",
    "\n",
    "# Apply the transformations on the training data\n",
    "X_train_df = pd.DataFrame(X_train, columns=df_cleaned.columns)\n",
    "\n",
    "X_train_transformed = preprocessor.fit_transform(X_train_df)\n",
    "\n",
    "# Convert the transformed data to a DataFrame\n",
    "features_train = pd.DataFrame(X_train_transformed, columns=features_numeric_colname + preprocessor.named_transformers_['categorical'].get_feature_names(features_cate_colname))\n",
    "# Convert to a function\n",
    "\"\"\""
   ]
  },
  {
   "cell_type": "code",
   "execution_count": null,
   "id": "b478adf6-a448-485b-9010-97091e945f8c",
   "metadata": {
    "tags": []
   },
   "outputs": [],
   "source": [
    "# Bre\n",
    "def cust_process_feature( x, full_feature, categorical_feature, numeric_feature ):\n",
    "\n",
    "    \"\"\"\n",
    "    function to preprocess features of the beer dataset\n",
    "    x = df with features only\n",
    "    full_feature = list of all feature names\n",
    "    categorical_feature = list of categorical column name/s\n",
    "    numeric_feature = list of numeric column name/s\n",
    "    \"\"\"\n",
    "\n",
    "    from joblib import load\n",
    "    scaler = load('../models/scaler.joblib')\n",
    "    encoder = load('../models/encoder.joblib')\n",
    "\n",
    "    from sklearn.compose import ColumnTransformer\n",
    "    # Create the ColumnTransformer\n",
    "    preprocessor = ColumnTransformer(\n",
    "        transformers=[\n",
    "            ('numeric', scaler, categorical_feature),\n",
    "            ('categorical', encoder, numeric_feature)\n",
    "        ])\n",
    "    \n",
    "    import pandas as pd\n",
    "    X_df = pd.DataFrame(x, columns= full_feature )\n",
    "\n",
    "\n",
    "    from sklearn.pipeline import Pipeline\n",
    "    from sklearn.compose import make_column_transformer\n",
    "    \n",
    "    # Define the column names after one-hot encoding\n",
    "    cat_feature_names = categorical_transformer.get_feature_names_out(input_features=categorical_feature)\n",
    "\n",
    "    # Fit and transform the data using the preprocessor\n",
    "    X_preprocessed = preprocessor.fit_transform(X_df)\n",
    "\n",
    "    # Convert the preprocessed data back to a DataFrame\n",
    "    X_preprocessed_df = pd.DataFrame(X_preprocessed, columns=list(categorical_feature) + numeric_feature)\n",
    "\n",
    "    return X_preprocessed_df"
   ]
  },
  {
   "cell_type": "code",
   "execution_count": null,
   "id": "4785904e-6785-448a-9515-11526c020a2d",
   "metadata": {},
   "outputs": [],
   "source": [
    " X_train_preprocessed_df = cust_process_feature(X_train, df_cleaned_column_list,features_cate_colname,features_numeric_colname)"
   ]
  },
  {
   "cell_type": "code",
   "execution_count": null,
   "id": "0c8d4388-db3d-4483-9949-468efb9bdad2",
   "metadata": {},
   "outputs": [],
   "source": [
    " X_train_preprocessed_df"
   ]
  }
 ],
 "metadata": {
  "kernelspec": {
   "display_name": "Python 3 (ipykernel)",
   "language": "python",
   "name": "python3"
  },
  "language_info": {
   "codemirror_mode": {
    "name": "ipython",
    "version": 3
   },
   "file_extension": ".py",
   "mimetype": "text/x-python",
   "name": "python",
   "nbconvert_exporter": "python",
   "pygments_lexer": "ipython3",
   "version": "3.8.10"
  }
 },
 "nbformat": 4,
 "nbformat_minor": 5
}
