{
 "cells": [
  {
   "cell_type": "code",
   "execution_count": null,
   "metadata": {},
   "outputs": [],
   "source": [
    "%load_ext autoreload\n",
    "%autoreload 2"
   ]
  },
  {
   "cell_type": "code",
   "execution_count": 1,
   "metadata": {},
   "outputs": [
    {
     "name": "stdout",
     "output_type": "stream",
     "text": [
      "['c:\\\\Users\\\\TinaM\\\\Desktop\\\\TMB_File\\\\UTS_JUN_2023\\\\AdvDSL_36114\\\\AT2\\\\ADSI_AT2\\\\notebooks', 'C:\\\\Users\\\\TinaM\\\\AppData\\\\Local\\\\Programs\\\\Python\\\\Python38\\\\python38.zip', 'C:\\\\Users\\\\TinaM\\\\AppData\\\\Local\\\\Programs\\\\Python\\\\Python38\\\\DLLs', 'C:\\\\Users\\\\TinaM\\\\AppData\\\\Local\\\\Programs\\\\Python\\\\Python38\\\\lib', 'C:\\\\Users\\\\TinaM\\\\AppData\\\\Local\\\\Programs\\\\Python\\\\Python38', 'c:\\\\Users\\\\TinaM\\\\.virtualenvs\\\\ADSI_AT2-VD9S5n3N', '', 'c:\\\\Users\\\\TinaM\\\\.virtualenvs\\\\ADSI_AT2-VD9S5n3N\\\\lib\\\\site-packages', 'c:\\\\Users\\\\TinaM\\\\.virtualenvs\\\\ADSI_AT2-VD9S5n3N\\\\lib\\\\site-packages\\\\win32', 'c:\\\\Users\\\\TinaM\\\\.virtualenvs\\\\ADSI_AT2-VD9S5n3N\\\\lib\\\\site-packages\\\\win32\\\\lib', 'c:\\\\Users\\\\TinaM\\\\.virtualenvs\\\\ADSI_AT2-VD9S5n3N\\\\lib\\\\site-packages\\\\Pythonwin', 'C:\\\\Users\\\\TinaM\\\\Desktop\\\\TMB_File\\\\UTS_JUN_2023\\\\AdvDSL_36114\\\\AT2\\\\ADSI_AT2']\n"
     ]
    }
   ],
   "source": [
    "# in order to import functions in src folder\n",
    "import sys\n",
    "sys.path.append('C:\\\\Users\\\\TinaM\\\\Desktop\\\\TMB_File\\\\UTS_JUN_2023\\\\AdvDSL_36114\\\\AT2\\\\ADSI_AT2')\n",
    "print(sys.path)"
   ]
  },
  {
   "cell_type": "code",
   "execution_count": 2,
   "metadata": {},
   "outputs": [],
   "source": [
    "import pandas as pd\n",
    "import numpy as np\n",
    "import os"
   ]
  },
  {
   "cell_type": "code",
   "execution_count": null,
   "metadata": {},
   "outputs": [],
   "source": [
    "df_raw = pd.read_csv(\"../data/raw/beer_reviews.csv\")\n",
    "df_raw.head()"
   ]
  },
  {
   "cell_type": "code",
   "execution_count": null,
   "metadata": {},
   "outputs": [],
   "source": [
    "df_raw.info()"
   ]
  },
  {
   "cell_type": "code",
   "execution_count": 6,
   "metadata": {},
   "outputs": [
    {
     "data": {
      "text/plain": [
       "['brewery_id',\n",
       " 'review_time',\n",
       " 'review_overall',\n",
       " 'review_profilename',\n",
       " 'beer_style (target)',\n",
       " 'beer_name',\n",
       " 'beer_beerid']"
      ]
     },
     "execution_count": 6,
     "metadata": {},
     "output_type": "execute_result"
    }
   ],
   "source": [
    "# read in data_dict to generate a list of features to drop \n",
    "data_dict = pd.read_csv(\"../references/Data_Dict.csv\")\n",
    "features_drop = data_dict.loc[data_dict['API Expected Parameter'] == 'No', 'Column'].tolist()\n",
    "features_drop"
   ]
  }
 ],
 "metadata": {
  "kernelspec": {
   "display_name": "ADSI_AT2-VD9S5n3N",
   "language": "python",
   "name": "python3"
  },
  "language_info": {
   "codemirror_mode": {
    "name": "ipython",
    "version": 3
   },
   "file_extension": ".py",
   "mimetype": "text/x-python",
   "name": "python",
   "nbconvert_exporter": "python",
   "pygments_lexer": "ipython3",
   "version": "3.8.10"
  },
  "orig_nbformat": 4
 },
 "nbformat": 4,
 "nbformat_minor": 2
}
