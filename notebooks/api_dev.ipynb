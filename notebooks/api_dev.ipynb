{
 "cells": [
  {
   "cell_type": "code",
   "execution_count": null,
   "metadata": {},
   "outputs": [],
   "source": []
  },
  {
   "cell_type": "code",
   "execution_count": 1,
   "metadata": {},
   "outputs": [],
   "source": [
    "test = \"hello\""
   ]
  },
  {
   "cell_type": "code",
   "execution_count": 6,
   "metadata": {},
   "outputs": [],
   "source": [
    "def test_func(a=None, b=None, c=None):\n",
    "    print(locals())\n",
    "    return 2"
   ]
  },
  {
   "cell_type": "code",
   "execution_count": 9,
   "metadata": {},
   "outputs": [],
   "source": [
    "def call_test(x=None, x_a=None):\n",
    "    print(locals())\n",
    "    test_func(a=x_a)"
   ]
  },
  {
   "cell_type": "code",
   "execution_count": 19,
   "metadata": {},
   "outputs": [],
   "source": [
    "def return_locals(x=None, x_a=None, **kwargs):\n",
    "    return locals()"
   ]
  },
  {
   "cell_type": "code",
   "execution_count": 21,
   "metadata": {},
   "outputs": [
    {
     "data": {
      "text/plain": [
       "{'x': None, 'x_a': 'hello', 'kwargs': {'new_arg': 'goodbye'}}"
      ]
     },
     "execution_count": 21,
     "metadata": {},
     "output_type": "execute_result"
    }
   ],
   "source": [
    "return_locals(x_a=\"hello\", new_arg=\"goodbye\")"
   ]
  },
  {
   "cell_type": "code",
   "execution_count": 54,
   "metadata": {},
   "outputs": [],
   "source": [
    "def true_test(a=None, b=None, c=None):\n",
    "    return all(arg is None for arg in locals().values())"
   ]
  },
  {
   "cell_type": "code",
   "execution_count": 55,
   "metadata": {},
   "outputs": [
    {
     "data": {
      "text/plain": [
       "True"
      ]
     },
     "execution_count": 55,
     "metadata": {},
     "output_type": "execute_result"
    }
   ],
   "source": [
    "true_test()"
   ]
  },
  {
   "cell_type": "code",
   "execution_count": 3,
   "metadata": {},
   "outputs": [
    {
     "name": "stdout",
     "output_type": "stream",
     "text": [
      "{'a': None, 'b': None, 'c': None}\n"
     ]
    },
    {
     "data": {
      "text/plain": [
       "2"
      ]
     },
     "execution_count": 3,
     "metadata": {},
     "output_type": "execute_result"
    }
   ],
   "source": [
    "test_func()"
   ]
  },
  {
   "cell_type": "code",
   "execution_count": null,
   "metadata": {},
   "outputs": [],
   "source": [
    "fr"
   ]
  },
  {
   "cell_type": "code",
   "execution_count": 12,
   "metadata": {},
   "outputs": [
    {
     "name": "stdout",
     "output_type": "stream",
     "text": [
      "{'x': None, 'x_a': 'hello'}\n",
      "{'a': 'hello', 'b': None, 'c': None}\n"
     ]
    }
   ],
   "source": [
    "all(arg is not None for arg in call_test(x_a=test))"
   ]
  },
  {
   "cell_type": "code",
   "execution_count": 58,
   "metadata": {},
   "outputs": [
    {
     "data": {
      "text/plain": [
       "[1, 2, 3, 'a']"
      ]
     },
     "execution_count": 58,
     "metadata": {},
     "output_type": "execute_result"
    }
   ],
   "source": [
    "[1,2,3] + [\"a\"]"
   ]
  },
  {
   "cell_type": "code",
   "execution_count": 39,
   "metadata": {},
   "outputs": [],
   "source": [
    "from api.DataModels import SingleInput, SingleResponse\n",
    "import json"
   ]
  },
  {
   "cell_type": "code",
   "execution_count": null,
   "metadata": {},
   "outputs": [],
   "source": []
  },
  {
   "cell_type": "code",
   "execution_count": 29,
   "metadata": {},
   "outputs": [],
   "source": [
    "test_list = []\n",
    "\n",
    "strs = [\"\"\"{\n",
    "  \"brewery_name\": \"up\",\n",
    "  \"review_aroma\": 1,\n",
    "  \"review_appearance\": 2,\n",
    "  \"review_palate\": 3,\n",
    "  \"review_taste\": 4,\n",
    "  \"beer_abv\": 5\n",
    "}\"\"\",\n",
    "\"\"\"{\n",
    "  \"brewery_name\": \"down\",\n",
    "  \"review_aroma\": 5,\n",
    "  \"review_appearance\": 4,\n",
    "  \"review_palate\": 3,\n",
    "  \"review_taste\": 2,\n",
    "  \"beer_abv\": 1\n",
    "}\"\"\"\n",
    "]\n",
    "\n",
    "for str in strs:\n",
    "    jsn = json.loads(str)\n",
    "    ob = SingleInput.parse_obj(jsn)\n",
    "    test_list.append(ob)\n",
    "\n"
   ]
  },
  {
   "cell_type": "code",
   "execution_count": 30,
   "metadata": {},
   "outputs": [],
   "source": [
    "test = SingleInput.parse_obj(jsn)"
   ]
  },
  {
   "cell_type": "code",
   "execution_count": 31,
   "metadata": {},
   "outputs": [
    {
     "ename": "AttributeError",
     "evalue": "'SingleInput' object has no attribute 'model_dump'",
     "output_type": "error",
     "traceback": [
      "\u001b[0;31m---------------------------------------------------------------------------\u001b[0m",
      "\u001b[0;31mAttributeError\u001b[0m                            Traceback (most recent call last)",
      "Cell \u001b[0;32mIn[31], line 1\u001b[0m\n\u001b[0;32m----> 1\u001b[0m test\u001b[39m.\u001b[39;49mmodel_dump()\n",
      "\u001b[0;31mAttributeError\u001b[0m: 'SingleInput' object has no attribute 'model_dump'"
     ]
    }
   ],
   "source": [
    "test.model_dump()"
   ]
  },
  {
   "cell_type": "code",
   "execution_count": 32,
   "metadata": {},
   "outputs": [
    {
     "data": {
      "text/plain": [
       "{'brewery_name': ModelField(name='brewery_name', type=Optional[ConstrainedStrValue], required=False, default=None),\n",
       " 'review_aroma': ModelField(name='review_aroma', type=Optional[ConstrainedFloatValue], required=False, default=None),\n",
       " 'review_appearance': ModelField(name='review_appearance', type=Optional[ConstrainedFloatValue], required=False, default=None),\n",
       " 'review_palate': ModelField(name='review_palate', type=Optional[ConstrainedFloatValue], required=False, default=None),\n",
       " 'review_taste': ModelField(name='review_taste', type=Optional[ConstrainedFloatValue], required=False, default=None),\n",
       " 'beer_abv': ModelField(name='beer_abv', type=Optional[ConstrainedFloatValue], required=False, default=None)}"
      ]
     },
     "execution_count": 32,
     "metadata": {},
     "output_type": "execute_result"
    }
   ],
   "source": [
    "SingleInput.__fields__"
   ]
  },
  {
   "cell_type": "code",
   "execution_count": 33,
   "metadata": {},
   "outputs": [
    {
     "ename": "ValueError",
     "evalue": "too many values to unpack (expected 2)",
     "output_type": "error",
     "traceback": [
      "\u001b[0;31m---------------------------------------------------------------------------\u001b[0m",
      "\u001b[0;31mValueError\u001b[0m                                Traceback (most recent call last)",
      "Cell \u001b[0;32mIn[33], line 1\u001b[0m\n\u001b[0;32m----> 1\u001b[0m {field_name: [values ] \u001b[39mfor\u001b[39;00m x \u001b[39min\u001b[39;00m test_list \u001b[39mfor\u001b[39;00m field_name, list_of_vals \u001b[39min\u001b[39;00m x\u001b[39m.\u001b[39mdict()}\n",
      "Cell \u001b[0;32mIn[33], line 1\u001b[0m, in \u001b[0;36m<dictcomp>\u001b[0;34m(.0)\u001b[0m\n\u001b[0;32m----> 1\u001b[0m {field_name: [values ] \u001b[39mfor\u001b[39;00m x \u001b[39min\u001b[39;00m test_list \u001b[39mfor\u001b[39;00m field_name, list_of_vals \u001b[39min\u001b[39;00m x\u001b[39m.\u001b[39mdict()}\n",
      "\u001b[0;31mValueError\u001b[0m: too many values to unpack (expected 2)"
     ]
    }
   ],
   "source": [
    "{field_name: [values ] for x in test_list for field_name, list_of_vals in x.dict()}"
   ]
  },
  {
   "cell_type": "code",
   "execution_count": 34,
   "metadata": {},
   "outputs": [],
   "source": [
    "ref = {field: [] for field in SingleInput.__fields__.keys()}"
   ]
  },
  {
   "cell_type": "code",
   "execution_count": 35,
   "metadata": {},
   "outputs": [],
   "source": [
    "for input in test_list:\n",
    "    input = input.dict()\n",
    "    for key, value in input.items():\n",
    "        ref[key].append(value)"
   ]
  },
  {
   "cell_type": "code",
   "execution_count": 36,
   "metadata": {},
   "outputs": [
    {
     "data": {
      "text/plain": [
       "{'brewery_name': ['up', 'down'],\n",
       " 'review_aroma': [1.0, 5.0],\n",
       " 'review_appearance': [2.0, 4.0],\n",
       " 'review_palate': [3.0, 3.0],\n",
       " 'review_taste': [4.0, 2.0],\n",
       " 'beer_abv': [5.0, 1.0]}"
      ]
     },
     "execution_count": 36,
     "metadata": {},
     "output_type": "execute_result"
    }
   ],
   "source": [
    "ref"
   ]
  },
  {
   "cell_type": "code",
   "execution_count": 37,
   "metadata": {},
   "outputs": [
    {
     "name": "stderr",
     "output_type": "stream",
     "text": [
      "2023-07-12 13:42:53.319271: I tensorflow/core/platform/cpu_feature_guard.cc:182] This TensorFlow binary is optimized to use available CPU instructions in performance-critical operations.\n",
      "To enable the following instructions: AVX2 FMA, in other operations, rebuild TensorFlow with the appropriate compiler flags.\n"
     ]
    }
   ],
   "source": [
    "import tensorflow as tf"
   ]
  },
  {
   "cell_type": "code",
   "execution_count": 40,
   "metadata": {},
   "outputs": [
    {
     "ename": "TypeError",
     "evalue": "__init__() takes exactly 1 positional argument (2 given)",
     "output_type": "error",
     "traceback": [
      "\u001b[0;31m---------------------------------------------------------------------------\u001b[0m",
      "\u001b[0;31mTypeError\u001b[0m                                 Traceback (most recent call last)",
      "Cell \u001b[0;32mIn[40], line 1\u001b[0m\n\u001b[0;32m----> 1\u001b[0m SingleResponse(test)\n",
      "File \u001b[0;32m/usr/local/lib/python3.8/dist-packages/pydantic/main.py:332\u001b[0m, in \u001b[0;36mpydantic.main.BaseModel.__init__\u001b[0;34m()\u001b[0m\n",
      "\u001b[0;31mTypeError\u001b[0m: __init__() takes exactly 1 positional argument (2 given)"
     ]
    }
   ],
   "source": [
    "SingleResponse()"
   ]
  },
  {
   "cell_type": "code",
   "execution_count": 45,
   "metadata": {},
   "outputs": [],
   "source": [
    "j = [input.dict() for input in test_list]\n",
    "t_pred = [\"test_1\", \"test_2\"]\n"
   ]
  },
  {
   "cell_type": "code",
   "execution_count": 46,
   "metadata": {},
   "outputs": [],
   "source": [
    "for input_data, pred_out in zip(j, t_pred):\n",
    "    input_data[\"beer_style\"] = pred_out"
   ]
  },
  {
   "cell_type": "code",
   "execution_count": 47,
   "metadata": {},
   "outputs": [
    {
     "data": {
      "text/plain": [
       "[{'brewery_name': 'up',\n",
       "  'review_aroma': 1.0,\n",
       "  'review_appearance': 2.0,\n",
       "  'review_palate': 3.0,\n",
       "  'review_taste': 4.0,\n",
       "  'beer_abv': 5.0,\n",
       "  'beer_style': 'test_1'},\n",
       " {'brewery_name': 'down',\n",
       "  'review_aroma': 5.0,\n",
       "  'review_appearance': 4.0,\n",
       "  'review_palate': 3.0,\n",
       "  'review_taste': 2.0,\n",
       "  'beer_abv': 1.0,\n",
       "  'beer_style': 'test_2'}]"
      ]
     },
     "execution_count": 47,
     "metadata": {},
     "output_type": "execute_result"
    }
   ],
   "source": [
    "j"
   ]
  },
  {
   "cell_type": "code",
   "execution_count": null,
   "metadata": {},
   "outputs": [],
   "source": []
  }
 ],
 "metadata": {
  "kernelspec": {
   "display_name": "Python 3",
   "language": "python",
   "name": "python3"
  },
  "language_info": {
   "codemirror_mode": {
    "name": "ipython",
    "version": 3
   },
   "file_extension": ".py",
   "mimetype": "text/x-python",
   "name": "python",
   "nbconvert_exporter": "python",
   "pygments_lexer": "ipython3",
   "version": "3.8.10"
  },
  "orig_nbformat": 4
 },
 "nbformat": 4,
 "nbformat_minor": 2
}
