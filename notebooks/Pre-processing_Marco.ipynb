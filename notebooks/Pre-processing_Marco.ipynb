{
 "cells": [
  {
   "cell_type": "markdown",
   "id": "1a7dcf5e-a8f4-4687-b9c3-e8eb8abd1654",
   "metadata": {},
   "source": [
    "## Preprocessing"
   ]
  },
  {
   "cell_type": "code",
   "execution_count": 1,
   "id": "f4d4d35e-9c92-4325-9cf2-eb934bcbd25e",
   "metadata": {},
   "outputs": [],
   "source": [
    "%load_ext autoreload\n",
    "%autoreload 2"
   ]
  },
  {
   "cell_type": "code",
   "execution_count": 23,
   "id": "0db652fb-a62d-4c4b-b916-2b7b264edec8",
   "metadata": {},
   "outputs": [],
   "source": [
    "# Getting Packages\n",
    "import pandas as pd\n",
    "import numpy as np\n",
    "import os\n",
    "from sklearn.preprocessing import LabelEncoder\n",
    "from joblib import load\n",
    "from sklearn.preprocessing import StandardScaler\n",
    "from joblib import dump\n"
   ]
  },
  {
   "cell_type": "code",
   "execution_count": 24,
   "id": "927bc49d-3b21-4eec-9c80-ab6d0b49faaf",
   "metadata": {},
   "outputs": [
    {
     "data": {
      "text/html": [
       "<div>\n",
       "<style scoped>\n",
       "    .dataframe tbody tr th:only-of-type {\n",
       "        vertical-align: middle;\n",
       "    }\n",
       "\n",
       "    .dataframe tbody tr th {\n",
       "        vertical-align: top;\n",
       "    }\n",
       "\n",
       "    .dataframe thead th {\n",
       "        text-align: right;\n",
       "    }\n",
       "</style>\n",
       "<table border=\"1\" class=\"dataframe\">\n",
       "  <thead>\n",
       "    <tr style=\"text-align: right;\">\n",
       "      <th></th>\n",
       "      <th>brewery_id</th>\n",
       "      <th>brewery_name</th>\n",
       "      <th>review_time</th>\n",
       "      <th>review_overall</th>\n",
       "      <th>review_aroma</th>\n",
       "      <th>review_appearance</th>\n",
       "      <th>review_profilename</th>\n",
       "      <th>beer_style</th>\n",
       "      <th>review_palate</th>\n",
       "      <th>review_taste</th>\n",
       "      <th>beer_name</th>\n",
       "      <th>beer_abv</th>\n",
       "      <th>beer_beerid</th>\n",
       "    </tr>\n",
       "  </thead>\n",
       "  <tbody>\n",
       "    <tr>\n",
       "      <th>0</th>\n",
       "      <td>10325</td>\n",
       "      <td>Vecchio Birraio</td>\n",
       "      <td>1234817823</td>\n",
       "      <td>1.5</td>\n",
       "      <td>2.0</td>\n",
       "      <td>2.5</td>\n",
       "      <td>stcules</td>\n",
       "      <td>Hefeweizen</td>\n",
       "      <td>1.5</td>\n",
       "      <td>1.5</td>\n",
       "      <td>Sausa Weizen</td>\n",
       "      <td>5.0</td>\n",
       "      <td>47986</td>\n",
       "    </tr>\n",
       "    <tr>\n",
       "      <th>1</th>\n",
       "      <td>10325</td>\n",
       "      <td>Vecchio Birraio</td>\n",
       "      <td>1235915097</td>\n",
       "      <td>3.0</td>\n",
       "      <td>2.5</td>\n",
       "      <td>3.0</td>\n",
       "      <td>stcules</td>\n",
       "      <td>English Strong Ale</td>\n",
       "      <td>3.0</td>\n",
       "      <td>3.0</td>\n",
       "      <td>Red Moon</td>\n",
       "      <td>6.2</td>\n",
       "      <td>48213</td>\n",
       "    </tr>\n",
       "    <tr>\n",
       "      <th>2</th>\n",
       "      <td>10325</td>\n",
       "      <td>Vecchio Birraio</td>\n",
       "      <td>1235916604</td>\n",
       "      <td>3.0</td>\n",
       "      <td>2.5</td>\n",
       "      <td>3.0</td>\n",
       "      <td>stcules</td>\n",
       "      <td>Foreign / Export Stout</td>\n",
       "      <td>3.0</td>\n",
       "      <td>3.0</td>\n",
       "      <td>Black Horse Black Beer</td>\n",
       "      <td>6.5</td>\n",
       "      <td>48215</td>\n",
       "    </tr>\n",
       "    <tr>\n",
       "      <th>3</th>\n",
       "      <td>10325</td>\n",
       "      <td>Vecchio Birraio</td>\n",
       "      <td>1234725145</td>\n",
       "      <td>3.0</td>\n",
       "      <td>3.0</td>\n",
       "      <td>3.5</td>\n",
       "      <td>stcules</td>\n",
       "      <td>German Pilsener</td>\n",
       "      <td>2.5</td>\n",
       "      <td>3.0</td>\n",
       "      <td>Sausa Pils</td>\n",
       "      <td>5.0</td>\n",
       "      <td>47969</td>\n",
       "    </tr>\n",
       "    <tr>\n",
       "      <th>4</th>\n",
       "      <td>1075</td>\n",
       "      <td>Caldera Brewing Company</td>\n",
       "      <td>1293735206</td>\n",
       "      <td>4.0</td>\n",
       "      <td>4.5</td>\n",
       "      <td>4.0</td>\n",
       "      <td>johnmichaelsen</td>\n",
       "      <td>American Double / Imperial IPA</td>\n",
       "      <td>4.0</td>\n",
       "      <td>4.5</td>\n",
       "      <td>Cauldron DIPA</td>\n",
       "      <td>7.7</td>\n",
       "      <td>64883</td>\n",
       "    </tr>\n",
       "  </tbody>\n",
       "</table>\n",
       "</div>"
      ],
      "text/plain": [
       "   brewery_id             brewery_name  review_time  review_overall  \\\n",
       "0       10325          Vecchio Birraio   1234817823             1.5   \n",
       "1       10325          Vecchio Birraio   1235915097             3.0   \n",
       "2       10325          Vecchio Birraio   1235916604             3.0   \n",
       "3       10325          Vecchio Birraio   1234725145             3.0   \n",
       "4        1075  Caldera Brewing Company   1293735206             4.0   \n",
       "\n",
       "   review_aroma  review_appearance review_profilename  \\\n",
       "0           2.0                2.5            stcules   \n",
       "1           2.5                3.0            stcules   \n",
       "2           2.5                3.0            stcules   \n",
       "3           3.0                3.5            stcules   \n",
       "4           4.5                4.0     johnmichaelsen   \n",
       "\n",
       "                       beer_style  review_palate  review_taste  \\\n",
       "0                      Hefeweizen            1.5           1.5   \n",
       "1              English Strong Ale            3.0           3.0   \n",
       "2          Foreign / Export Stout            3.0           3.0   \n",
       "3                 German Pilsener            2.5           3.0   \n",
       "4  American Double / Imperial IPA            4.0           4.5   \n",
       "\n",
       "                beer_name  beer_abv  beer_beerid  \n",
       "0            Sausa Weizen       5.0        47986  \n",
       "1                Red Moon       6.2        48213  \n",
       "2  Black Horse Black Beer       6.5        48215  \n",
       "3              Sausa Pils       5.0        47969  \n",
       "4           Cauldron DIPA       7.7        64883  "
      ]
     },
     "execution_count": 24,
     "metadata": {},
     "output_type": "execute_result"
    }
   ],
   "source": [
    "# Getting Data \n",
    "df_raw = pd.read_csv(\"../data/raw/beer_reviews.csv\")\n",
    "df_raw.head()\n"
   ]
  },
  {
   "cell_type": "code",
   "execution_count": 25,
   "id": "05dbf89f-1a1e-4ea7-85bd-1c6232d2bd3e",
   "metadata": {},
   "outputs": [
    {
     "name": "stdout",
     "output_type": "stream",
     "text": [
      "<class 'pandas.core.frame.DataFrame'>\n",
      "RangeIndex: 1586614 entries, 0 to 1586613\n",
      "Data columns (total 13 columns):\n",
      " #   Column              Non-Null Count    Dtype  \n",
      "---  ------              --------------    -----  \n",
      " 0   brewery_id          1586614 non-null  int64  \n",
      " 1   brewery_name        1586599 non-null  object \n",
      " 2   review_time         1586614 non-null  int64  \n",
      " 3   review_overall      1586614 non-null  float64\n",
      " 4   review_aroma        1586614 non-null  float64\n",
      " 5   review_appearance   1586614 non-null  float64\n",
      " 6   review_profilename  1586266 non-null  object \n",
      " 7   beer_style          1586614 non-null  object \n",
      " 8   review_palate       1586614 non-null  float64\n",
      " 9   review_taste        1586614 non-null  float64\n",
      " 10  beer_name           1586614 non-null  object \n",
      " 11  beer_abv            1518829 non-null  float64\n",
      " 12  beer_beerid         1586614 non-null  int64  \n",
      "dtypes: float64(6), int64(3), object(4)\n",
      "memory usage: 157.4+ MB\n"
     ]
    }
   ],
   "source": [
    "# Info Data\n",
    "df_raw.info()"
   ]
  },
  {
   "cell_type": "code",
   "execution_count": 26,
   "id": "06c287c6-4b58-447d-a5c0-29519713285a",
   "metadata": {},
   "outputs": [
    {
     "data": {
      "text/plain": [
       "(1586614, 7)"
      ]
     },
     "execution_count": 26,
     "metadata": {},
     "output_type": "execute_result"
    }
   ],
   "source": [
    "# Drop the columns\n",
    "features_drop = ['brewery_id','review_time','review_overall','review_profilename','beer_name','beer_beerid']\n",
    "df_prep = df_raw.drop(features_drop, axis=1)\n",
    "df_prep.shape"
   ]
  },
  {
   "cell_type": "code",
   "execution_count": 27,
   "id": "17dc05e5-481a-4c9f-970c-d275745df4c2",
   "metadata": {},
   "outputs": [],
   "source": [
    "# Dropping_nan for beer_style (incidents not useful for training or validation)\n",
    "df_prep.dropna(subset=['beer_style'], inplace=True)\n",
    "df_prep.reset_index(drop=True, inplace=True)"
   ]
  },
  {
   "cell_type": "code",
   "execution_count": 28,
   "id": "ac129717-3d0f-4bcc-836b-b296190ba552",
   "metadata": {},
   "outputs": [],
   "source": [
    "# Hash encoding column 'brewery_name'\n",
    "from src.data.sets import apply_hashing_trick\n",
    "\n",
    "categorical_column = 'brewery_name'\n",
    "\n",
    "num_buckets = 10\n",
    "\n",
    "df_prep = apply_hashing_trick(df_prep, categorical_column, num_buckets)\n",
    "df_prep.drop('brewery_name', axis=1, inplace=True)\n"
   ]
  },
  {
   "cell_type": "code",
   "execution_count": 29,
   "id": "22977ca0-9c7a-49ae-b851-478773a0c675",
   "metadata": {},
   "outputs": [
    {
     "name": "stdout",
     "output_type": "stream",
     "text": [
      "   review_aroma  review_appearance  beer_style  review_palate  review_taste  \\\n",
      "0           2.0                2.5          65            1.5           1.5   \n",
      "1           2.5                3.0          51            3.0           3.0   \n",
      "2           2.5                3.0          59            3.0           3.0   \n",
      "3           3.0                3.5          61            2.5           3.0   \n",
      "4           4.5                4.0           9            4.0           4.5   \n",
      "\n",
      "   beer_abv  hashed_brewery_name  \n",
      "0       5.0                    6  \n",
      "1       6.2                    6  \n",
      "2       6.5                    6  \n",
      "3       5.0                    6  \n",
      "4       7.7                    5  \n"
     ]
    }
   ],
   "source": [
    "# LabelEncoder for target \n",
    "label_encoder = LabelEncoder()\n",
    "df_prep['beer_style'] = label_encoder.fit_transform(df_prep['beer_style'])\n",
    "print(df_prep.head())\n"
   ]
  },
  {
   "cell_type": "code",
   "execution_count": 30,
   "id": "44ac1c17-394d-4538-a332-6089b6d2cfc7",
   "metadata": {},
   "outputs": [],
   "source": [
    "# Pop Target \n",
    "from src.data.sets import pop_target\n",
    "df_prep, target = pop_target(df=df_prep, target_col='beer_style')\n"
   ]
  },
  {
   "cell_type": "code",
   "execution_count": 31,
   "id": "293efd70-b32c-4bda-9394-191c32753559",
   "metadata": {},
   "outputs": [],
   "source": [
    "# Apply the scaler\n",
    "\n",
    "# scaler = load('../models/scaler.joblib')\n",
    "# df_prep = scaler.transform(df_prep)\n",
    "\n",
    "scaler = StandardScaler()\n",
    "features = pd.DataFrame(scaler.fit_transform(df_prep), columns=df_prep.columns)\n"
   ]
  },
  {
   "cell_type": "code",
   "execution_count": 32,
   "id": "253a50f8-a9af-4d19-9d2d-a85d8985cfbb",
   "metadata": {},
   "outputs": [],
   "source": [
    "# Slitting data set\n",
    "from src.data.sets import split_sets_random\n",
    "\n",
    "X_train, y_train, X_val, y_val, X_test, y_test = split_sets_random(features, target=target, test_ratio=0.2, to_numpy=True)"
   ]
  },
  {
   "cell_type": "code",
   "execution_count": 33,
   "id": "01637f3b-0cfe-47ee-b009-b71b14323f1a",
   "metadata": {},
   "outputs": [],
   "source": [
    "from src.data.sets import save_sets\n",
    "\n",
    "save_sets(X_train, y_train, X_val, y_val, X_test, y_test, path = '../data/processed/')"
   ]
  },
  {
   "cell_type": "code",
   "execution_count": null,
   "id": "d453b10f-a302-45cf-ab86-c30df85a75ed",
   "metadata": {},
   "outputs": [],
   "source": []
  }
 ],
 "metadata": {
  "kernelspec": {
   "display_name": "Python 3 (ipykernel)",
   "language": "python",
   "name": "python3"
  },
  "language_info": {
   "codemirror_mode": {
    "name": "ipython",
    "version": 3
   },
   "file_extension": ".py",
   "mimetype": "text/x-python",
   "name": "python",
   "nbconvert_exporter": "python",
   "pygments_lexer": "ipython3",
   "version": "3.9.13"
  }
 },
 "nbformat": 4,
 "nbformat_minor": 5
}
