{
 "cells": [
  {
   "attachments": {},
   "cell_type": "markdown",
   "metadata": {},
   "source": [
    "This is model from the v3 split dataset"
   ]
  },
  {
   "attachments": {},
   "cell_type": "markdown",
   "metadata": {},
   "source": [
    "By the end of this file\n",
    "1) v3_label_encoder is saved in \"../models/\"\n",
    "2) v3NN_model.joblib is saved in \"../models/\"\n",
    "3) v3NN_model_history.joblib is saved in \"../models/\"\n",
    "4) csv file with th original test_v3 df with prediction is saved in \".../data/external/\" as 'df_X_test_v3_output.csv'\n",
    "5) Classification report on the train_v3 prediction is saved in \".../data/external/\" as 'df_clr_v3NN_X_train_v3.csv'\n",
    "6) Classification report on the test_v3 prediction is saved in \".../data/external/\" as 'df_clr_v3NN_X_test_v3.csv'\n",
    "\n",
    "Custom functions used:\n",
    "1) from ds.data.sets import load_sets_v2\n",
    "2) from ds.visualization.visualize import plot_model_learningcurve, plot_model_accuracy, plot_model_loss, df_classifcation_report"
   ]
  },
  {
   "cell_type": "code",
   "execution_count": 1,
   "metadata": {},
   "outputs": [],
   "source": [
    "%load_ext autoreload\n",
    "%autoreload 2"
   ]
  },
  {
   "cell_type": "code",
   "execution_count": 2,
   "metadata": {},
   "outputs": [
    {
     "name": "stdout",
     "output_type": "stream",
     "text": [
      "Current workpath: /home/tina4aiml/dev/notebooks\n",
      "Parent_folder: /home/tina4aiml/dev\n",
      "/home/tina4aiml/dev/src\n"
     ]
    }
   ],
   "source": [
    "# for Tina machine only, to import .py from src/ds/\n",
    "import os\n",
    "current_workpath = os.getcwd()\n",
    "print(\"Current workpath:\", current_workpath)\n",
    "\n",
    "parent_folder = os.path.dirname(current_workpath)\n",
    "print(\"Parent_folder:\", parent_folder)\n",
    "\n",
    "import sys\n",
    "sys.path.append(parent_folder+'/src')\n",
    "print(sys.path[-1])"
   ]
  },
  {
   "cell_type": "code",
   "execution_count": 3,
   "metadata": {},
   "outputs": [],
   "source": [
    "rawfile_name = 'beer_reviews'\n",
    "rawfile_format = '.csv'\n",
    "rawfile_path = \"../data/raw/\"\n",
    "\n",
    "interim_folder_path = \"../data/interim/\"\n",
    "processed_folder_path  =\"../data/processed/\"\n",
    "external_folder_path  =\"../data/external/\"\n",
    "model_folder_path = \"../models/\""
   ]
  },
  {
   "attachments": {},
   "cell_type": "markdown",
   "metadata": {},
   "source": [
    "# import data"
   ]
  },
  {
   "cell_type": "code",
   "execution_count": 4,
   "metadata": {},
   "outputs": [],
   "source": [
    "import pandas as pd\n",
    "import numpy as np"
   ]
  },
  {
   "cell_type": "code",
   "execution_count": 5,
   "metadata": {},
   "outputs": [],
   "source": [
    "from ds.data.sets import load_sets_v2"
   ]
  },
  {
   "cell_type": "code",
   "execution_count": 6,
   "metadata": {},
   "outputs": [],
   "source": [
    "X_train_v3, y_train_v3, X_val_v3, y_val_v3, X_test_v3, y_test_v3 = load_sets_v2(path='../data/processed/', suffix='_v3')"
   ]
  },
  {
   "cell_type": "code",
   "execution_count": 7,
   "metadata": {},
   "outputs": [
    {
     "name": "stdout",
     "output_type": "stream",
     "text": [
      "X_train_v3 shape: (951968, 6)\n",
      "y_train_v3 shape: (951968,)\n",
      "X_val_v3 shape: (317323, 6)\n",
      "y_val_v3 shape: (317323,)\n",
      "X_test_v3 shape: (317323, 6)\n",
      "y_test_v3 shape: (317323,)\n"
     ]
    }
   ],
   "source": [
    "# Check if the datasets were loaded successfully\n",
    "if X_train_v3 is not None:\n",
    "    print(\"X_train_v3 shape:\", X_train_v3.shape) # (951968, 6)\n",
    "else:\n",
    "    print(\"X_train_v3 file not found\")\n",
    "\n",
    "if y_train_v3 is not None:\n",
    "    print(\"y_train_v3 shape:\", y_train_v3.shape) #(951968,)\n",
    "else:\n",
    "    print(\"y_train_v3 file not found\") \n",
    "\n",
    "if X_val_v3 is not None:\n",
    "    print(\"X_val_v3 shape:\", X_val_v3.shape) # (317323, 6)\n",
    "else:\n",
    "    print(\"X_val_v3 file not found\")\n",
    "\n",
    "if y_val_v3 is not None:\n",
    "    print(\"y_val_v3 shape:\", y_val_v3.shape) # (317323,)\n",
    "else:\n",
    "    print(\"y_val_v3 file not found\")\n",
    "\n",
    "if X_test_v3 is not None:\n",
    "    print(\"X_test_v3 shape:\", X_test_v3.shape) # (317323, 6)\n",
    "else:\n",
    "    print(\"X_test_v3 file not found\")\n",
    "\n",
    "if y_test_v3 is not None:\n",
    "    print(\"y_test_v3 shape:\", y_test_v3.shape) # (317323,)\n",
    "else:\n",
    "    print(\"y_test_v3 file not found\")"
   ]
  },
  {
   "attachments": {},
   "cell_type": "markdown",
   "metadata": {},
   "source": [
    "# Encode target"
   ]
  },
  {
   "cell_type": "code",
   "execution_count": 8,
   "metadata": {},
   "outputs": [],
   "source": [
    "from sklearn.preprocessing import LabelEncoder\n",
    "import joblib\n",
    "\n",
    "# Initialize the LabelEncoder\n",
    "label_encoder = LabelEncoder()\n",
    "\n",
    "# Fit the LabelEncoder on the training set\n",
    "label_encoder.fit(y_train_v3)\n",
    "\n",
    "# Save the LabelEncoder\n",
    "joblib.dump(label_encoder, model_folder_path+'v3_label_encoder.joblib')\n",
    "\n",
    "# Transform the target variables\n",
    "y_train_v3_encoded = label_encoder.transform(y_train_v3).astype(int)\n",
    "y_val_v3_encoded = label_encoder.transform(y_val_v3).astype(int)\n",
    "y_test_v3_encoded = label_encoder.transform(y_test_v3).astype(int)"
   ]
  },
  {
   "cell_type": "code",
   "execution_count": 9,
   "metadata": {},
   "outputs": [],
   "source": [
    "X_train_v3 = X_train_v3.astype(float)\n",
    "X_val_v3 = X_val_v3.astype(float)\n",
    "X_test_v3 = X_test_v3.astype(float)"
   ]
  },
  {
   "cell_type": "code",
   "execution_count": 10,
   "metadata": {},
   "outputs": [
    {
     "name": "stdout",
     "output_type": "stream",
     "text": [
      "int64\n",
      "float64\n"
     ]
    }
   ],
   "source": [
    "#both need to be int\n",
    "print(y_train_v3_encoded.dtype)\n",
    "print(X_train_v3.dtype)"
   ]
  },
  {
   "attachments": {},
   "cell_type": "markdown",
   "metadata": {},
   "source": [
    "# Define Neural Network Architecture"
   ]
  },
  {
   "cell_type": "code",
   "execution_count": 11,
   "metadata": {},
   "outputs": [
    {
     "data": {
      "text/plain": [
       "6"
      ]
     },
     "execution_count": 11,
     "metadata": {},
     "output_type": "execute_result"
    }
   ],
   "source": [
    "features_names = np.load(processed_folder_path+'features_label.npy',allow_pickle=True)\n",
    "features_names_n = len(features_names)\n",
    "features_names_n "
   ]
  },
  {
   "cell_type": "code",
   "execution_count": 12,
   "metadata": {},
   "outputs": [
    {
     "data": {
      "text/plain": [
       "104"
      ]
     },
     "execution_count": 12,
     "metadata": {},
     "output_type": "execute_result"
    }
   ],
   "source": [
    "target_class = np.load(processed_folder_path+'beer_style.npy',allow_pickle=True)\n",
    "target_class_n = len(target_class)\n",
    "target_class_n "
   ]
  },
  {
   "cell_type": "code",
   "execution_count": 13,
   "metadata": {},
   "outputs": [
    {
     "name": "stderr",
     "output_type": "stream",
     "text": [
      "2023-07-08 06:35:35.264799: I tensorflow/core/util/port.cc:110] oneDNN custom operations are on. You may see slightly different numerical results due to floating-point round-off errors from different computation orders. To turn them off, set the environment variable `TF_ENABLE_ONEDNN_OPTS=0`.\n",
      "2023-07-08 06:35:35.307930: I tensorflow/core/platform/cpu_feature_guard.cc:182] This TensorFlow binary is optimized to use available CPU instructions in performance-critical operations.\n",
      "To enable the following instructions: AVX2 AVX512F AVX512_VNNI FMA, in other operations, rebuild TensorFlow with the appropriate compiler flags.\n"
     ]
    }
   ],
   "source": [
    "import tensorflow as tf\n",
    "\n",
    "tf.keras.utils.set_random_seed(1)\n",
    "\n",
    "input_shape = (features_names_n,)\n",
    "num_classes = target_class_n"
   ]
  },
  {
   "cell_type": "code",
   "execution_count": 14,
   "metadata": {},
   "outputs": [],
   "source": [
    "## callback that will decrease the learning rate by a factor of 0.2 if the model doesn't improve after 5 epochs\n",
    "from tensorflow.keras.callbacks import EarlyStopping, ReduceLROnPlateau\n",
    "reduce_lr = ReduceLROnPlateau(monitor='val_loss', factor=0.2, patience=3, min_lr=0.0000001)"
   ]
  },
  {
   "cell_type": "code",
   "execution_count": 15,
   "metadata": {},
   "outputs": [
    {
     "name": "stderr",
     "output_type": "stream",
     "text": [
      "2023-07-08 06:35:36.779072: I tensorflow/compiler/xla/stream_executor/cuda/cuda_gpu_executor.cc:982] could not open file to read NUMA node: /sys/bus/pci/devices/0000:01:00.0/numa_node\n",
      "Your kernel may have been built without NUMA support.\n",
      "2023-07-08 06:35:36.787374: I tensorflow/compiler/xla/stream_executor/cuda/cuda_gpu_executor.cc:982] could not open file to read NUMA node: /sys/bus/pci/devices/0000:01:00.0/numa_node\n",
      "Your kernel may have been built without NUMA support.\n",
      "2023-07-08 06:35:36.787699: I tensorflow/compiler/xla/stream_executor/cuda/cuda_gpu_executor.cc:982] could not open file to read NUMA node: /sys/bus/pci/devices/0000:01:00.0/numa_node\n",
      "Your kernel may have been built without NUMA support.\n",
      "2023-07-08 06:35:36.789626: I tensorflow/compiler/xla/stream_executor/cuda/cuda_gpu_executor.cc:982] could not open file to read NUMA node: /sys/bus/pci/devices/0000:01:00.0/numa_node\n",
      "Your kernel may have been built without NUMA support.\n",
      "2023-07-08 06:35:36.789896: I tensorflow/compiler/xla/stream_executor/cuda/cuda_gpu_executor.cc:982] could not open file to read NUMA node: /sys/bus/pci/devices/0000:01:00.0/numa_node\n",
      "Your kernel may have been built without NUMA support.\n",
      "2023-07-08 06:35:36.790122: I tensorflow/compiler/xla/stream_executor/cuda/cuda_gpu_executor.cc:982] could not open file to read NUMA node: /sys/bus/pci/devices/0000:01:00.0/numa_node\n",
      "Your kernel may have been built without NUMA support.\n",
      "2023-07-08 06:35:37.489780: I tensorflow/compiler/xla/stream_executor/cuda/cuda_gpu_executor.cc:982] could not open file to read NUMA node: /sys/bus/pci/devices/0000:01:00.0/numa_node\n",
      "Your kernel may have been built without NUMA support.\n",
      "2023-07-08 06:35:37.490516: I tensorflow/compiler/xla/stream_executor/cuda/cuda_gpu_executor.cc:982] could not open file to read NUMA node: /sys/bus/pci/devices/0000:01:00.0/numa_node\n",
      "Your kernel may have been built without NUMA support.\n",
      "2023-07-08 06:35:37.490547: I tensorflow/core/common_runtime/gpu/gpu_device.cc:1722] Could not identify NUMA node of platform GPU id 0, defaulting to 0.  Your kernel may not have been built with NUMA support.\n",
      "2023-07-08 06:35:37.491028: I tensorflow/compiler/xla/stream_executor/cuda/cuda_gpu_executor.cc:982] could not open file to read NUMA node: /sys/bus/pci/devices/0000:01:00.0/numa_node\n",
      "Your kernel may have been built without NUMA support.\n",
      "2023-07-08 06:35:37.491086: I tensorflow/core/common_runtime/gpu/gpu_device.cc:1635] Created device /job:localhost/replica:0/task:0/device:GPU:0 with 3383 MB memory:  -> device: 0, name: NVIDIA GeForce RTX 3060 Laptop GPU, pci bus id: 0000:01:00.0, compute capability: 8.6\n"
     ]
    }
   ],
   "source": [
    "v3NN_model = tf.keras.models.Sequential([\n",
    "    tf.keras.layers.Dense(128, activation='relu', input_shape=input_shape),\n",
    "    tf.keras.layers.Dense(64, activation='relu'),\n",
    "    tf.keras.layers.Dense(32, activation='relu'),\n",
    "    tf.keras.layers.Dense(num_classes, activation='softmax')\n",
    "])\n",
    "\n",
    "v3NN_model.compile(optimizer='adam', loss='sparse_categorical_crossentropy', metrics=['accuracy'])\n"
   ]
  },
  {
   "cell_type": "code",
   "execution_count": 17,
   "metadata": {},
   "outputs": [
    {
     "name": "stdout",
     "output_type": "stream",
     "text": [
      "Epoch 1/10\n",
      "29749/29749 [==============================] - 164s 6ms/step - loss: 3.2386 - accuracy: 0.1998 - val_loss: 3.2122 - val_accuracy: 0.2080 - lr: 0.0010\n",
      "Epoch 2/10\n",
      "29749/29749 [==============================] - 163s 5ms/step - loss: 3.1882 - accuracy: 0.2100 - val_loss: 3.1520 - val_accuracy: 0.2151 - lr: 0.0010\n",
      "Epoch 3/10\n",
      "29749/29749 [==============================] - 156s 5ms/step - loss: 3.1566 - accuracy: 0.2168 - val_loss: 3.1402 - val_accuracy: 0.2235 - lr: 0.0010\n",
      "Epoch 4/10\n",
      "29749/29749 [==============================] - 152s 5ms/step - loss: 3.1367 - accuracy: 0.2217 - val_loss: 3.1362 - val_accuracy: 0.2182 - lr: 0.0010\n",
      "Epoch 5/10\n",
      "29749/29749 [==============================] - 159s 5ms/step - loss: 3.1248 - accuracy: 0.2245 - val_loss: 3.1112 - val_accuracy: 0.2273 - lr: 0.0010\n",
      "Epoch 6/10\n",
      "29749/29749 [==============================] - 118s 4ms/step - loss: 3.1124 - accuracy: 0.2276 - val_loss: 3.1050 - val_accuracy: 0.2302 - lr: 0.0010\n",
      "Epoch 7/10\n",
      "29749/29749 [==============================] - 141s 5ms/step - loss: 3.0984 - accuracy: 0.2315 - val_loss: 3.0884 - val_accuracy: 0.2336 - lr: 0.0010\n",
      "Epoch 8/10\n",
      "29749/29749 [==============================] - 148s 5ms/step - loss: 3.0898 - accuracy: 0.2334 - val_loss: 3.0814 - val_accuracy: 0.2386 - lr: 0.0010\n",
      "Epoch 9/10\n",
      "29749/29749 [==============================] - 168s 6ms/step - loss: 3.0789 - accuracy: 0.2354 - val_loss: 3.0720 - val_accuracy: 0.2390 - lr: 0.0010\n",
      "Epoch 10/10\n",
      "29749/29749 [==============================] - 154s 5ms/step - loss: 3.0697 - accuracy: 0.2369 - val_loss: 3.0636 - val_accuracy: 0.2360 - lr: 0.0010\n"
     ]
    }
   ],
   "source": [
    "n_epochs = 10\n",
    "n_batchsize = 32\n",
    "es_patience = 5\n",
    "monitor_metric = 'val_loss'\n",
    "\n",
    "v3NN_history = v3NN_model.fit(\n",
    "                          X_train_v3, \n",
    "                          y_train_v3_encoded, \n",
    "                          epochs=n_epochs, \n",
    "                          batch_size=n_batchsize, \n",
    "                          validation_data=(X_val_v3, y_val_v3_encoded),    \n",
    "                          callbacks=[        \n",
    "                            EarlyStopping(\n",
    "                            monitor=monitor_metric,\n",
    "                            patience=es_patience,\n",
    "                            restore_best_weights=True\n",
    "                            ),\n",
    "                            reduce_lr\n",
    "                        ] )\n",
    "#runtime = "
   ]
  },
  {
   "cell_type": "code",
   "execution_count": 18,
   "metadata": {},
   "outputs": [
    {
     "data": {
      "text/plain": [
       "['../models/v3NN_model.joblib']"
      ]
     },
     "execution_count": 18,
     "metadata": {},
     "output_type": "execute_result"
    }
   ],
   "source": [
    "from joblib import dump\n",
    "dump(v3NN_model, model_folder_path+'v3NN_model.joblib')"
   ]
  },
  {
   "cell_type": "code",
   "execution_count": 19,
   "metadata": {},
   "outputs": [
    {
     "data": {
      "text/plain": [
       "['../models/v3NN_model_history.joblib']"
      ]
     },
     "execution_count": 19,
     "metadata": {},
     "output_type": "execute_result"
    }
   ],
   "source": [
    "dump(v3NN_model.history, model_folder_path+'v3NN_model_history.joblib')"
   ]
  },
  {
   "cell_type": "markdown",
   "metadata": {},
   "source": [
    "# Model Performance"
   ]
  },
  {
   "cell_type": "code",
   "execution_count": 20,
   "metadata": {},
   "outputs": [],
   "source": [
    "v3NN_model = joblib.load(model_folder_path+'v3NN_model.joblib')"
   ]
  },
  {
   "cell_type": "code",
   "execution_count": 21,
   "metadata": {},
   "outputs": [],
   "source": [
    "v3NN_history = joblib.load(model_folder_path+'v3NN_model_history.joblib')"
   ]
  },
  {
   "cell_type": "code",
   "execution_count": 57,
   "metadata": {},
   "outputs": [
    {
     "name": "stdout",
     "output_type": "stream",
     "text": [
      "Model: \"v3NN_model\"\n",
      "_________________________________________________________________\n",
      " Layer (type)                Output Shape              Param #   \n",
      "=================================================================\n",
      " dense (Dense)               (None, 128)               896       \n",
      "                                                                 \n",
      " dense_1 (Dense)             (None, 64)                8256      \n",
      "                                                                 \n",
      " dense_2 (Dense)             (None, 32)                2080      \n",
      "                                                                 \n",
      " dense_3 (Dense)             (None, 104)               3432      \n",
      "                                                                 \n",
      "=================================================================\n",
      "Total params: 14,664\n",
      "Trainable params: 14,664\n",
      "Non-trainable params: 0\n",
      "_________________________________________________________________\n"
     ]
    }
   ],
   "source": [
    "# Model Summary after model.save\n",
    "v3NN_model._name = 'v3NN_model'\n",
    "v3NN_model.summary()"
   ]
  },
  {
   "cell_type": "code",
   "execution_count": null,
   "metadata": {},
   "outputs": [],
   "source": [
    "# Model- learning curve\n",
    "from ds.visualization.visualize import plot_model_learningcurve\n",
    "plot_model_learningcurve(v3NN_history.history,'NeuralNet on train_v3 - Learning curve')"
   ]
  },
  {
   "cell_type": "code",
   "execution_count": 22,
   "metadata": {},
   "outputs": [
    {
     "data": {
      "image/png": "[encoded data removed]",
      "text/plain": [
       "<Figure size 640x480 with 1 Axes>"
      ]
     },
     "metadata": {},
     "output_type": "display_data"
    }
   ],
   "source": [
    "# plot performance on train set\n",
    "from ds.visualization.visualize import plot_model_accuracy, plot_model_loss\n",
    "\n",
    "plot_model_accuracy(v3NN_history.history,'NeuralNet on train_v3 - Accuracy')"
   ]
  },
  {
   "cell_type": "code",
   "execution_count": 23,
   "metadata": {},
   "outputs": [
    {
     "data": {
      "image/png": "[encoded data removed]",
      "text/plain": [
       "<Figure size 640x480 with 1 Axes>"
      ]
     },
     "metadata": {},
     "output_type": "display_data"
    }
   ],
   "source": [
    "plot_model_loss(v3NN_history.history,'NeuralNet on train_v3 - Loss')"
   ]
  },
  {
   "cell_type": "code",
   "execution_count": 32,
   "metadata": {},
   "outputs": [
    {
     "name": "stdout",
     "output_type": "stream",
     "text": [
      "29749/29749 [==============================] - 53s 2ms/step\n"
     ]
    }
   ],
   "source": [
    "# classification report\n",
    "v3NN_X_train_v3_predictions = np.argmax(v3NN_model.predict(X_train_v3), axis=1)"
   ]
  },
  {
   "cell_type": "code",
   "execution_count": 68,
   "metadata": {},
   "outputs": [
    {
     "name": "stdout",
     "output_type": "stream",
     "text": [
      "v3NN_model - Trainset Accuracy: 0.23646803253890888\n",
      "v3NN_model - Trainset Precision: 0.27492554151748233\n",
      "v3NN_model - Trainset Recall: 0.23646803253890888\n",
      "v3NN_model - Trainset F1 Score: 0.1869457649785264\n"
     ]
    }
   ],
   "source": [
    "#print overperformance metrics\n",
    "from ds.visualization.visualize import print_overall_model_metric\n",
    "print_overall_model_metric(y_train_v3_encoded,v3NN_X_train_v3_predictions, 'v3NN_model','Trainset')"
   ]
  },
  {
   "cell_type": "code",
   "execution_count": null,
   "metadata": {},
   "outputs": [],
   "source": [
    "#features_names = np.load(processed_folder_path+'features_label.npy',allow_pickle=True)\n",
    "#target_class = np.load(processed_folder_path+'beer_style.npy',allow_pickle=True)"
   ]
  },
  {
   "cell_type": "code",
   "execution_count": 55,
   "metadata": {},
   "outputs": [
    {
     "name": "stdout",
     "output_type": "stream",
     "text": [
      "                                                    Precision  Recall  \\\n",
      "Class                                                                   \n",
      "support\\n\\n                         Hefeweizen ...       0.00    0.00   \n",
      "English Strong Ale                                       0.24    0.70   \n",
      "Foreign / Export Stout                                   0.20    0.19   \n",
      "German Pilsener                                          0.14    0.00   \n",
      "American Double / Imperial IPA                           0.43    0.20   \n",
      "...                                                       ...     ...   \n",
      "Happoshu                                                 0.00    0.00   \n",
      "Sahti                                                    0.49    0.16   \n",
      "Bière de Champagne / Bière Brut                          0.14    0.11   \n",
      "951968\\n                          macro avg              0.24    0.12   \n",
      "weighted avg                                             0.27    0.24   \n",
      "\n",
      "                                                    F1-Score   Support  \n",
      "Class                                                                   \n",
      "support\\n\\n                         Hefeweizen ...      0.00    4589.0  \n",
      "English Strong Ale                                      0.36   18521.0  \n",
      "Foreign / Export Stout                                  0.20   27213.0  \n",
      "German Pilsener                                         0.00    5553.0  \n",
      "American Double / Imperial IPA                          0.27   16019.0  \n",
      "...                                                      ...       ...  \n",
      "Happoshu                                                0.00    2199.0  \n",
      "Sahti                                                   0.25   12416.0  \n",
      "Bière de Champagne / Bière Brut                         0.12   18106.0  \n",
      "951968\\n                          macro avg             0.13  951968.0  \n",
      "weighted avg                                            0.19  951968.0  \n",
      "\n",
      "[106 rows x 4 columns]\n"
     ]
    }
   ],
   "source": [
    "from ds.visualization.visualize import df_classifcation_report\n",
    "df_classifcation_report(\n",
    "    y_encoded = y_train_v3_encoded, \n",
    "    y_prediction = v3NN_X_train_v3_predictions, \n",
    "    target_names = target_class,\n",
    "    filename = 'df_clr_v3NN_X_train_v3.csv', \n",
    "    dest = external_folder_path\n",
    "    )"
   ]
  },
  {
   "attachments": {},
   "cell_type": "markdown",
   "metadata": {},
   "source": [
    "# 2) Get Accuracy on test_set"
   ]
  },
  {
   "cell_type": "code",
   "execution_count": 24,
   "metadata": {},
   "outputs": [
    {
     "name": "stdout",
     "output_type": "stream",
     "text": [
      "9917/9917 [==============================] - 16s 2ms/step\n"
     ]
    },
    {
     "data": {
      "text/plain": [
       "array([98,  9,  2, ..., 12, 12, 98])"
      ]
     },
     "execution_count": 24,
     "metadata": {},
     "output_type": "execute_result"
    }
   ],
   "source": [
    "y_test_v3_pred_probs = v3NN_model.predict(X_test_v3)\n",
    "y_test_v3_pred = y_test_v3_pred_probs.argmax(axis=1)\n",
    "y_test_v3_pred"
   ]
  },
  {
   "cell_type": "code",
   "execution_count": 25,
   "metadata": {},
   "outputs": [],
   "source": [
    "from sklearn.metrics import accuracy_score\n",
    "v3NN_model_test_accuracy = accuracy_score(y_test_v3_encoded, y_test_v3_pred)"
   ]
  },
  {
   "cell_type": "code",
   "execution_count": 26,
   "metadata": {},
   "outputs": [
    {
     "name": "stdout",
     "output_type": "stream",
     "text": [
      "Test Set Accuracy: 0.23450868673244613 or 23.45%\n"
     ]
    }
   ],
   "source": [
    "print(f\"Test Set Accuracy: {v3NN_model_test_accuracy} or {v3NN_model_test_accuracy:.2%}\")"
   ]
  },
  {
   "cell_type": "code",
   "execution_count": 69,
   "metadata": {},
   "outputs": [
    {
     "name": "stdout",
     "output_type": "stream",
     "text": [
      "v3NN_model - Testset Accuracy: 0.23450868673244613\n",
      "v3NN_model - Testset Precision: 0.27564628804585606\n",
      "v3NN_model - Testset Recall: 0.23450868673244613\n",
      "v3NN_model - Testset F1 Score: 0.18510128840197598\n"
     ]
    }
   ],
   "source": [
    "print_overall_model_metric(y_test_v3_encoded, y_test_v3_pred, 'v3NN_model','Testset')"
   ]
  },
  {
   "cell_type": "code",
   "execution_count": 56,
   "metadata": {},
   "outputs": [
    {
     "name": "stdout",
     "output_type": "stream",
     "text": [
      "                                                    Precision  Recall  \\\n",
      "Class                                                                   \n",
      "support\\n\\n                         Hefeweizen ...       0.00    0.00   \n",
      "English Strong Ale                                       0.24    0.71   \n",
      "Foreign / Export Stout                                   0.20    0.19   \n",
      "German Pilsener                                          0.17    0.00   \n",
      "American Double / Imperial IPA                           0.44    0.20   \n",
      "...                                                       ...     ...   \n",
      "Happoshu                                                 0.00    0.00   \n",
      "Sahti                                                    0.50    0.16   \n",
      "Bière de Champagne / Bière Brut                          0.13    0.10   \n",
      "317323\\n                          macro avg              0.24    0.12   \n",
      "weighted avg                                             0.28    0.23   \n",
      "\n",
      "                                                    F1-Score   Support  \n",
      "Class                                                                   \n",
      "support\\n\\n                         Hefeweizen ...      0.00    1521.0  \n",
      "English Strong Ale                                      0.36    6085.0  \n",
      "Foreign / Export Stout                                  0.20    9288.0  \n",
      "German Pilsener                                         0.00    1887.0  \n",
      "American Double / Imperial IPA                          0.28    5390.0  \n",
      "...                                                      ...       ...  \n",
      "Happoshu                                                0.00     731.0  \n",
      "Sahti                                                   0.25    4130.0  \n",
      "Bière de Champagne / Bière Brut                         0.12    5896.0  \n",
      "317323\\n                          macro avg             0.12  317323.0  \n",
      "weighted avg                                            0.19  317323.0  \n",
      "\n",
      "[106 rows x 4 columns]\n"
     ]
    }
   ],
   "source": [
    "# Classification report\n",
    "df_classifcation_report(\n",
    "    y_encoded = y_test_v3_encoded, \n",
    "    y_prediction = y_test_v3_pred, \n",
    "    target_names = target_class,\n",
    "    filename = 'df_clr_v3NN_X_test_v3.csv', \n",
    "    dest = external_folder_path\n",
    "    )"
   ]
  },
  {
   "cell_type": "code",
   "execution_count": 27,
   "metadata": {},
   "outputs": [
    {
     "data": {
      "text/plain": [
       "array(['Tripel', 'American Double / Imperial IPA',\n",
       "       'American Amber / Red Ale', ..., 'American IPA', 'American IPA',\n",
       "       'Tripel'], dtype=object)"
      ]
     },
     "execution_count": 27,
     "metadata": {},
     "output_type": "execute_result"
    }
   ],
   "source": [
    "# Load the saved LabelEncoder\n",
    "label_encoder = joblib.load(model_folder_path+'v3_label_encoder.joblib')\n",
    "\n",
    "# Revert the encoded labels back to their original text form\n",
    "y_test_v3_pred_decoded = label_encoder.inverse_transform(y_test_v3_pred)\n",
    "y_test_v3_pred_decoded"
   ]
  },
  {
   "attachments": {},
   "cell_type": "markdown",
   "metadata": {},
   "source": [
    "# Assemble back to df"
   ]
  },
  {
   "cell_type": "code",
   "execution_count": 28,
   "metadata": {},
   "outputs": [],
   "source": [
    "df_X_test_v3_unencoded = pd.read_pickle(interim_folder_path + 'df_X_test_v3_unencoded.pkl')"
   ]
  },
  {
   "cell_type": "code",
   "execution_count": 29,
   "metadata": {},
   "outputs": [],
   "source": [
    "df_X_test_v3_unencoded['prediction'] = y_test_v3_pred_decoded"
   ]
  },
  {
   "cell_type": "code",
   "execution_count": 31,
   "metadata": {},
   "outputs": [],
   "source": [
    "df_X_test_v3_unencoded.to_csv(external_folder_path+'df_X_test_v3_output.csv', index=True)"
   ]
  }
 ],
 "metadata": {
  "kernelspec": {
   "display_name": "Python 3",
   "language": "python",
   "name": "python3"
  },
  "language_info": {
   "codemirror_mode": {
    "name": "ipython",
    "version": 3
   },
   "file_extension": ".py",
   "mimetype": "text/x-python",
   "name": "python",
   "nbconvert_exporter": "python",
   "pygments_lexer": "ipython3",
   "version": "3.8.10"
  },
  "orig_nbformat": 4
 },
 "nbformat": 4,
 "nbformat_minor": 2
}
