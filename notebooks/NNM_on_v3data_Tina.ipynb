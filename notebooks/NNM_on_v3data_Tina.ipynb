{
 "cells": [
  {
   "attachments": {},
   "cell_type": "markdown",
   "metadata": {},
   "source": [
    "This is model from the v3 split dataset"
   ]
  },
  {
   "cell_type": "markdown",
   "metadata": {},
   "source": [
    "By the end of this file\n",
    "1) ANN_T_label_encoder is saved in \"../models/\"\n",
    "2) ANN_T_model.joblib is saved in \"../models/\"\n",
    "3) ANN_T_model_history.joblib is saved in \"../models/\"\n",
    "5) Classification report on the train_v3 prediction is saved in \".../data/external/\" as 'df_clr_ANN_T_X_train_v3.csv'\n",
    "6) Classification report on the test_v3 prediction is saved in \".../data/external/\" as 'df_clr_ANN_T_X_test_v3.csv'\n",
    "4) csv file with th original test_v3 df with prediction is saved in \".../data/external/\" as 'df_X_test_v3_output.csv'\n",
    "\n",
    "Custom functions used:\n",
    "1) from ds.data.sets import load_sets_v2\n",
    "2) from ds.models.performance import plot_model_learningcurve, plot_model_accuracy, plot_model_loss, df_classifcation_report"
   ]
  },
  {
   "cell_type": "code",
   "execution_count": 1,
   "metadata": {},
   "outputs": [],
   "source": [
    "%load_ext autoreload\n",
    "%autoreload 2"
   ]
  },
  {
   "cell_type": "code",
   "execution_count": 2,
   "metadata": {},
   "outputs": [
    {
     "name": "stdout",
     "output_type": "stream",
     "text": [
      "Current workpath: /home/tina4aiml/dev/notebooks\n",
      "Parent_folder: /home/tina4aiml/dev\n",
      "/home/tina4aiml/dev/src\n"
     ]
    }
   ],
   "source": [
    "# for Tina machine only, to import .py from src/ds/\n",
    "import os\n",
    "current_workpath = os.getcwd()\n",
    "print(\"Current workpath:\", current_workpath)\n",
    "\n",
    "parent_folder = os.path.dirname(current_workpath)\n",
    "print(\"Parent_folder:\", parent_folder)\n",
    "\n",
    "import sys\n",
    "sys.path.append(parent_folder+'/src')\n",
    "print(sys.path[-1])"
   ]
  },
  {
   "cell_type": "code",
   "execution_count": 3,
   "metadata": {},
   "outputs": [],
   "source": [
    "rawfile_name = 'beer_reviews'\n",
    "rawfile_format = '.csv'\n",
    "rawfile_path = \"../data/raw/\"\n",
    "\n",
    "interim_folder_path = \"../data/interim/\"\n",
    "processed_folder_path  =\"../data/processed/\"\n",
    "external_folder_path  =\"../data/external/\"\n",
    "model_folder_path = \"../models/\""
   ]
  },
  {
   "attachments": {},
   "cell_type": "markdown",
   "metadata": {},
   "source": [
    "# import data"
   ]
  },
  {
   "cell_type": "code",
   "execution_count": 4,
   "metadata": {},
   "outputs": [],
   "source": [
    "import pandas as pd\n",
    "import numpy as np"
   ]
  },
  {
   "cell_type": "code",
   "execution_count": 5,
   "metadata": {},
   "outputs": [],
   "source": [
    "from ds.data.sets import load_sets_v2"
   ]
  },
  {
   "cell_type": "code",
   "execution_count": 6,
   "metadata": {},
   "outputs": [
    {
     "name": "stdout",
     "output_type": "stream",
     "text": [
      "X_train_v3 shape: (951968, 6)\n",
      "y_train_v3 shape: (951968,)\n",
      "X_val_v3 shape: (317323, 6)\n",
      "y_val_v3 shape: (317323,)\n",
      "X_test_v3 shape: (317323, 6)\n",
      "y_test_v3 shape: (317323,)\n"
     ]
    }
   ],
   "source": [
    "X_train_v3, y_train_v3, X_val_v3, y_val_v3, X_test_v3, y_test_v3 = load_sets_v2(path='../data/processed/', suffix='_v3')"
   ]
  },
  {
   "cell_type": "code",
   "execution_count": 7,
   "metadata": {},
   "outputs": [
    {
     "name": "stdout",
     "output_type": "stream",
     "text": [
      "X_train_v3 shape: (951968, 6)\n",
      "y_train_v3 shape: (951968,)\n",
      "X_val_v3 shape: (317323, 6)\n",
      "y_val_v3 shape: (317323,)\n",
      "X_test_v3 shape: (317323, 6)\n",
      "y_test_v3 shape: (317323,)\n"
     ]
    }
   ],
   "source": [
    "# Check if the datasets were loaded successfully\n",
    "if X_train_v3 is not None:\n",
    "    print(\"X_train_v3 shape:\", X_train_v3.shape) # (951968, 6)\n",
    "else:\n",
    "    print(\"X_train_v3 file not found\")\n",
    "\n",
    "if y_train_v3 is not None:\n",
    "    print(\"y_train_v3 shape:\", y_train_v3.shape) #(951968,)\n",
    "else:\n",
    "    print(\"y_train_v3 file not found\") \n",
    "\n",
    "if X_val_v3 is not None:\n",
    "    print(\"X_val_v3 shape:\", X_val_v3.shape) # (317323, 6)\n",
    "else:\n",
    "    print(\"X_val_v3 file not found\")\n",
    "\n",
    "if y_val_v3 is not None:\n",
    "    print(\"y_val_v3 shape:\", y_val_v3.shape) # (317323,)\n",
    "else:\n",
    "    print(\"y_val_v3 file not found\")\n",
    "\n",
    "if X_test_v3 is not None:\n",
    "    print(\"X_test_v3 shape:\", X_test_v3.shape) # (317323, 6)\n",
    "else:\n",
    "    print(\"X_test_v3 file not found\")\n",
    "\n",
    "if y_test_v3 is not None:\n",
    "    print(\"y_test_v3 shape:\", y_test_v3.shape) # (317323,)\n",
    "else:\n",
    "    print(\"y_test_v3 file not found\")"
   ]
  },
  {
   "attachments": {},
   "cell_type": "markdown",
   "metadata": {},
   "source": [
    "# Encode target"
   ]
  },
  {
   "cell_type": "code",
   "execution_count": 8,
   "metadata": {},
   "outputs": [],
   "source": [
    "from sklearn.preprocessing import LabelEncoder\n",
    "import joblib\n",
    "\n",
    "# Initialize the LabelEncoder\n",
    "label_encoder = LabelEncoder()\n",
    "\n",
    "# Fit the LabelEncoder on the training set\n",
    "label_encoder.fit(y_train_v3)\n",
    "\n",
    "# Save the LabelEncoder\n",
    "joblib.dump(label_encoder, model_folder_path+'ANN_T_label_encoder.joblib')\n",
    "\n",
    "# Transform the target variables\n",
    "y_train_v3_encoded = label_encoder.transform(y_train_v3).astype(int)\n",
    "y_val_v3_encoded = label_encoder.transform(y_val_v3).astype(int)\n",
    "y_test_v3_encoded = label_encoder.transform(y_test_v3).astype(int)"
   ]
  },
  {
   "cell_type": "code",
   "execution_count": 9,
   "metadata": {},
   "outputs": [],
   "source": [
    "X_train_v3 = X_train_v3.astype(float)\n",
    "X_val_v3 = X_val_v3.astype(float)\n",
    "X_test_v3 = X_test_v3.astype(float)"
   ]
  },
  {
   "cell_type": "code",
   "execution_count": 10,
   "metadata": {},
   "outputs": [
    {
     "name": "stdout",
     "output_type": "stream",
     "text": [
      "int64\n",
      "float64\n"
     ]
    }
   ],
   "source": [
    "#both need to be int\n",
    "print(y_train_v3_encoded.dtype)\n",
    "print(X_train_v3.dtype)"
   ]
  },
  {
   "attachments": {},
   "cell_type": "markdown",
   "metadata": {},
   "source": [
    "# Define Neural Network Architecture"
   ]
  },
  {
   "cell_type": "code",
   "execution_count": 11,
   "metadata": {},
   "outputs": [
    {
     "data": {
      "text/plain": [
       "6"
      ]
     },
     "execution_count": 11,
     "metadata": {},
     "output_type": "execute_result"
    }
   ],
   "source": [
    "features_names = np.load(processed_folder_path+'features_label.npy',allow_pickle=True)\n",
    "features_names_n = len(features_names)\n",
    "features_names_n "
   ]
  },
  {
   "cell_type": "code",
   "execution_count": 12,
   "metadata": {},
   "outputs": [
    {
     "data": {
      "text/plain": [
       "104"
      ]
     },
     "execution_count": 12,
     "metadata": {},
     "output_type": "execute_result"
    }
   ],
   "source": [
    "target_class = np.load(processed_folder_path+'beer_style.npy',allow_pickle=True)\n",
    "target_class_n = len(target_class)\n",
    "target_class_n "
   ]
  },
  {
   "cell_type": "code",
   "execution_count": 13,
   "metadata": {},
   "outputs": [
    {
     "name": "stderr",
     "output_type": "stream",
     "text": [
      "2023-07-09 12:44:01.470694: I tensorflow/core/util/port.cc:110] oneDNN custom operations are on. You may see slightly different numerical results due to floating-point round-off errors from different computation orders. To turn them off, set the environment variable `TF_ENABLE_ONEDNN_OPTS=0`.\n",
      "2023-07-09 12:44:01.583404: I tensorflow/core/platform/cpu_feature_guard.cc:182] This TensorFlow binary is optimized to use available CPU instructions in performance-critical operations.\n",
      "To enable the following instructions: AVX2 AVX512F AVX512_VNNI FMA, in other operations, rebuild TensorFlow with the appropriate compiler flags.\n"
     ]
    }
   ],
   "source": [
    "import tensorflow as tf\n",
    "tf.keras.backend.clear_session()"
   ]
  },
  {
   "cell_type": "code",
   "execution_count": 14,
   "metadata": {},
   "outputs": [],
   "source": [
    "tf.keras.utils.set_random_seed(1)\n",
    "num_classes = target_class_n\n",
    "input_shape = (features_names_n,)\n"
   ]
  },
  {
   "cell_type": "code",
   "execution_count": 15,
   "metadata": {},
   "outputs": [],
   "source": [
    "## callback that will decrease the learning rate by a factor of 0.2 if the model doesn't improve after 5 epochs\n",
    "from tensorflow.keras.callbacks import EarlyStopping, ReduceLROnPlateau\n",
    "reduce_lr = ReduceLROnPlateau(monitor='val_loss', factor=0.2, patience=3, min_lr=0.0000001)"
   ]
  },
  {
   "cell_type": "code",
   "execution_count": 16,
   "metadata": {},
   "outputs": [
    {
     "name": "stderr",
     "output_type": "stream",
     "text": [
      "2023-07-09 12:44:03.531789: I tensorflow/compiler/xla/stream_executor/cuda/cuda_gpu_executor.cc:982] could not open file to read NUMA node: /sys/bus/pci/devices/0000:01:00.0/numa_node\n",
      "Your kernel may have been built without NUMA support.\n",
      "2023-07-09 12:44:03.554396: I tensorflow/compiler/xla/stream_executor/cuda/cuda_gpu_executor.cc:982] could not open file to read NUMA node: /sys/bus/pci/devices/0000:01:00.0/numa_node\n",
      "Your kernel may have been built without NUMA support.\n",
      "2023-07-09 12:44:03.554745: I tensorflow/compiler/xla/stream_executor/cuda/cuda_gpu_executor.cc:982] could not open file to read NUMA node: /sys/bus/pci/devices/0000:01:00.0/numa_node\n",
      "Your kernel may have been built without NUMA support.\n",
      "2023-07-09 12:44:03.561566: I tensorflow/compiler/xla/stream_executor/cuda/cuda_gpu_executor.cc:982] could not open file to read NUMA node: /sys/bus/pci/devices/0000:01:00.0/numa_node\n",
      "Your kernel may have been built without NUMA support.\n",
      "2023-07-09 12:44:03.561971: I tensorflow/compiler/xla/stream_executor/cuda/cuda_gpu_executor.cc:982] could not open file to read NUMA node: /sys/bus/pci/devices/0000:01:00.0/numa_node\n",
      "Your kernel may have been built without NUMA support.\n",
      "2023-07-09 12:44:03.562332: I tensorflow/compiler/xla/stream_executor/cuda/cuda_gpu_executor.cc:982] could not open file to read NUMA node: /sys/bus/pci/devices/0000:01:00.0/numa_node\n",
      "Your kernel may have been built without NUMA support.\n",
      "2023-07-09 12:44:05.663900: I tensorflow/compiler/xla/stream_executor/cuda/cuda_gpu_executor.cc:982] could not open file to read NUMA node: /sys/bus/pci/devices/0000:01:00.0/numa_node\n",
      "Your kernel may have been built without NUMA support.\n",
      "2023-07-09 12:44:05.664198: I tensorflow/compiler/xla/stream_executor/cuda/cuda_gpu_executor.cc:982] could not open file to read NUMA node: /sys/bus/pci/devices/0000:01:00.0/numa_node\n",
      "Your kernel may have been built without NUMA support.\n",
      "2023-07-09 12:44:05.664211: I tensorflow/core/common_runtime/gpu/gpu_device.cc:1722] Could not identify NUMA node of platform GPU id 0, defaulting to 0.  Your kernel may not have been built with NUMA support.\n",
      "2023-07-09 12:44:05.664434: I tensorflow/compiler/xla/stream_executor/cuda/cuda_gpu_executor.cc:982] could not open file to read NUMA node: /sys/bus/pci/devices/0000:01:00.0/numa_node\n",
      "Your kernel may have been built without NUMA support.\n",
      "2023-07-09 12:44:05.664473: I tensorflow/core/common_runtime/gpu/gpu_device.cc:1635] Created device /job:localhost/replica:0/task:0/device:GPU:0 with 3383 MB memory:  -> device: 0, name: NVIDIA GeForce RTX 3060 Laptop GPU, pci bus id: 0000:01:00.0, compute capability: 8.6\n"
     ]
    }
   ],
   "source": [
    "ANN_T_model = tf.keras.models.Sequential([\n",
    "    tf.keras.layers.Dense(128, activation='relu', input_shape=input_shape),\n",
    "    tf.keras.layers.Dense(64, activation='relu'),\n",
    "    tf.keras.layers.Dense(32, activation='relu'),\n",
    "    tf.keras.layers.Dense(16, activation='relu'),\n",
    "    tf.keras.layers.Dense(num_classes, activation='softmax')\n",
    "])\n",
    "\n",
    "ANN_T_model.compile(optimizer='adam', loss='sparse_categorical_crossentropy', metrics=['accuracy'])\n"
   ]
  },
  {
   "cell_type": "code",
   "execution_count": 17,
   "metadata": {},
   "outputs": [
    {
     "name": "stdout",
     "output_type": "stream",
     "text": [
      "Epoch 1/20\n"
     ]
    },
    {
     "name": "stderr",
     "output_type": "stream",
     "text": [
      "2023-07-09 12:44:07.711669: I tensorflow/compiler/xla/stream_executor/cuda/cuda_blas.cc:637] TensorFloat-32 will be used for the matrix multiplication. This will only be logged once.\n",
      "2023-07-09 12:44:07.734043: I tensorflow/compiler/xla/service/service.cc:169] XLA service 0x7f3b830d5660 initialized for platform CUDA (this does not guarantee that XLA will be used). Devices:\n",
      "2023-07-09 12:44:07.734119: I tensorflow/compiler/xla/service/service.cc:177]   StreamExecutor device (0): NVIDIA GeForce RTX 3060 Laptop GPU, Compute Capability 8.6\n",
      "2023-07-09 12:44:07.741727: I tensorflow/compiler/mlir/tensorflow/utils/dump_mlir_util.cc:269] disabling MLIR crash reproducer, set env var `MLIR_CRASH_REPRODUCER_DIRECTORY` to enable.\n",
      "2023-07-09 12:44:08.102606: I tensorflow/compiler/xla/stream_executor/cuda/cuda_dnn.cc:424] Loaded cuDNN version 8600\n",
      "2023-07-09 12:44:08.224052: I ./tensorflow/compiler/jit/device_compiler.h:180] Compiled cluster using XLA!  This line is logged at most once for the lifetime of the process.\n"
     ]
    },
    {
     "name": "stdout",
     "output_type": "stream",
     "text": [
      "29749/29749 [==============================] - 156s 5ms/step - loss: 3.4548 - accuracy: 0.1708 - val_loss: 3.3080 - val_accuracy: 0.1899 - lr: 0.0010\n",
      "Epoch 2/20\n",
      "29749/29749 [==============================] - 155s 5ms/step - loss: 3.2813 - accuracy: 0.1956 - val_loss: 3.2519 - val_accuracy: 0.2035 - lr: 0.0010\n",
      "Epoch 3/20\n",
      "29749/29749 [==============================] - 158s 5ms/step - loss: 3.2454 - accuracy: 0.2020 - val_loss: 3.2142 - val_accuracy: 0.2078 - lr: 0.0010\n",
      "Epoch 4/20\n",
      "29749/29749 [==============================] - 160s 5ms/step - loss: 3.2187 - accuracy: 0.2091 - val_loss: 3.2138 - val_accuracy: 0.2110 - lr: 0.0010\n",
      "Epoch 5/20\n",
      "29749/29749 [==============================] - 166s 6ms/step - loss: 3.1991 - accuracy: 0.2137 - val_loss: 3.1941 - val_accuracy: 0.2161 - lr: 0.0010\n",
      "Epoch 6/20\n",
      "29749/29749 [==============================] - 164s 6ms/step - loss: 3.1861 - accuracy: 0.2168 - val_loss: 3.1673 - val_accuracy: 0.2184 - lr: 0.0010\n",
      "Epoch 7/20\n",
      "29749/29749 [==============================] - 169s 6ms/step - loss: 3.1783 - accuracy: 0.2189 - val_loss: 3.1583 - val_accuracy: 0.2280 - lr: 0.0010\n",
      "Epoch 8/20\n",
      "29749/29749 [==============================] - 176s 6ms/step - loss: 3.1688 - accuracy: 0.2208 - val_loss: 3.1684 - val_accuracy: 0.2220 - lr: 0.0010\n",
      "Epoch 9/20\n",
      "29749/29749 [==============================] - 172s 6ms/step - loss: 3.1581 - accuracy: 0.2228 - val_loss: 3.1473 - val_accuracy: 0.2273 - lr: 0.0010\n",
      "Epoch 10/20\n",
      "29749/29749 [==============================] - 171s 6ms/step - loss: 3.1505 - accuracy: 0.2249 - val_loss: 3.1611 - val_accuracy: 0.2269 - lr: 0.0010\n",
      "Epoch 11/20\n",
      "29749/29749 [==============================] - 171s 6ms/step - loss: 3.1419 - accuracy: 0.2260 - val_loss: 3.1367 - val_accuracy: 0.2266 - lr: 0.0010\n",
      "Epoch 12/20\n",
      "29749/29749 [==============================] - 175s 6ms/step - loss: 3.1376 - accuracy: 0.2270 - val_loss: 3.1286 - val_accuracy: 0.2239 - lr: 0.0010\n",
      "Epoch 13/20\n",
      "29749/29749 [==============================] - 178s 6ms/step - loss: 3.1305 - accuracy: 0.2287 - val_loss: 3.1245 - val_accuracy: 0.2295 - lr: 0.0010\n",
      "Epoch 14/20\n",
      "29749/29749 [==============================] - 178s 6ms/step - loss: 3.1271 - accuracy: 0.2292 - val_loss: 3.1155 - val_accuracy: 0.2336 - lr: 0.0010\n",
      "Epoch 15/20\n",
      "29749/29749 [==============================] - 176s 6ms/step - loss: 3.1229 - accuracy: 0.2302 - val_loss: 3.0961 - val_accuracy: 0.2340 - lr: 0.0010\n",
      "Epoch 16/20\n",
      "29749/29749 [==============================] - 176s 6ms/step - loss: 3.1242 - accuracy: 0.2310 - val_loss: 3.1284 - val_accuracy: 0.2280 - lr: 0.0010\n",
      "Epoch 17/20\n",
      "29749/29749 [==============================] - 176s 6ms/step - loss: 3.1137 - accuracy: 0.2329 - val_loss: 3.1181 - val_accuracy: 0.2224 - lr: 0.0010\n",
      "Epoch 18/20\n",
      "29749/29749 [==============================] - 178s 6ms/step - loss: 3.1117 - accuracy: 0.2335 - val_loss: 3.1027 - val_accuracy: 0.2371 - lr: 0.0010\n",
      "Epoch 19/20\n",
      "29749/29749 [==============================] - 176s 6ms/step - loss: 3.0479 - accuracy: 0.2495 - val_loss: 3.0435 - val_accuracy: 0.2506 - lr: 2.0000e-04\n",
      "Epoch 20/20\n",
      "29749/29749 [==============================] - 173s 6ms/step - loss: 3.0410 - accuracy: 0.2517 - val_loss: 3.0418 - val_accuracy: 0.2505 - lr: 2.0000e-04\n"
     ]
    }
   ],
   "source": [
    "n_epochs = 20\n",
    "n_batchsize = 32\n",
    "es_patience = 5\n",
    "monitor_metric = 'val_loss'\n",
    "\n",
    "ANN_T_history = ANN_T_model.fit(\n",
    "                          X_train_v3, \n",
    "                          y_train_v3_encoded, \n",
    "                          epochs=n_epochs, \n",
    "                          batch_size=n_batchsize, \n",
    "                          validation_data=(X_val_v3, y_val_v3_encoded),    \n",
    "                          callbacks=[        \n",
    "                            EarlyStopping(\n",
    "                            monitor=monitor_metric,\n",
    "                            patience=es_patience,\n",
    "                            restore_best_weights=True\n",
    "                            ),\n",
    "                            reduce_lr\n",
    "                        ] )\n",
    "#runtime = "
   ]
  },
  {
   "cell_type": "code",
   "execution_count": 18,
   "metadata": {},
   "outputs": [
    {
     "data": {
      "text/plain": [
       "['../models/ANN_T_model.joblib']"
      ]
     },
     "execution_count": 18,
     "metadata": {},
     "output_type": "execute_result"
    }
   ],
   "source": [
    "from joblib import dump\n",
    "dump(ANN_T_model, model_folder_path+'ANN_T_model.joblib')"
   ]
  },
  {
   "cell_type": "code",
   "execution_count": 19,
   "metadata": {},
   "outputs": [
    {
     "data": {
      "text/plain": [
       "['../models/ANN_T_model_history.joblib']"
      ]
     },
     "execution_count": 19,
     "metadata": {},
     "output_type": "execute_result"
    }
   ],
   "source": [
    "dump(ANN_T_model.history, model_folder_path+'ANN_T_model_history.joblib')"
   ]
  },
  {
   "cell_type": "markdown",
   "metadata": {},
   "source": [
    "# Model Performance"
   ]
  },
  {
   "cell_type": "code",
   "execution_count": 20,
   "metadata": {},
   "outputs": [],
   "source": [
    "ANN_T_model = joblib.load(model_folder_path+'ANN_T_model.joblib')"
   ]
  },
  {
   "cell_type": "code",
   "execution_count": 21,
   "metadata": {},
   "outputs": [],
   "source": [
    "ANN_T_history = joblib.load(model_folder_path+'ANN_T_model_history.joblib')"
   ]
  },
  {
   "cell_type": "code",
   "execution_count": 22,
   "metadata": {},
   "outputs": [
    {
     "name": "stdout",
     "output_type": "stream",
     "text": [
      "Model: \"ANN_T_model\"\n",
      "_________________________________________________________________\n",
      " Layer (type)                Output Shape              Param #   \n",
      "=================================================================\n",
      " dense (Dense)               (None, 128)               896       \n",
      "                                                                 \n",
      " dense_1 (Dense)             (None, 64)                8256      \n",
      "                                                                 \n",
      " dense_2 (Dense)             (None, 32)                2080      \n",
      "                                                                 \n",
      " dense_3 (Dense)             (None, 16)                528       \n",
      "                                                                 \n",
      " dense_4 (Dense)             (None, 104)               1768      \n",
      "                                                                 \n",
      "=================================================================\n",
      "Total params: 13,528\n",
      "Trainable params: 13,528\n",
      "Non-trainable params: 0\n",
      "_________________________________________________________________\n"
     ]
    }
   ],
   "source": [
    "# Model Summary after model.save\n",
    "ANN_T_model._name = 'ANN_T_model'\n",
    "ANN_T_model.summary()"
   ]
  },
  {
   "cell_type": "code",
   "execution_count": 23,
   "metadata": {},
   "outputs": [
    {
     "data": {
      "image/png": "[encoded data removed]",
      "text/plain": [
       "<Figure size 640x480 with 1 Axes>"
      ]
     },
     "metadata": {},
     "output_type": "display_data"
    }
   ],
   "source": [
    "# Model- learning curve\n",
    "from ds.models.performance import plot_model_learningcurve\n",
    "plot_model_learningcurve(ANN_T_history.history,'NeuralNet on train_v3 - Learning curve')"
   ]
  },
  {
   "cell_type": "code",
   "execution_count": 24,
   "metadata": {},
   "outputs": [
    {
     "data": {
      "image/png": "[encoded data removed]",
      "text/plain": [
       "<Figure size 640x480 with 1 Axes>"
      ]
     },
     "metadata": {},
     "output_type": "display_data"
    }
   ],
   "source": [
    "# plot performance on train set\n",
    "from ds.models.performance import plot_model_accuracy, plot_model_loss\n",
    "\n",
    "plot_model_accuracy(ANN_T_history.history,'NeuralNet on train_v3 - Accuracy')"
   ]
  },
  {
   "cell_type": "code",
   "execution_count": 25,
   "metadata": {},
   "outputs": [
    {
     "data": {
      "image/png": "[encoded data removed]",
      "text/plain": [
       "<Figure size 640x480 with 1 Axes>"
      ]
     },
     "metadata": {},
     "output_type": "display_data"
    }
   ],
   "source": [
    "plot_model_loss(ANN_T_history.history,'NeuralNet on train_v3 - Loss')"
   ]
  },
  {
   "cell_type": "code",
   "execution_count": 26,
   "metadata": {},
   "outputs": [
    {
     "name": "stdout",
     "output_type": "stream",
     "text": [
      "29749/29749 [==============================] - 44s 1ms/step\n"
     ]
    }
   ],
   "source": [
    "# classification report\n",
    "ANN_T_X_train_v3_predictions = np.argmax(ANN_T_model.predict(X_train_v3), axis=1)"
   ]
  },
  {
   "cell_type": "code",
   "execution_count": 27,
   "metadata": {},
   "outputs": [
    {
     "name": "stdout",
     "output_type": "stream",
     "text": [
      "ANN_T_model - Trainset Accuracy: 0.25113239100473966\n",
      "ANN_T_model - Trainset Precision: 0.2669663348656222\n",
      "ANN_T_model - Trainset Recall: 0.25113239100473966\n",
      "ANN_T_model - Trainset F1 Score: 0.19496783590371175\n"
     ]
    },
    {
     "data": {
      "text/plain": [
       "'\\nExp 1 - numeric impute by KNN columnwise, hidden layer = 2, epochs = 10\\nv3NN_model - Trainset Accuracy: 0.23646803253890888\\nv3NN_model - Trainset Precision: 0.27492554151748233\\nv3NN_model - Trainset Recall: 0.23646803253890888\\nv3NN_model - Trainset F1 Score: 0.1869457649785264\\n\\nExp 2 - numeric impute by mean, hidden layer = 2, epochs = 10\\nANN_Tina_model - Trainset Accuracy: 0.2347904551413493\\nANN_Tina_model - Trainset Precision: 0.256342174730209\\nANN_Tina_model - Trainset Recall: 0.2347904551413493\\nANN_Tina_model - Trainset F1 Score: 0.17865772444803876\\n\\nExp 3 - numeric impute by mean, hidden layer = 3, epochs = 20\\nANN_T_model - Trainset Accuracy: 0.251167056035497\\nANN_T_model - Trainset Precision: 0.27120038523333795\\nANN_T_model - Trainset Recall: 0.251167056035497\\nANN_T_model - Trainset F1 Score: 0.19564704703367253\\n'"
      ]
     },
     "execution_count": 27,
     "metadata": {},
     "output_type": "execute_result"
    }
   ],
   "source": [
    "#print overperformance metrics\n",
    "from ds.models.performance import print_overall_model_metric\n",
    "print_overall_model_metric(y_train_v3_encoded,ANN_T_X_train_v3_predictions, 'ANN_T_model','Trainset')\n",
    "\"\"\"\n",
    "Exp 1 - numeric impute by KNN columnwise, hidden layer = 2, epochs = 10\n",
    "v3NN_model - Trainset Accuracy: 0.23646803253890888\n",
    "v3NN_model - Trainset Precision: 0.27492554151748233\n",
    "v3NN_model - Trainset Recall: 0.23646803253890888\n",
    "v3NN_model - Trainset F1 Score: 0.1869457649785264\n",
    "\n",
    "Exp 2 - numeric impute by mean, hidden layer = 2, epochs = 10\n",
    "ANN_Tina_model - Trainset Accuracy: 0.2347904551413493\n",
    "ANN_Tina_model - Trainset Precision: 0.256342174730209\n",
    "ANN_Tina_model - Trainset Recall: 0.2347904551413493\n",
    "ANN_Tina_model - Trainset F1 Score: 0.17865772444803876\n",
    "\n",
    "Exp 3 - numeric impute by mean, hidden layer = 3, epochs = 20\n",
    "ANN_T_model - Trainset Accuracy: 0.251167056035497\n",
    "ANN_T_model - Trainset Precision: 0.27120038523333795\n",
    "ANN_T_model - Trainset Recall: 0.251167056035497\n",
    "ANN_T_model - Trainset F1 Score: 0.19564704703367253\n",
    "\"\"\""
   ]
  },
  {
   "cell_type": "code",
   "execution_count": 28,
   "metadata": {},
   "outputs": [],
   "source": [
    "#features_names = np.load(processed_folder_path+'features_label.npy',allow_pickle=True)\n",
    "#target_class = np.load(processed_folder_path+'beer_style.npy',allow_pickle=True)"
   ]
  },
  {
   "cell_type": "code",
   "execution_count": 29,
   "metadata": {},
   "outputs": [
    {
     "name": "stdout",
     "output_type": "stream",
     "text": [
      "                                                    Precision  Recall  \\\n",
      "Class                                                                   \n",
      "support\\n\\n                         Hefeweizen ...       0.00    0.00   \n",
      "English Strong Ale                                       0.24    0.73   \n",
      "Foreign / Export Stout                                   0.23    0.06   \n",
      "German Pilsener                                          0.32    0.17   \n",
      "American Double / Imperial IPA                           0.23    0.30   \n",
      "...                                                       ...     ...   \n",
      "Happoshu                                                 0.00    0.00   \n",
      "Sahti                                                    0.17    0.05   \n",
      "Bière de Champagne / Bière Brut                          0.11    0.15   \n",
      "951968\\n                          macro avg              0.23    0.13   \n",
      "weighted avg                                             0.27    0.25   \n",
      "\n",
      "                                                    F1-Score   Support  \n",
      "Class                                                                   \n",
      "support\\n\\n                         Hefeweizen ...      0.00    4589.0  \n",
      "English Strong Ale                                      0.36   18521.0  \n",
      "Foreign / Export Stout                                  0.10   27213.0  \n",
      "German Pilsener                                         0.22    5553.0  \n",
      "American Double / Imperial IPA                          0.26   16019.0  \n",
      "...                                                      ...       ...  \n",
      "Happoshu                                                0.00    2199.0  \n",
      "Sahti                                                   0.08   12416.0  \n",
      "Bière de Champagne / Bière Brut                         0.13   18106.0  \n",
      "951968\\n                          macro avg             0.13  951968.0  \n",
      "weighted avg                                            0.19  951968.0  \n",
      "\n",
      "[106 rows x 4 columns]\n",
      "                                                    Precision  Recall  \\\n",
      "Class                                                                   \n",
      "support\\n\\n                         Hefeweizen ...       0.00    0.00   \n",
      "English Strong Ale                                       0.24    0.73   \n",
      "Foreign / Export Stout                                   0.23    0.06   \n",
      "German Pilsener                                          0.32    0.17   \n",
      "American Double / Imperial IPA                           0.23    0.30   \n",
      "...                                                       ...     ...   \n",
      "Happoshu                                                 0.00    0.00   \n",
      "Sahti                                                    0.17    0.05   \n",
      "Bière de Champagne / Bière Brut                          0.11    0.15   \n",
      "951968\\n                          macro avg              0.23    0.13   \n",
      "weighted avg                                             0.27    0.25   \n",
      "\n",
      "                                                    F1-Score   Support  \n",
      "Class                                                                   \n",
      "support\\n\\n                         Hefeweizen ...      0.00    4589.0  \n",
      "English Strong Ale                                      0.36   18521.0  \n",
      "Foreign / Export Stout                                  0.10   27213.0  \n",
      "German Pilsener                                         0.22    5553.0  \n",
      "American Double / Imperial IPA                          0.26   16019.0  \n",
      "...                                                      ...       ...  \n",
      "Happoshu                                                0.00    2199.0  \n",
      "Sahti                                                   0.08   12416.0  \n",
      "Bière de Champagne / Bière Brut                         0.13   18106.0  \n",
      "951968\\n                          macro avg             0.13  951968.0  \n",
      "weighted avg                                            0.19  951968.0  \n",
      "\n",
      "[106 rows x 4 columns]\n",
      "csv copy of the classification report is saved at ../data/external/df_clr_ANN_T_X_train_v3.csv\n"
     ]
    }
   ],
   "source": [
    "from ds.models.performance import df_classifcation_report\n",
    "df_classifcation_report(\n",
    "    y_encoded = y_train_v3_encoded, \n",
    "    y_prediction = ANN_T_X_train_v3_predictions, \n",
    "    target_names = target_class,\n",
    "    filename = 'df_clr_ANN_T_X_train_v3.csv', \n",
    "    dest = external_folder_path\n",
    "    )"
   ]
  },
  {
   "attachments": {},
   "cell_type": "markdown",
   "metadata": {},
   "source": [
    "# 2) Get Accuracy on test_set"
   ]
  },
  {
   "cell_type": "code",
   "execution_count": 30,
   "metadata": {},
   "outputs": [
    {
     "name": "stdout",
     "output_type": "stream",
     "text": [
      "9917/9917 [==============================] - 15s 2ms/step\n"
     ]
    },
    {
     "data": {
      "text/plain": [
       "array([ 9, 89, 14, ..., 12, 12, 98])"
      ]
     },
     "execution_count": 30,
     "metadata": {},
     "output_type": "execute_result"
    }
   ],
   "source": [
    "y_test_v3_pred_probs = ANN_T_model.predict(X_test_v3)\n",
    "y_test_v3_pred = y_test_v3_pred_probs.argmax(axis=1)\n",
    "y_test_v3_pred"
   ]
  },
  {
   "cell_type": "code",
   "execution_count": 31,
   "metadata": {},
   "outputs": [],
   "source": [
    "from sklearn.metrics import accuracy_score\n",
    "ANN_T_model_test_accuracy = accuracy_score(y_test_v3_encoded, y_test_v3_pred)"
   ]
  },
  {
   "cell_type": "code",
   "execution_count": 32,
   "metadata": {},
   "outputs": [
    {
     "name": "stdout",
     "output_type": "stream",
     "text": [
      "Test Set Accuracy: 0.2486803666926129 or 24.87%\n"
     ]
    }
   ],
   "source": [
    "print(f\"Test Set Accuracy: {ANN_T_model_test_accuracy} or {ANN_T_model_test_accuracy:.2%}\")"
   ]
  },
  {
   "cell_type": "code",
   "execution_count": 33,
   "metadata": {},
   "outputs": [
    {
     "name": "stdout",
     "output_type": "stream",
     "text": [
      "ANN_T_model - Testset Accuracy: 0.2486803666926129\n",
      "ANN_T_model - Testset Precision: 0.26567566942379073\n",
      "ANN_T_model - Testset Recall: 0.2486803666926129\n",
      "ANN_T_model - Testset F1 Score: 0.19298067838359176\n"
     ]
    },
    {
     "data": {
      "text/plain": [
       "'\\nExp 1 - numeric impute by KNN columnwise\\nv3NN_model - Testset Accuracy: 0.23450868673244613\\nv3NN_model - Testset Precision: 0.27564628804585606\\nv3NN_model - Testset Recall: 0.23450868673244613\\nv3NN_model - Testset F1 Score: 0.18510128840197598\\n\\nExp 2 - numeric impute by mean\\nANN_Tina_model - Testset Accuracy: 0.23299603243382924\\nANN_Tina_model - Testset Precision: 0.25523461092186067\\nANN_Tina_model - Testset Recall: 0.23299603243382924\\nANN_Tina_model - Testset F1 Score: 0.1771727300559152\\n\\nExp 3 - numeric impute by mean, hidden layer = 3, epochs = 20\\nANN_T_model - Testset Accuracy: 0.24925076341771632\\nANN_T_model - Testset Precision: 0.27169378111302694\\nANN_T_model - Testset Recall: 0.24925076341771632\\nANN_T_model - Testset F1 Score: 0.19433751690507442\\n'"
      ]
     },
     "execution_count": 33,
     "metadata": {},
     "output_type": "execute_result"
    }
   ],
   "source": [
    "print_overall_model_metric(y_test_v3_encoded, y_test_v3_pred, 'ANN_T_model','Testset')\n",
    "\"\"\"\n",
    "Exp 1 - numeric impute by KNN columnwise\n",
    "v3NN_model - Testset Accuracy: 0.23450868673244613\n",
    "v3NN_model - Testset Precision: 0.27564628804585606\n",
    "v3NN_model - Testset Recall: 0.23450868673244613\n",
    "v3NN_model - Testset F1 Score: 0.18510128840197598\n",
    "\n",
    "Exp 2 - numeric impute by mean\n",
    "ANN_Tina_model - Testset Accuracy: 0.23299603243382924\n",
    "ANN_Tina_model - Testset Precision: 0.25523461092186067\n",
    "ANN_Tina_model - Testset Recall: 0.23299603243382924\n",
    "ANN_Tina_model - Testset F1 Score: 0.1771727300559152\n",
    "\n",
    "Exp 3 - numeric impute by mean, hidden layer = 3, epochs = 20\n",
    "ANN_T_model - Testset Accuracy: 0.24925076341771632\n",
    "ANN_T_model - Testset Precision: 0.27169378111302694\n",
    "ANN_T_model - Testset Recall: 0.24925076341771632\n",
    "ANN_T_model - Testset F1 Score: 0.19433751690507442\n",
    "\"\"\""
   ]
  },
  {
   "cell_type": "code",
   "execution_count": 34,
   "metadata": {},
   "outputs": [
    {
     "name": "stdout",
     "output_type": "stream",
     "text": [
      "                                                    Precision  Recall  \\\n",
      "Class                                                                   \n",
      "support\\n\\n                         Hefeweizen ...       0.00    0.00   \n",
      "English Strong Ale                                       0.24    0.73   \n",
      "Foreign / Export Stout                                   0.22    0.06   \n",
      "German Pilsener                                          0.31    0.18   \n",
      "American Double / Imperial IPA                           0.24    0.31   \n",
      "...                                                       ...     ...   \n",
      "Happoshu                                                 0.00    0.00   \n",
      "Sahti                                                    0.16    0.05   \n",
      "Bière de Champagne / Bière Brut                          0.10    0.15   \n",
      "317323\\n                          macro avg              0.23    0.13   \n",
      "weighted avg                                             0.27    0.25   \n",
      "\n",
      "                                                    F1-Score   Support  \n",
      "Class                                                                   \n",
      "support\\n\\n                         Hefeweizen ...      0.00    1521.0  \n",
      "English Strong Ale                                      0.36    6085.0  \n",
      "Foreign / Export Stout                                  0.09    9288.0  \n",
      "German Pilsener                                         0.23    1887.0  \n",
      "American Double / Imperial IPA                          0.27    5390.0  \n",
      "...                                                      ...       ...  \n",
      "Happoshu                                                0.00     731.0  \n",
      "Sahti                                                   0.07    4130.0  \n",
      "Bière de Champagne / Bière Brut                         0.12    5896.0  \n",
      "317323\\n                          macro avg             0.13  317323.0  \n",
      "weighted avg                                            0.19  317323.0  \n",
      "\n",
      "[106 rows x 4 columns]\n",
      "                                                    Precision  Recall  \\\n",
      "Class                                                                   \n",
      "support\\n\\n                         Hefeweizen ...       0.00    0.00   \n",
      "English Strong Ale                                       0.24    0.73   \n",
      "Foreign / Export Stout                                   0.22    0.06   \n",
      "German Pilsener                                          0.31    0.18   \n",
      "American Double / Imperial IPA                           0.24    0.31   \n",
      "...                                                       ...     ...   \n",
      "Happoshu                                                 0.00    0.00   \n",
      "Sahti                                                    0.16    0.05   \n",
      "Bière de Champagne / Bière Brut                          0.10    0.15   \n",
      "317323\\n                          macro avg              0.23    0.13   \n",
      "weighted avg                                             0.27    0.25   \n",
      "\n",
      "                                                    F1-Score   Support  \n",
      "Class                                                                   \n",
      "support\\n\\n                         Hefeweizen ...      0.00    1521.0  \n",
      "English Strong Ale                                      0.36    6085.0  \n",
      "Foreign / Export Stout                                  0.09    9288.0  \n",
      "German Pilsener                                         0.23    1887.0  \n",
      "American Double / Imperial IPA                          0.27    5390.0  \n",
      "...                                                      ...       ...  \n",
      "Happoshu                                                0.00     731.0  \n",
      "Sahti                                                   0.07    4130.0  \n",
      "Bière de Champagne / Bière Brut                         0.12    5896.0  \n",
      "317323\\n                          macro avg             0.13  317323.0  \n",
      "weighted avg                                            0.19  317323.0  \n",
      "\n",
      "[106 rows x 4 columns]\n",
      "csv copy of the classification report is saved at ../data/external/df_clr_ANN_T_X_test_v3.csv\n"
     ]
    }
   ],
   "source": [
    "# Classification report\n",
    "df_classifcation_report(\n",
    "    y_encoded = y_test_v3_encoded, \n",
    "    y_prediction = y_test_v3_pred, \n",
    "    target_names = target_class,\n",
    "    filename = 'df_clr_ANN_T_X_test_v3.csv', \n",
    "    dest = external_folder_path\n",
    "    )"
   ]
  },
  {
   "cell_type": "code",
   "execution_count": 35,
   "metadata": {},
   "outputs": [
    {
     "data": {
      "text/plain": [
       "array(['American Double / Imperial IPA', 'Russian Imperial Stout',\n",
       "       'American Pale Ale (APA)', ..., 'American IPA', 'American IPA',\n",
       "       'Tripel'], dtype=object)"
      ]
     },
     "execution_count": 35,
     "metadata": {},
     "output_type": "execute_result"
    }
   ],
   "source": [
    "# Load the saved LabelEncoder\n",
    "label_encoder = joblib.load(model_folder_path+'ANN_T_label_encoder.joblib')\n",
    "\n",
    "# Revert the encoded labels back to their original text form\n",
    "y_test_v3_pred_decoded = label_encoder.inverse_transform(y_test_v3_pred)\n",
    "y_test_v3_pred_decoded"
   ]
  },
  {
   "attachments": {},
   "cell_type": "markdown",
   "metadata": {},
   "source": [
    "# Assemble back to df"
   ]
  },
  {
   "cell_type": "code",
   "execution_count": 36,
   "metadata": {},
   "outputs": [],
   "source": [
    "df_X_test_v3_unencoded = pd.read_pickle(interim_folder_path + 'df_X_test_v3_unencoded.pkl')\n",
    "df_X_test_v3_unencoded['prediction'] = y_test_v3_pred_decoded\n",
    "df_X_test_v3_unencoded.to_csv(external_folder_path+'df_X_test_v3_output.csv', index=True)"
   ]
  }
 ],
 "metadata": {
  "kernelspec": {
   "display_name": "Python 3",
   "language": "python",
   "name": "python3"
  },
  "language_info": {
   "codemirror_mode": {
    "name": "ipython",
    "version": 3
   },
   "file_extension": ".py",
   "mimetype": "text/x-python",
   "name": "python",
   "nbconvert_exporter": "python",
   "pygments_lexer": "ipython3",
   "version": "3.8.10"
  },
  "orig_nbformat": 4
 },
 "nbformat": 4,
 "nbformat_minor": 2
}
