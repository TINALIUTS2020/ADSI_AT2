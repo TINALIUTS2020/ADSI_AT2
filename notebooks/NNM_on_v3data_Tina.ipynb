{
 "cells": [
  {
   "attachments": {},
   "cell_type": "markdown",
   "metadata": {},
   "source": [
    "This is model from the v3 split dataset"
   ]
  },
  {
   "attachments": {},
   "cell_type": "markdown",
   "metadata": {},
   "source": [
    "By the end of this file\n",
    "1) v3_label_encoder is saved in \"../models/\"\n",
    "2) csv file with th original test_v3 df with prediction"
   ]
  },
  {
   "cell_type": "code",
   "execution_count": 1,
   "metadata": {},
   "outputs": [],
   "source": [
    "%load_ext autoreload\n",
    "%autoreload 2"
   ]
  },
  {
   "cell_type": "code",
   "execution_count": 2,
   "metadata": {},
   "outputs": [
    {
     "name": "stdout",
     "output_type": "stream",
     "text": [
      "Current workpath: /home/tina4aiml/dev/notebooks\n",
      "Parent_folder: /home/tina4aiml/dev\n",
      "/home/tina4aiml/dev/src\n"
     ]
    }
   ],
   "source": [
    "# for Tina machine only, to import .py from src/ds/\n",
    "import os\n",
    "current_workpath = os.getcwd()\n",
    "print(\"Current workpath:\", current_workpath)\n",
    "\n",
    "parent_folder = os.path.dirname(current_workpath)\n",
    "print(\"Parent_folder:\", parent_folder)\n",
    "\n",
    "import sys\n",
    "sys.path.append(parent_folder+'/src')\n",
    "print(sys.path[-1])"
   ]
  },
  {
   "cell_type": "code",
   "execution_count": 75,
   "metadata": {},
   "outputs": [],
   "source": [
    "rawfile_name = 'beer_reviews'\n",
    "rawfile_format = '.csv'\n",
    "rawfile_path = \"../data/raw/\"\n",
    "\n",
    "interim_folder_path = \"../data/interim/\"\n",
    "processed_folder_path  =\"../data/processed/\"\n",
    "external_folder_path  =\"../data/external/\"\n",
    "model_folder_path = \"../models/\""
   ]
  },
  {
   "attachments": {},
   "cell_type": "markdown",
   "metadata": {},
   "source": [
    "# import data"
   ]
  },
  {
   "cell_type": "code",
   "execution_count": 4,
   "metadata": {},
   "outputs": [],
   "source": [
    "import pandas as pd\n",
    "import numpy as np"
   ]
  },
  {
   "cell_type": "code",
   "execution_count": 5,
   "metadata": {},
   "outputs": [],
   "source": [
    "from ds.data.sets import load_sets_v2"
   ]
  },
  {
   "cell_type": "code",
   "execution_count": 6,
   "metadata": {},
   "outputs": [],
   "source": [
    "X_train_v3, y_train_v3, X_val_v3, y_val_v3, X_test_v3, y_test_v3 = load_sets_v2(path='../data/processed/', suffix='_v3')"
   ]
  },
  {
   "cell_type": "code",
   "execution_count": 7,
   "metadata": {},
   "outputs": [
    {
     "name": "stdout",
     "output_type": "stream",
     "text": [
      "X_train_v3 shape: (951968, 6)\n",
      "y_train_v3 shape: (951968,)\n",
      "X_val_v3 shape: (317323, 6)\n",
      "y_val_v3 shape: (317323,)\n",
      "X_test_v3 shape: (317323, 6)\n",
      "y_test_v3 shape: (317323,)\n"
     ]
    }
   ],
   "source": [
    "# Check if the datasets were loaded successfully\n",
    "if X_train_v3 is not None:\n",
    "    print(\"X_train_v3 shape:\", X_train_v3.shape) # (951968, 6)\n",
    "else:\n",
    "    print(\"X_train_v3 file not found\")\n",
    "\n",
    "if y_train_v3 is not None:\n",
    "    print(\"y_train_v3 shape:\", y_train_v3.shape) #(951968,)\n",
    "else:\n",
    "    print(\"y_train_v3 file not found\") \n",
    "\n",
    "if X_val_v3 is not None:\n",
    "    print(\"X_val_v3 shape:\", X_val_v3.shape) # (317323, 6)\n",
    "else:\n",
    "    print(\"X_val_v3 file not found\")\n",
    "\n",
    "if y_val_v3 is not None:\n",
    "    print(\"y_val_v3 shape:\", y_val_v3.shape) # (317323,)\n",
    "else:\n",
    "    print(\"y_val_v3 file not found\")\n",
    "\n",
    "if X_test_v3 is not None:\n",
    "    print(\"X_test_v3 shape:\", X_test_v3.shape) # (317323, 6)\n",
    "else:\n",
    "    print(\"X_test_v3 file not found\")\n",
    "\n",
    "if y_test_v3 is not None:\n",
    "    print(\"y_test_v3 shape:\", y_test_v3.shape) # (317323,)\n",
    "else:\n",
    "    print(\"y_test_v3 file not found\")"
   ]
  },
  {
   "attachments": {},
   "cell_type": "markdown",
   "metadata": {},
   "source": [
    "# Encode target"
   ]
  },
  {
   "cell_type": "code",
   "execution_count": 8,
   "metadata": {},
   "outputs": [],
   "source": [
    "from sklearn.preprocessing import LabelEncoder\n",
    "import joblib\n",
    "\n",
    "# Initialize the LabelEncoder\n",
    "label_encoder = LabelEncoder()\n",
    "\n",
    "# Fit the LabelEncoder on the training set\n",
    "label_encoder.fit(y_train_v3)\n",
    "\n",
    "# Save the LabelEncoder\n",
    "joblib.dump(label_encoder, model_folder_path+'v3_label_encoder.joblib')\n",
    "\n",
    "# Transform the target variables\n",
    "y_train_v3_encoded = label_encoder.transform(y_train_v3).astype(int)\n",
    "y_val_v3_encoded = label_encoder.transform(y_val_v3).astype(int)\n",
    "y_test_v3_encoded = label_encoder.transform(y_test_v3).astype(int)"
   ]
  },
  {
   "cell_type": "code",
   "execution_count": 9,
   "metadata": {},
   "outputs": [],
   "source": [
    "X_train_v3 = X_train_v3.astype(float)\n",
    "X_val_v3 = X_val_v3.astype(float)\n",
    "X_test_v3 = X_test_v3.astype(float)"
   ]
  },
  {
   "cell_type": "code",
   "execution_count": 10,
   "metadata": {},
   "outputs": [
    {
     "name": "stdout",
     "output_type": "stream",
     "text": [
      "int64\n",
      "float64\n"
     ]
    }
   ],
   "source": [
    "#both need to be int\n",
    "print(y_train_v3_encoded.dtype)\n",
    "print(X_train_v3.dtype)"
   ]
  },
  {
   "attachments": {},
   "cell_type": "markdown",
   "metadata": {},
   "source": [
    "# define Neural Network Architecture"
   ]
  },
  {
   "cell_type": "code",
   "execution_count": 11,
   "metadata": {},
   "outputs": [
    {
     "data": {
      "text/plain": [
       "6"
      ]
     },
     "execution_count": 11,
     "metadata": {},
     "output_type": "execute_result"
    }
   ],
   "source": [
    "features_names = np.load(processed_folder_path+'features_label.npy',allow_pickle=True)\n",
    "features_names_n = len(features_names)\n",
    "features_names_n "
   ]
  },
  {
   "cell_type": "code",
   "execution_count": 12,
   "metadata": {},
   "outputs": [
    {
     "data": {
      "text/plain": [
       "104"
      ]
     },
     "execution_count": 12,
     "metadata": {},
     "output_type": "execute_result"
    }
   ],
   "source": [
    "target_class = np.load(processed_folder_path+'beer_style.npy',allow_pickle=True)\n",
    "target_class_n = len(target_class)\n",
    "target_class_n "
   ]
  },
  {
   "cell_type": "code",
   "execution_count": 13,
   "metadata": {},
   "outputs": [
    {
     "name": "stderr",
     "output_type": "stream",
     "text": [
      "2023-07-08 02:06:07.012022: I tensorflow/core/util/port.cc:110] oneDNN custom operations are on. You may see slightly different numerical results due to floating-point round-off errors from different computation orders. To turn them off, set the environment variable `TF_ENABLE_ONEDNN_OPTS=0`.\n",
      "2023-07-08 02:06:07.055062: I tensorflow/core/platform/cpu_feature_guard.cc:182] This TensorFlow binary is optimized to use available CPU instructions in performance-critical operations.\n",
      "To enable the following instructions: AVX2 AVX512F AVX512_VNNI FMA, in other operations, rebuild TensorFlow with the appropriate compiler flags.\n"
     ]
    }
   ],
   "source": [
    "import tensorflow as tf\n",
    "\n",
    "tf.keras.utils.set_random_seed(1)\n",
    "\n",
    "input_shape = (features_names_n,)\n",
    "num_classes = target_class_n"
   ]
  },
  {
   "cell_type": "code",
   "execution_count": 14,
   "metadata": {},
   "outputs": [],
   "source": [
    "## callback that will decrease the learning rate by a factor of 0.2 if the model doesn't improve after 5 epochs\n",
    "from tensorflow.keras.callbacks import EarlyStopping, ReduceLROnPlateau\n",
    "reduce_lr = ReduceLROnPlateau(monitor='val_loss', factor=0.2, patience=3, min_lr=0.0000001)"
   ]
  },
  {
   "cell_type": "code",
   "execution_count": 15,
   "metadata": {},
   "outputs": [
    {
     "name": "stderr",
     "output_type": "stream",
     "text": [
      "2023-07-08 02:06:08.491709: I tensorflow/compiler/xla/stream_executor/cuda/cuda_gpu_executor.cc:982] could not open file to read NUMA node: /sys/bus/pci/devices/0000:01:00.0/numa_node\n",
      "Your kernel may have been built without NUMA support.\n",
      "2023-07-08 02:06:08.498349: I tensorflow/compiler/xla/stream_executor/cuda/cuda_gpu_executor.cc:982] could not open file to read NUMA node: /sys/bus/pci/devices/0000:01:00.0/numa_node\n",
      "Your kernel may have been built without NUMA support.\n",
      "2023-07-08 02:06:08.498707: I tensorflow/compiler/xla/stream_executor/cuda/cuda_gpu_executor.cc:982] could not open file to read NUMA node: /sys/bus/pci/devices/0000:01:00.0/numa_node\n",
      "Your kernel may have been built without NUMA support.\n",
      "2023-07-08 02:06:08.501617: I tensorflow/compiler/xla/stream_executor/cuda/cuda_gpu_executor.cc:982] could not open file to read NUMA node: /sys/bus/pci/devices/0000:01:00.0/numa_node\n",
      "Your kernel may have been built without NUMA support.\n",
      "2023-07-08 02:06:08.501831: I tensorflow/compiler/xla/stream_executor/cuda/cuda_gpu_executor.cc:982] could not open file to read NUMA node: /sys/bus/pci/devices/0000:01:00.0/numa_node\n",
      "Your kernel may have been built without NUMA support.\n",
      "2023-07-08 02:06:08.501976: I tensorflow/compiler/xla/stream_executor/cuda/cuda_gpu_executor.cc:982] could not open file to read NUMA node: /sys/bus/pci/devices/0000:01:00.0/numa_node\n",
      "Your kernel may have been built without NUMA support.\n",
      "2023-07-08 02:06:09.175438: I tensorflow/compiler/xla/stream_executor/cuda/cuda_gpu_executor.cc:982] could not open file to read NUMA node: /sys/bus/pci/devices/0000:01:00.0/numa_node\n",
      "Your kernel may have been built without NUMA support.\n",
      "2023-07-08 02:06:09.175849: I tensorflow/compiler/xla/stream_executor/cuda/cuda_gpu_executor.cc:982] could not open file to read NUMA node: /sys/bus/pci/devices/0000:01:00.0/numa_node\n",
      "Your kernel may have been built without NUMA support.\n",
      "2023-07-08 02:06:09.175860: I tensorflow/core/common_runtime/gpu/gpu_device.cc:1722] Could not identify NUMA node of platform GPU id 0, defaulting to 0.  Your kernel may not have been built with NUMA support.\n",
      "2023-07-08 02:06:09.176161: I tensorflow/compiler/xla/stream_executor/cuda/cuda_gpu_executor.cc:982] could not open file to read NUMA node: /sys/bus/pci/devices/0000:01:00.0/numa_node\n",
      "Your kernel may have been built without NUMA support.\n",
      "2023-07-08 02:06:09.176202: I tensorflow/core/common_runtime/gpu/gpu_device.cc:1635] Created device /job:localhost/replica:0/task:0/device:GPU:0 with 3383 MB memory:  -> device: 0, name: NVIDIA GeForce RTX 3060 Laptop GPU, pci bus id: 0000:01:00.0, compute capability: 8.6\n"
     ]
    }
   ],
   "source": [
    "v3NN_model = tf.keras.models.Sequential([\n",
    "    tf.keras.layers.Dense(128, activation='relu', input_shape=input_shape),\n",
    "    tf.keras.layers.Dense(64, activation='relu'),\n",
    "    tf.keras.layers.Dense(32, activation='relu'),\n",
    "    tf.keras.layers.Dense(num_classes, activation='softmax')\n",
    "])\n",
    "\n",
    "v3NN_model.compile(optimizer='adam', loss='sparse_categorical_crossentropy', metrics=['accuracy'])\n"
   ]
  },
  {
   "cell_type": "code",
   "execution_count": 16,
   "metadata": {},
   "outputs": [
    {
     "name": "stdout",
     "output_type": "stream",
     "text": [
      "Epoch 1/10\n"
     ]
    },
    {
     "name": "stderr",
     "output_type": "stream",
     "text": [
      "2023-07-08 02:06:10.889940: I tensorflow/compiler/xla/stream_executor/cuda/cuda_blas.cc:637] TensorFloat-32 will be used for the matrix multiplication. This will only be logged once.\n",
      "2023-07-08 02:06:10.891730: I tensorflow/compiler/xla/service/service.cc:169] XLA service 0x7f1886e72f80 initialized for platform CUDA (this does not guarantee that XLA will be used). Devices:\n",
      "2023-07-08 02:06:10.891772: I tensorflow/compiler/xla/service/service.cc:177]   StreamExecutor device (0): NVIDIA GeForce RTX 3060 Laptop GPU, Compute Capability 8.6\n",
      "2023-07-08 02:06:10.896116: I tensorflow/compiler/mlir/tensorflow/utils/dump_mlir_util.cc:269] disabling MLIR crash reproducer, set env var `MLIR_CRASH_REPRODUCER_DIRECTORY` to enable.\n",
      "2023-07-08 02:06:11.041373: I tensorflow/compiler/xla/stream_executor/cuda/cuda_dnn.cc:424] Loaded cuDNN version 8600\n",
      "2023-07-08 02:06:11.159910: I ./tensorflow/compiler/jit/device_compiler.h:180] Compiled cluster using XLA!  This line is logged at most once for the lifetime of the process.\n"
     ]
    },
    {
     "name": "stdout",
     "output_type": "stream",
     "text": [
      "29749/29749 [==============================] - 121s 4ms/step - loss: 3.3922 - accuracy: 0.1795 - val_loss: 3.2011 - val_accuracy: 0.2040 - lr: 0.0010\n",
      "Epoch 2/10\n",
      "29749/29749 [==============================] - 120s 4ms/step - loss: 3.1809 - accuracy: 0.2114 - val_loss: 3.1407 - val_accuracy: 0.2220 - lr: 0.0010\n",
      "Epoch 3/10\n",
      "29749/29749 [==============================] - 117s 4ms/step - loss: 3.1381 - accuracy: 0.2196 - val_loss: 3.1191 - val_accuracy: 0.2231 - lr: 0.0010\n",
      "Epoch 4/10\n",
      "29749/29749 [==============================] - 114s 4ms/step - loss: 3.1138 - accuracy: 0.2239 - val_loss: 3.1029 - val_accuracy: 0.2230 - lr: 0.0010\n",
      "Epoch 5/10\n",
      "29749/29749 [==============================] - 116s 4ms/step - loss: 3.0966 - accuracy: 0.2275 - val_loss: 3.0986 - val_accuracy: 0.2245 - lr: 0.0010\n",
      "Epoch 6/10\n",
      "29749/29749 [==============================] - 119s 4ms/step - loss: 3.0854 - accuracy: 0.2301 - val_loss: 3.0744 - val_accuracy: 0.2302 - lr: 0.0010\n",
      "Epoch 7/10\n",
      "29749/29749 [==============================] - 114s 4ms/step - loss: 3.0766 - accuracy: 0.2325 - val_loss: 3.1045 - val_accuracy: 0.2284 - lr: 0.0010\n",
      "Epoch 8/10\n",
      "29749/29749 [==============================] - 114s 4ms/step - loss: 3.0677 - accuracy: 0.2354 - val_loss: 3.0468 - val_accuracy: 0.2379 - lr: 0.0010\n",
      "Epoch 9/10\n",
      "29749/29749 [==============================] - 113s 4ms/step - loss: 3.0609 - accuracy: 0.2378 - val_loss: 3.0807 - val_accuracy: 0.2380 - lr: 0.0010\n",
      "Epoch 10/10\n",
      "29749/29749 [==============================] - 115s 4ms/step - loss: 3.0568 - accuracy: 0.2399 - val_loss: 3.0463 - val_accuracy: 0.2441 - lr: 0.0010\n"
     ]
    }
   ],
   "source": [
    "v3NN_history = v3NN_model.fit(\n",
    "                          X_train_v3, \n",
    "                          y_train_v3_encoded, \n",
    "                          epochs=10, batch_size=32, \n",
    "                          validation_data=(X_val_v3, y_val_v3_encoded),    \n",
    "                          callbacks = [        \n",
    "                            EarlyStopping(\n",
    "                            monitor='val_loss',\n",
    "                            patience=5,\n",
    "                            restore_best_weights=True\n",
    "                            ),\n",
    "                            reduce_lr\n",
    "                        ] )"
   ]
  },
  {
   "cell_type": "code",
   "execution_count": 17,
   "metadata": {},
   "outputs": [
    {
     "data": {
      "text/plain": [
       "['../models/v3NN_model.joblib']"
      ]
     },
     "execution_count": 17,
     "metadata": {},
     "output_type": "execute_result"
    }
   ],
   "source": [
    "joblib.dump(v3NN_model, model_folder_path+'v3NN_model.joblib')"
   ]
  },
  {
   "cell_type": "code",
   "execution_count": 18,
   "metadata": {},
   "outputs": [
    {
     "data": {
      "image/png": "[encoded data removed]",
      "text/plain": [
       "<Figure size 640x480 with 1 Axes>"
      ]
     },
     "metadata": {},
     "output_type": "display_data"
    }
   ],
   "source": [
    "# 1) plot performance on train set\n",
    "from ds.visualization.visualize import plot_model_accuracy, plot_model_loss\n",
    "\n",
    "plot_model_accuracy(v3NN_history.history,'NeuralNet on train_v3 - Accuracy')"
   ]
  },
  {
   "cell_type": "code",
   "execution_count": 19,
   "metadata": {},
   "outputs": [
    {
     "data": {
      "image/png": "[encoded data removed]",
      "text/plain": [
       "<Figure size 640x480 with 1 Axes>"
      ]
     },
     "metadata": {},
     "output_type": "display_data"
    }
   ],
   "source": [
    "plot_model_loss(v3NN_history.history,'NeuralNet on train_v3 - Loss')"
   ]
  },
  {
   "attachments": {},
   "cell_type": "markdown",
   "metadata": {},
   "source": [
    "# 2) Get Accuracy on test_set"
   ]
  },
  {
   "cell_type": "code",
   "execution_count": 20,
   "metadata": {},
   "outputs": [
    {
     "name": "stdout",
     "output_type": "stream",
     "text": [
      "9917/9917 [==============================] - 14s 1ms/step\n"
     ]
    },
    {
     "data": {
      "text/plain": [
       "array([98,  9, 16, ..., 12, 12, 98])"
      ]
     },
     "execution_count": 20,
     "metadata": {},
     "output_type": "execute_result"
    }
   ],
   "source": [
    "y_test_v3_pred_probs = v3NN_model.predict(X_test_v3)\n",
    "y_test_v3_pred = y_test_v3_pred_probs.argmax(axis=1)\n",
    "y_test_v3_pred\n"
   ]
  },
  {
   "cell_type": "code",
   "execution_count": 21,
   "metadata": {},
   "outputs": [],
   "source": [
    "from sklearn.metrics import accuracy_score\n",
    "v3NN_model_test_accuracy = accuracy_score(y_test_v3_encoded, y_test_v3_pred)"
   ]
  },
  {
   "cell_type": "code",
   "execution_count": 22,
   "metadata": {},
   "outputs": [
    {
     "name": "stdout",
     "output_type": "stream",
     "text": [
      "Test Set Accuracy: 0.24343334709428563 or 24.34%\n"
     ]
    }
   ],
   "source": [
    "print(f\"Test Set Accuracy: {v3NN_model_test_accuracy} or {v3NN_model_test_accuracy:.2%}\")"
   ]
  },
  {
   "cell_type": "code",
   "execution_count": 23,
   "metadata": {},
   "outputs": [
    {
     "data": {
      "text/plain": [
       "array(['Tripel', 'American Double / Imperial IPA',\n",
       "       'American Pale Wheat Ale', ..., 'American IPA', 'American IPA',\n",
       "       'Tripel'], dtype=object)"
      ]
     },
     "execution_count": 23,
     "metadata": {},
     "output_type": "execute_result"
    }
   ],
   "source": [
    "# Load the saved LabelEncoder\n",
    "label_encoder = joblib.load(model_folder_path+'v3_label_encoder.joblib')\n",
    "\n",
    "# Revert the encoded labels back to their original text form\n",
    "y_test_v3_pred_decoded = label_encoder.inverse_transform(y_test_v3_pred)\n",
    "y_test_v3_pred_decoded"
   ]
  },
  {
   "attachments": {},
   "cell_type": "markdown",
   "metadata": {},
   "source": [
    "# Assemble back to df"
   ]
  },
  {
   "cell_type": "code",
   "execution_count": 24,
   "metadata": {},
   "outputs": [],
   "source": [
    "y_test_v3_pred_decoded_= y_test_v3_pred_decoded.reshape((-1, 1))"
   ]
  },
  {
   "cell_type": "code",
   "execution_count": 25,
   "metadata": {},
   "outputs": [],
   "source": [
    "scaler= joblib.load(model_folder_path+'scaler.joblib')"
   ]
  },
  {
   "cell_type": "code",
   "execution_count": 26,
   "metadata": {},
   "outputs": [
    {
     "data": {
      "text/plain": [
       "array([[17.0, 0.37895307633066627, 1.8801692312893206, ...,\n",
       "        0.9660780406683259, 0.8614848722814252, 'Tripel'],\n",
       "       [248.0, 0.37895307633066627, 1.0686028847673665, ...,\n",
       "        0.282989356641999, 1.521588348054741,\n",
       "        'American Double / Imperial IPA'],\n",
       "       [272.0, -0.33777308136316325, -0.5545298082765412, ...,\n",
       "        0.9660780406683259, -0.546735876034982,\n",
       "        'American Pale Wheat Ale'],\n",
       "       ...,\n",
       "       [538.0, 0.37895307633066627, 0.2570365382454127, ...,\n",
       "        0.9660780406683259, 0.1573744981232218, 'American IPA'],\n",
       "       [394.0, -0.33777308136316325, -0.5545298082765412, ...,\n",
       "        -0.40009932738432796, -0.018653095416329254, 'American IPA'],\n",
       "       [17.0, 0.37895307633066627, -0.5545298082765412, ...,\n",
       "        0.282989356641999, 0.8614848722814252, 'Tripel']], dtype=object)"
      ]
     },
     "execution_count": 26,
     "metadata": {},
     "output_type": "execute_result"
    }
   ],
   "source": [
    "X_test_v3_with_labels = np.concatenate((X_test_v3, y_test_v3_pred_decoded_), axis=1)\n",
    "X_test_v3_with_labels"
   ]
  },
  {
   "cell_type": "code",
   "execution_count": 27,
   "metadata": {},
   "outputs": [
    {
     "data": {
      "text/plain": [
       "array(['brewery_name', 'review_aroma', 'review_appearance',\n",
       "       'review_palate', 'review_taste', 'beer_abv'], dtype='<U17')"
      ]
     },
     "execution_count": 27,
     "metadata": {},
     "output_type": "execute_result"
    }
   ],
   "source": [
    "features_names"
   ]
  },
  {
   "cell_type": "code",
   "execution_count": 71,
   "metadata": {},
   "outputs": [],
   "source": [
    "df_X_test_v3_unencoded = pd.read_pickle(interim_folder_path + 'df_X_test_v3_unencoded.pkl')"
   ]
  },
  {
   "cell_type": "code",
   "execution_count": 72,
   "metadata": {},
   "outputs": [
    {
     "data": {
      "text/html": [
       "<div>\n",
       "<style scoped>\n",
       "    .dataframe tbody tr th:only-of-type {\n",
       "        vertical-align: middle;\n",
       "    }\n",
       "\n",
       "    .dataframe tbody tr th {\n",
       "        vertical-align: top;\n",
       "    }\n",
       "\n",
       "    .dataframe thead th {\n",
       "        text-align: right;\n",
       "    }\n",
       "</style>\n",
       "<table border=\"1\" class=\"dataframe\">\n",
       "  <thead>\n",
       "    <tr style=\"text-align: right;\">\n",
       "      <th></th>\n",
       "      <th>brewery_name</th>\n",
       "      <th>review_aroma</th>\n",
       "      <th>review_appearance</th>\n",
       "      <th>review_palate</th>\n",
       "      <th>review_taste</th>\n",
       "      <th>beer_abv</th>\n",
       "    </tr>\n",
       "  </thead>\n",
       "  <tbody>\n",
       "    <tr>\n",
       "      <th>372797</th>\n",
       "      <td>Unibroue</td>\n",
       "      <td>4.0</td>\n",
       "      <td>5.0</td>\n",
       "      <td>4.0</td>\n",
       "      <td>4.5</td>\n",
       "      <td>9.0</td>\n",
       "    </tr>\n",
       "    <tr>\n",
       "      <th>942896</th>\n",
       "      <td>Bell's Brewery, Inc.</td>\n",
       "      <td>4.0</td>\n",
       "      <td>4.5</td>\n",
       "      <td>5.0</td>\n",
       "      <td>4.0</td>\n",
       "      <td>10.5</td>\n",
       "    </tr>\n",
       "    <tr>\n",
       "      <th>1152395</th>\n",
       "      <td>Arcadia Brewing Company</td>\n",
       "      <td>3.5</td>\n",
       "      <td>3.5</td>\n",
       "      <td>3.0</td>\n",
       "      <td>4.5</td>\n",
       "      <td>5.8</td>\n",
       "    </tr>\n",
       "    <tr>\n",
       "      <th>410631</th>\n",
       "      <td>Tröegs Brewing Company</td>\n",
       "      <td>4.5</td>\n",
       "      <td>4.0</td>\n",
       "      <td>4.5</td>\n",
       "      <td>4.5</td>\n",
       "      <td>7.5</td>\n",
       "    </tr>\n",
       "    <tr>\n",
       "      <th>699913</th>\n",
       "      <td>Boulder Beer / Wilderness Pub</td>\n",
       "      <td>3.5</td>\n",
       "      <td>4.0</td>\n",
       "      <td>3.0</td>\n",
       "      <td>2.5</td>\n",
       "      <td>5.94</td>\n",
       "    </tr>\n",
       "    <tr>\n",
       "      <th>...</th>\n",
       "      <td>...</td>\n",
       "      <td>...</td>\n",
       "      <td>...</td>\n",
       "      <td>...</td>\n",
       "      <td>...</td>\n",
       "      <td>...</td>\n",
       "    </tr>\n",
       "    <tr>\n",
       "      <th>1126739</th>\n",
       "      <td>Miller Brewing Co.</td>\n",
       "      <td>2.0</td>\n",
       "      <td>2.0</td>\n",
       "      <td>3.0</td>\n",
       "      <td>1.5</td>\n",
       "      <td>4.66</td>\n",
       "    </tr>\n",
       "    <tr>\n",
       "      <th>101744</th>\n",
       "      <td>Hale's Ales Brewery &amp; Pub</td>\n",
       "      <td>4.0</td>\n",
       "      <td>4.0</td>\n",
       "      <td>4.0</td>\n",
       "      <td>4.0</td>\n",
       "      <td>NaN</td>\n",
       "    </tr>\n",
       "    <tr>\n",
       "      <th>690490</th>\n",
       "      <td>Bayerische Staatsbrauerei Weihenstephan</td>\n",
       "      <td>4.0</td>\n",
       "      <td>4.0</td>\n",
       "      <td>4.0</td>\n",
       "      <td>4.5</td>\n",
       "      <td>7.4</td>\n",
       "    </tr>\n",
       "    <tr>\n",
       "      <th>554111</th>\n",
       "      <td>Summit Brewing Company</td>\n",
       "      <td>3.5</td>\n",
       "      <td>3.5</td>\n",
       "      <td>4.0</td>\n",
       "      <td>3.5</td>\n",
       "      <td>7.0</td>\n",
       "    </tr>\n",
       "    <tr>\n",
       "      <th>368888</th>\n",
       "      <td>Unibroue</td>\n",
       "      <td>4.0</td>\n",
       "      <td>3.5</td>\n",
       "      <td>4.0</td>\n",
       "      <td>4.0</td>\n",
       "      <td>9.0</td>\n",
       "    </tr>\n",
       "  </tbody>\n",
       "</table>\n",
       "<p>317323 rows × 6 columns</p>\n",
       "</div>"
      ],
      "text/plain": [
       "                                    brewery_name review_aroma  \\\n",
       "372797                                  Unibroue          4.0   \n",
       "942896                      Bell's Brewery, Inc.          4.0   \n",
       "1152395                  Arcadia Brewing Company          3.5   \n",
       "410631                    Tröegs Brewing Company          4.5   \n",
       "699913             Boulder Beer / Wilderness Pub          3.5   \n",
       "...                                          ...          ...   \n",
       "1126739                       Miller Brewing Co.          2.0   \n",
       "101744                 Hale's Ales Brewery & Pub          4.0   \n",
       "690490   Bayerische Staatsbrauerei Weihenstephan          4.0   \n",
       "554111                    Summit Brewing Company          3.5   \n",
       "368888                                  Unibroue          4.0   \n",
       "\n",
       "        review_appearance review_palate review_taste beer_abv  \n",
       "372797                5.0           4.0          4.5      9.0  \n",
       "942896                4.5           5.0          4.0     10.5  \n",
       "1152395               3.5           3.0          4.5      5.8  \n",
       "410631                4.0           4.5          4.5      7.5  \n",
       "699913                4.0           3.0          2.5     5.94  \n",
       "...                   ...           ...          ...      ...  \n",
       "1126739               2.0           3.0          1.5     4.66  \n",
       "101744                4.0           4.0          4.0      NaN  \n",
       "690490                4.0           4.0          4.5      7.4  \n",
       "554111                3.5           4.0          3.5      7.0  \n",
       "368888                3.5           4.0          4.0      9.0  \n",
       "\n",
       "[317323 rows x 6 columns]"
      ]
     },
     "execution_count": 72,
     "metadata": {},
     "output_type": "execute_result"
    }
   ],
   "source": [
    "df_X_test_v3_unencoded"
   ]
  },
  {
   "cell_type": "code",
   "execution_count": 73,
   "metadata": {},
   "outputs": [],
   "source": [
    "df_X_test_v3_unencoded['prediction'] = y_test_v3_pred_decoded"
   ]
  },
  {
   "cell_type": "code",
   "execution_count": 74,
   "metadata": {},
   "outputs": [
    {
     "data": {
      "text/html": [
       "<div>\n",
       "<style scoped>\n",
       "    .dataframe tbody tr th:only-of-type {\n",
       "        vertical-align: middle;\n",
       "    }\n",
       "\n",
       "    .dataframe tbody tr th {\n",
       "        vertical-align: top;\n",
       "    }\n",
       "\n",
       "    .dataframe thead th {\n",
       "        text-align: right;\n",
       "    }\n",
       "</style>\n",
       "<table border=\"1\" class=\"dataframe\">\n",
       "  <thead>\n",
       "    <tr style=\"text-align: right;\">\n",
       "      <th></th>\n",
       "      <th>brewery_name</th>\n",
       "      <th>review_aroma</th>\n",
       "      <th>review_appearance</th>\n",
       "      <th>review_palate</th>\n",
       "      <th>review_taste</th>\n",
       "      <th>beer_abv</th>\n",
       "      <th>prediction</th>\n",
       "    </tr>\n",
       "  </thead>\n",
       "  <tbody>\n",
       "    <tr>\n",
       "      <th>372797</th>\n",
       "      <td>Unibroue</td>\n",
       "      <td>4.0</td>\n",
       "      <td>5.0</td>\n",
       "      <td>4.0</td>\n",
       "      <td>4.5</td>\n",
       "      <td>9.0</td>\n",
       "      <td>Tripel</td>\n",
       "    </tr>\n",
       "    <tr>\n",
       "      <th>942896</th>\n",
       "      <td>Bell's Brewery, Inc.</td>\n",
       "      <td>4.0</td>\n",
       "      <td>4.5</td>\n",
       "      <td>5.0</td>\n",
       "      <td>4.0</td>\n",
       "      <td>10.5</td>\n",
       "      <td>American Double / Imperial IPA</td>\n",
       "    </tr>\n",
       "    <tr>\n",
       "      <th>1152395</th>\n",
       "      <td>Arcadia Brewing Company</td>\n",
       "      <td>3.5</td>\n",
       "      <td>3.5</td>\n",
       "      <td>3.0</td>\n",
       "      <td>4.5</td>\n",
       "      <td>5.8</td>\n",
       "      <td>American Pale Wheat Ale</td>\n",
       "    </tr>\n",
       "    <tr>\n",
       "      <th>410631</th>\n",
       "      <td>Tröegs Brewing Company</td>\n",
       "      <td>4.5</td>\n",
       "      <td>4.0</td>\n",
       "      <td>4.5</td>\n",
       "      <td>4.5</td>\n",
       "      <td>7.5</td>\n",
       "      <td>American Amber / Red Ale</td>\n",
       "    </tr>\n",
       "    <tr>\n",
       "      <th>699913</th>\n",
       "      <td>Boulder Beer / Wilderness Pub</td>\n",
       "      <td>3.5</td>\n",
       "      <td>4.0</td>\n",
       "      <td>3.0</td>\n",
       "      <td>2.5</td>\n",
       "      <td>5.94</td>\n",
       "      <td>American IPA</td>\n",
       "    </tr>\n",
       "    <tr>\n",
       "      <th>...</th>\n",
       "      <td>...</td>\n",
       "      <td>...</td>\n",
       "      <td>...</td>\n",
       "      <td>...</td>\n",
       "      <td>...</td>\n",
       "      <td>...</td>\n",
       "      <td>...</td>\n",
       "    </tr>\n",
       "    <tr>\n",
       "      <th>1126739</th>\n",
       "      <td>Miller Brewing Co.</td>\n",
       "      <td>2.0</td>\n",
       "      <td>2.0</td>\n",
       "      <td>3.0</td>\n",
       "      <td>1.5</td>\n",
       "      <td>4.66</td>\n",
       "      <td>American Adjunct Lager</td>\n",
       "    </tr>\n",
       "    <tr>\n",
       "      <th>101744</th>\n",
       "      <td>Hale's Ales Brewery &amp; Pub</td>\n",
       "      <td>4.0</td>\n",
       "      <td>4.0</td>\n",
       "      <td>4.0</td>\n",
       "      <td>4.0</td>\n",
       "      <td>NaN</td>\n",
       "      <td>American IPA</td>\n",
       "    </tr>\n",
       "    <tr>\n",
       "      <th>690490</th>\n",
       "      <td>Bayerische Staatsbrauerei Weihenstephan</td>\n",
       "      <td>4.0</td>\n",
       "      <td>4.0</td>\n",
       "      <td>4.0</td>\n",
       "      <td>4.5</td>\n",
       "      <td>7.4</td>\n",
       "      <td>American IPA</td>\n",
       "    </tr>\n",
       "    <tr>\n",
       "      <th>554111</th>\n",
       "      <td>Summit Brewing Company</td>\n",
       "      <td>3.5</td>\n",
       "      <td>3.5</td>\n",
       "      <td>4.0</td>\n",
       "      <td>3.5</td>\n",
       "      <td>7.0</td>\n",
       "      <td>American IPA</td>\n",
       "    </tr>\n",
       "    <tr>\n",
       "      <th>368888</th>\n",
       "      <td>Unibroue</td>\n",
       "      <td>4.0</td>\n",
       "      <td>3.5</td>\n",
       "      <td>4.0</td>\n",
       "      <td>4.0</td>\n",
       "      <td>9.0</td>\n",
       "      <td>Tripel</td>\n",
       "    </tr>\n",
       "  </tbody>\n",
       "</table>\n",
       "<p>317323 rows × 7 columns</p>\n",
       "</div>"
      ],
      "text/plain": [
       "                                    brewery_name review_aroma  \\\n",
       "372797                                  Unibroue          4.0   \n",
       "942896                      Bell's Brewery, Inc.          4.0   \n",
       "1152395                  Arcadia Brewing Company          3.5   \n",
       "410631                    Tröegs Brewing Company          4.5   \n",
       "699913             Boulder Beer / Wilderness Pub          3.5   \n",
       "...                                          ...          ...   \n",
       "1126739                       Miller Brewing Co.          2.0   \n",
       "101744                 Hale's Ales Brewery & Pub          4.0   \n",
       "690490   Bayerische Staatsbrauerei Weihenstephan          4.0   \n",
       "554111                    Summit Brewing Company          3.5   \n",
       "368888                                  Unibroue          4.0   \n",
       "\n",
       "        review_appearance review_palate review_taste beer_abv  \\\n",
       "372797                5.0           4.0          4.5      9.0   \n",
       "942896                4.5           5.0          4.0     10.5   \n",
       "1152395               3.5           3.0          4.5      5.8   \n",
       "410631                4.0           4.5          4.5      7.5   \n",
       "699913                4.0           3.0          2.5     5.94   \n",
       "...                   ...           ...          ...      ...   \n",
       "1126739               2.0           3.0          1.5     4.66   \n",
       "101744                4.0           4.0          4.0      NaN   \n",
       "690490                4.0           4.0          4.5      7.4   \n",
       "554111                3.5           4.0          3.5      7.0   \n",
       "368888                3.5           4.0          4.0      9.0   \n",
       "\n",
       "                             prediction  \n",
       "372797                           Tripel  \n",
       "942896   American Double / Imperial IPA  \n",
       "1152395         American Pale Wheat Ale  \n",
       "410631         American Amber / Red Ale  \n",
       "699913                     American IPA  \n",
       "...                                 ...  \n",
       "1126739          American Adjunct Lager  \n",
       "101744                     American IPA  \n",
       "690490                     American IPA  \n",
       "554111                     American IPA  \n",
       "368888                           Tripel  \n",
       "\n",
       "[317323 rows x 7 columns]"
      ]
     },
     "execution_count": 74,
     "metadata": {},
     "output_type": "execute_result"
    }
   ],
   "source": [
    "df_X_test_v3_unencoded"
   ]
  },
  {
   "cell_type": "code",
   "execution_count": 76,
   "metadata": {},
   "outputs": [],
   "source": [
    "df_X_test_v3_unencoded.to_csv(external_folder_path+'df_X_test_v3_output.csv', index=True)"
   ]
  }
 ],
 "metadata": {
  "kernelspec": {
   "display_name": "Python 3",
   "language": "python",
   "name": "python3"
  },
  "language_info": {
   "codemirror_mode": {
    "name": "ipython",
    "version": 3
   },
   "file_extension": ".py",
   "mimetype": "text/x-python",
   "name": "python",
   "nbconvert_exporter": "python",
   "pygments_lexer": "ipython3",
   "version": "3.8.10"
  },
  "orig_nbformat": 4
 },
 "nbformat": 4,
 "nbformat_minor": 2
}
