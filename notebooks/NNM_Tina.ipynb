{
 "cells": [
  {
   "cell_type": "code",
   "execution_count": 1,
   "metadata": {},
   "outputs": [],
   "source": [
    "%load_ext autoreload\n",
    "%autoreload 2"
   ]
  },
  {
   "attachments": {},
   "cell_type": "markdown",
   "metadata": {},
   "source": [
    "# set up env"
   ]
  },
  {
   "cell_type": "code",
   "execution_count": 2,
   "metadata": {},
   "outputs": [
    {
     "name": "stdout",
     "output_type": "stream",
     "text": [
      "Current workpath: /home/tina4aiml/dev/notebooks\n",
      "Parent_folder: /home/tina4aiml/dev\n",
      "/home/tina4aiml/dev/src\n"
     ]
    }
   ],
   "source": [
    "# for Tina machine only, to import .py from src/ds/\n",
    "import os\n",
    "current_workpath = os.getcwd()\n",
    "print(\"Current workpath:\", current_workpath)\n",
    "\n",
    "parent_folder = os.path.dirname(current_workpath)\n",
    "print(\"Parent_folder:\", parent_folder)\n",
    "\n",
    "import sys\n",
    "sys.path.append(parent_folder+'/src')\n",
    "print(sys.path[-1])"
   ]
  },
  {
   "cell_type": "code",
   "execution_count": 3,
   "metadata": {},
   "outputs": [],
   "source": [
    "rawfile_name = 'beer_reviews'\n",
    "rawfile_format = '.csv'\n",
    "rawfile_path = \"../data/raw/\"\n",
    "datadict_path = \"../references/Data_Dict.csv\"\n",
    "\n",
    "interim_folder_path = \"../data/interim/\"\n",
    "processed_folder_path  =\"../data/processed/\"\n",
    "model_folder_path = \"../models/\""
   ]
  },
  {
   "attachments": {},
   "cell_type": "markdown",
   "metadata": {},
   "source": [
    "# import split datasets"
   ]
  },
  {
   "cell_type": "code",
   "execution_count": 4,
   "metadata": {},
   "outputs": [],
   "source": [
    "from ds.data.sets import load_sets_v2"
   ]
  },
  {
   "cell_type": "code",
   "execution_count": 5,
   "metadata": {},
   "outputs": [],
   "source": [
    "X_train_v2, y_train_v2, X_val_v2, y_val_v2, X_test_v2, y_test_v2 = load_sets_v2(path='../data/processed/', suffix='_v2')"
   ]
  },
  {
   "cell_type": "code",
   "execution_count": 6,
   "metadata": {},
   "outputs": [
    {
     "name": "stdout",
     "output_type": "stream",
     "text": [
      "X_train_v2 shape: (951968, 6)\n",
      "y_train_v2 shape: (951968,)\n",
      "X_val_v2 shape: (317323, 6)\n",
      "y_val_v2 shape: (317323,)\n",
      "X_test_v2 shape: (317323, 6)\n",
      "y_test_v2 shape: (317323,)\n"
     ]
    }
   ],
   "source": [
    "# Check if the datasets were loaded successfully\n",
    "if X_train_v2 is not None:\n",
    "    print(\"X_train_v2 shape:\", X_train_v2.shape) # (951968, 6)\n",
    "else:\n",
    "    print(\"X_train_v2 file not found\")\n",
    "\n",
    "if y_train_v2 is not None:\n",
    "    print(\"y_train_v2 shape:\", y_train_v2.shape) #(951968,)\n",
    "else:\n",
    "    print(\"y_train_v2 file not found\") \n",
    "\n",
    "if X_val_v2 is not None:\n",
    "    print(\"X_val_v2 shape:\", X_val_v2.shape) # (317323, 6)\n",
    "else:\n",
    "    print(\"X_val_v2 file not found\")\n",
    "\n",
    "if y_val_v2 is not None:\n",
    "    print(\"y_val_v2 shape:\", y_val_v2.shape) # (317323,)\n",
    "else:\n",
    "    print(\"y_val_v2 file not found\")\n",
    "\n",
    "if X_test_v2 is not None:\n",
    "    print(\"X_test_v2 shape:\", X_test_v2.shape) # (317323, 6)\n",
    "else:\n",
    "    print(\"X_test_v2 file not found\")\n",
    "\n",
    "if y_test_v2 is not None:\n",
    "    print(\"y_test_v2 shape:\", y_test_v2.shape) # (317323,)\n",
    "else:\n",
    "    print(\"y_test_v2 file not found\")"
   ]
  },
  {
   "cell_type": "code",
   "execution_count": 7,
   "metadata": {},
   "outputs": [],
   "source": [
    "import pandas as pd\n",
    "import numpy as np"
   ]
  },
  {
   "cell_type": "code",
   "execution_count": 8,
   "metadata": {},
   "outputs": [
    {
     "data": {
      "text/plain": [
       "['brewery_name',\n",
       " 'review_aroma',\n",
       " 'review_appearance',\n",
       " 'review_palate',\n",
       " 'review_taste',\n",
       " 'beer_abv']"
      ]
     },
     "execution_count": 8,
     "metadata": {},
     "output_type": "execute_result"
    }
   ],
   "source": [
    "data_dict = pd.read_csv(datadict_path)\n",
    "features_label = data_dict.loc[data_dict['API Expected Parameter'] == 'Yes', 'Column'].tolist()\n",
    "features_label"
   ]
  },
  {
   "cell_type": "code",
   "execution_count": 9,
   "metadata": {},
   "outputs": [],
   "source": [
    "np.save(processed_folder_path + \"/features_label.npy\", features_label)"
   ]
  },
  {
   "cell_type": "code",
   "execution_count": 10,
   "metadata": {},
   "outputs": [
    {
     "data": {
      "text/plain": [
       "6"
      ]
     },
     "execution_count": 10,
     "metadata": {},
     "output_type": "execute_result"
    }
   ],
   "source": [
    "features_label = np.load(processed_folder_path+'features_label.npy',allow_pickle=True)\n",
    "features_label_n = len(features_label)\n",
    "features_label_n "
   ]
  },
  {
   "cell_type": "code",
   "execution_count": 11,
   "metadata": {},
   "outputs": [
    {
     "data": {
      "text/plain": [
       "104"
      ]
     },
     "execution_count": 11,
     "metadata": {},
     "output_type": "execute_result"
    }
   ],
   "source": [
    "target_class = np.load(processed_folder_path+'beer_style.npy',allow_pickle=True)\n",
    "target_class_n = len(target_class)\n",
    "target_class_n "
   ]
  },
  {
   "attachments": {},
   "cell_type": "markdown",
   "metadata": {},
   "source": [
    "# Neural Network Architecture"
   ]
  },
  {
   "cell_type": "code",
   "execution_count": 12,
   "metadata": {},
   "outputs": [
    {
     "name": "stderr",
     "output_type": "stream",
     "text": [
      "2023-07-07 00:11:14.965898: I tensorflow/core/util/port.cc:110] oneDNN custom operations are on. You may see slightly different numerical results due to floating-point round-off errors from different computation orders. To turn them off, set the environment variable `TF_ENABLE_ONEDNN_OPTS=0`.\n",
      "2023-07-07 00:11:15.151922: I tensorflow/core/platform/cpu_feature_guard.cc:182] This TensorFlow binary is optimized to use available CPU instructions in performance-critical operations.\n",
      "To enable the following instructions: AVX2 AVX512F AVX512_VNNI FMA, in other operations, rebuild TensorFlow with the appropriate compiler flags.\n",
      "2023-07-07 00:11:17.661107: I tensorflow/compiler/xla/stream_executor/cuda/cuda_gpu_executor.cc:982] could not open file to read NUMA node: /sys/bus/pci/devices/0000:01:00.0/numa_node\n",
      "Your kernel may have been built without NUMA support.\n",
      "2023-07-07 00:11:17.703611: I tensorflow/compiler/xla/stream_executor/cuda/cuda_gpu_executor.cc:982] could not open file to read NUMA node: /sys/bus/pci/devices/0000:01:00.0/numa_node\n",
      "Your kernel may have been built without NUMA support.\n",
      "2023-07-07 00:11:17.704176: I tensorflow/compiler/xla/stream_executor/cuda/cuda_gpu_executor.cc:982] could not open file to read NUMA node: /sys/bus/pci/devices/0000:01:00.0/numa_node\n",
      "Your kernel may have been built without NUMA support.\n",
      "2023-07-07 00:11:17.719713: I tensorflow/compiler/xla/stream_executor/cuda/cuda_gpu_executor.cc:982] could not open file to read NUMA node: /sys/bus/pci/devices/0000:01:00.0/numa_node\n",
      "Your kernel may have been built without NUMA support.\n",
      "2023-07-07 00:11:17.719991: I tensorflow/compiler/xla/stream_executor/cuda/cuda_gpu_executor.cc:982] could not open file to read NUMA node: /sys/bus/pci/devices/0000:01:00.0/numa_node\n",
      "Your kernel may have been built without NUMA support.\n",
      "2023-07-07 00:11:17.720124: I tensorflow/compiler/xla/stream_executor/cuda/cuda_gpu_executor.cc:982] could not open file to read NUMA node: /sys/bus/pci/devices/0000:01:00.0/numa_node\n",
      "Your kernel may have been built without NUMA support.\n",
      "2023-07-07 00:11:20.645031: I tensorflow/compiler/xla/stream_executor/cuda/cuda_gpu_executor.cc:982] could not open file to read NUMA node: /sys/bus/pci/devices/0000:01:00.0/numa_node\n",
      "Your kernel may have been built without NUMA support.\n",
      "2023-07-07 00:11:20.645655: I tensorflow/compiler/xla/stream_executor/cuda/cuda_gpu_executor.cc:982] could not open file to read NUMA node: /sys/bus/pci/devices/0000:01:00.0/numa_node\n",
      "Your kernel may have been built without NUMA support.\n",
      "2023-07-07 00:11:20.645676: I tensorflow/core/common_runtime/gpu/gpu_device.cc:1722] Could not identify NUMA node of platform GPU id 0, defaulting to 0.  Your kernel may not have been built with NUMA support.\n",
      "2023-07-07 00:11:20.646256: I tensorflow/compiler/xla/stream_executor/cuda/cuda_gpu_executor.cc:982] could not open file to read NUMA node: /sys/bus/pci/devices/0000:01:00.0/numa_node\n",
      "Your kernel may have been built without NUMA support.\n",
      "2023-07-07 00:11:20.646402: I tensorflow/core/common_runtime/gpu/gpu_device.cc:1635] Created device /job:localhost/replica:0/task:0/device:GPU:0 with 3383 MB memory:  -> device: 0, name: NVIDIA GeForce RTX 3060 Laptop GPU, pci bus id: 0000:01:00.0, compute capability: 8.6\n"
     ]
    },
    {
     "name": "stdout",
     "output_type": "stream",
     "text": [
      "Epoch 1/10\n"
     ]
    },
    {
     "name": "stderr",
     "output_type": "stream",
     "text": [
      "2023-07-07 00:11:25.824960: I tensorflow/compiler/xla/stream_executor/cuda/cuda_blas.cc:637] TensorFloat-32 will be used for the matrix multiplication. This will only be logged once.\n",
      "2023-07-07 00:11:25.834312: I tensorflow/compiler/xla/service/service.cc:169] XLA service 0x7f110cc7d950 initialized for platform CUDA (this does not guarantee that XLA will be used). Devices:\n",
      "2023-07-07 00:11:25.834367: I tensorflow/compiler/xla/service/service.cc:177]   StreamExecutor device (0): NVIDIA GeForce RTX 3060 Laptop GPU, Compute Capability 8.6\n",
      "2023-07-07 00:11:25.847189: I tensorflow/compiler/mlir/tensorflow/utils/dump_mlir_util.cc:269] disabling MLIR crash reproducer, set env var `MLIR_CRASH_REPRODUCER_DIRECTORY` to enable.\n",
      "2023-07-07 00:11:26.097993: I tensorflow/compiler/xla/stream_executor/cuda/cuda_dnn.cc:424] Loaded cuDNN version 8600\n",
      "2023-07-07 00:11:26.302165: I ./tensorflow/compiler/jit/device_compiler.h:180] Compiled cluster using XLA!  This line is logged at most once for the lifetime of the process.\n"
     ]
    },
    {
     "name": "stdout",
     "output_type": "stream",
     "text": [
      "29749/29749 [==============================] - 138s 4ms/step - loss: 3.3165 - accuracy: 0.1848 - val_loss: 3.2220 - val_accuracy: 0.1944\n",
      "Epoch 2/10\n",
      "29749/29749 [==============================] - 141s 5ms/step - loss: 3.1847 - accuracy: 0.2026 - val_loss: 3.1498 - val_accuracy: 0.2101\n",
      "Epoch 3/10\n",
      "29749/29749 [==============================] - 132s 4ms/step - loss: 3.1288 - accuracy: 0.2142 - val_loss: 3.1055 - val_accuracy: 0.2211\n",
      "Epoch 4/10\n",
      "29749/29749 [==============================] - 127s 4ms/step - loss: 3.0883 - accuracy: 0.2242 - val_loss: 3.0800 - val_accuracy: 0.2266\n",
      "Epoch 5/10\n",
      "29749/29749 [==============================] - 131s 4ms/step - loss: 3.0579 - accuracy: 0.2318 - val_loss: 3.0450 - val_accuracy: 0.2360\n",
      "Epoch 6/10\n",
      "29749/29749 [==============================] - 146s 5ms/step - loss: 3.0342 - accuracy: 0.2372 - val_loss: 3.0269 - val_accuracy: 0.2398\n",
      "Epoch 7/10\n",
      "29749/29749 [==============================] - 132s 4ms/step - loss: 3.0146 - accuracy: 0.2430 - val_loss: 3.0137 - val_accuracy: 0.2427\n",
      "Epoch 8/10\n",
      "29749/29749 [==============================] - 141s 5ms/step - loss: 2.9983 - accuracy: 0.2476 - val_loss: 3.0037 - val_accuracy: 0.2454\n",
      "Epoch 9/10\n",
      "29749/29749 [==============================] - 139s 5ms/step - loss: 2.9839 - accuracy: 0.2523 - val_loss: 2.9788 - val_accuracy: 0.2496\n",
      "Epoch 10/10\n",
      "29749/29749 [==============================] - 145s 5ms/step - loss: 2.9709 - accuracy: 0.2562 - val_loss: 2.9673 - val_accuracy: 0.2593\n"
     ]
    }
   ],
   "source": [
    "import tensorflow as tf\n",
    "\n",
    "tf.keras.utils.set_random_seed(1)\n",
    "\n",
    "input_shape = (features_label_n,)\n",
    "num_classes = target_class_n\n",
    "\n",
    "model = tf.keras.models.Sequential([\n",
    "    tf.keras.layers.Dense(64, activation='relu', input_shape=input_shape),\n",
    "    tf.keras.layers.Dense(32, activation='relu'),\n",
    "    tf.keras.layers.Dense(num_classes, activation='softmax')\n",
    "])\n",
    "\n",
    "model.compile(optimizer='adam', loss='sparse_categorical_crossentropy', metrics=['accuracy'])\n",
    "history = model.fit(X_train_v2, y_train_v2, epochs=10, batch_size=32, validation_data=(X_val_v2, y_val_v2))"
   ]
  },
  {
   "cell_type": "code",
   "execution_count": 13,
   "metadata": {},
   "outputs": [],
   "source": [
    "# Save the model history to a file\n",
    "import pickle\n",
    "with open('model_history.pkl', 'wb') as f:\n",
    "    pickle.dump(history.history, f)"
   ]
  },
  {
   "cell_type": "code",
   "execution_count": 14,
   "metadata": {},
   "outputs": [
    {
     "data": {
      "text/plain": [
       "['../models/NNM_Tina_v1.joblib']"
      ]
     },
     "execution_count": 14,
     "metadata": {},
     "output_type": "execute_result"
    }
   ],
   "source": [
    "from joblib import dump\n",
    "\n",
    "dump(model, model_folder_path + 'NNM_Tina_v1.joblib')"
   ]
  },
  {
   "cell_type": "code",
   "execution_count": 15,
   "metadata": {},
   "outputs": [
    {
     "name": "stdout",
     "output_type": "stream",
     "text": [
      "29749/29749 [==============================] - 37s 1ms/step\n"
     ]
    }
   ],
   "source": [
    "y_train_v2_pred_probs = model.predict(X_train_v2)\n",
    "y_train_v2_pred = y_train_v2_pred_probs.argmax(axis=1)"
   ]
  },
  {
   "cell_type": "code",
   "execution_count": 16,
   "metadata": {},
   "outputs": [
    {
     "data": {
      "text/plain": [
       "(951968,)"
      ]
     },
     "execution_count": 16,
     "metadata": {},
     "output_type": "execute_result"
    }
   ],
   "source": [
    "y_train_v2_pred.shape"
   ]
  },
  {
   "cell_type": "code",
   "execution_count": 17,
   "metadata": {},
   "outputs": [
    {
     "data": {
      "text/plain": [
       "array([ 1,  9, 12, ..., 11, 39, 98])"
      ]
     },
     "execution_count": 17,
     "metadata": {},
     "output_type": "execute_result"
    }
   ],
   "source": [
    "y_train_v2_pred"
   ]
  },
  {
   "cell_type": "code",
   "execution_count": 18,
   "metadata": {},
   "outputs": [
    {
     "name": "stdout",
     "output_type": "stream",
     "text": [
      "Accuracy: 0.2599593683821305\n"
     ]
    }
   ],
   "source": [
    "from sklearn.metrics import accuracy_score\n",
    "\n",
    "accuracy = accuracy_score(y_train_v2, y_train_v2_pred)\n",
    "print(f\"Accuracy: {accuracy}\")"
   ]
  },
  {
   "cell_type": "code",
   "execution_count": null,
   "metadata": {},
   "outputs": [],
   "source": [
    "y_train_v2_pred_probs = model.predict(X_train_v2)\n",
    "y_train_v2_pred = y_train_v2_pred_probs.argmax(axis=1)"
   ]
  },
  {
   "cell_type": "code",
   "execution_count": 44,
   "metadata": {},
   "outputs": [
    {
     "name": "stdout",
     "output_type": "stream",
     "text": [
      "9917/9917 [==============================] - 14s 1ms/step\n"
     ]
    }
   ],
   "source": [
    "y_test_v2_pred_probs = model.predict(X_test_v2)\n",
    "y_test_v2_pred = y_test_v2_pred_probs.argmax(axis=1)"
   ]
  },
  {
   "cell_type": "code",
   "execution_count": 45,
   "metadata": {},
   "outputs": [
    {
     "name": "stdout",
     "output_type": "stream",
     "text": [
      "Accuracy: 0.2584086246505926\n"
     ]
    }
   ],
   "source": [
    "accuracy = accuracy_score(y_test_v2, y_test_v2_pred)\n",
    "print(f\"Accuracy: {accuracy}\")"
   ]
  },
  {
   "cell_type": "code",
   "execution_count": 19,
   "metadata": {},
   "outputs": [],
   "source": [
    "# baseline: Xgboost model is 0.29106304932198424\n",
    "# accuracy is low might becasue we hash the brewey_name in 10 groups. 'MemoryError' when try to hash all with HashingVectorizer() from sklearn.feature_extraction.text.\n",
    "\n",
    "# no validation defined 'brewery_name' bucket increase to 10, KNN nearby 5,in the model Test accuracy: 0.24678009748458862\n",
    "# with validation dataset in the model , 'brewery_name' bucket increase to 10, KNN nearby 5, test accuracy:0.24332934617996216\n",
    "# with validation ds defined, 'brewery_name' bucket increase to 1000, KNN nearby increase to 10, Accuracy: 0.2584086246505926"
   ]
  },
  {
   "cell_type": "code",
   "execution_count": null,
   "metadata": {},
   "outputs": [],
   "source": []
  },
  {
   "attachments": {},
   "cell_type": "markdown",
   "metadata": {},
   "source": [
    "# plot the performance"
   ]
  },
  {
   "cell_type": "code",
   "execution_count": 20,
   "metadata": {},
   "outputs": [
    {
     "data": {
      "image/png": "[encoded data removed]",
      "text/plain": [
       "<Figure size 640x480 with 1 Axes>"
      ]
     },
     "metadata": {},
     "output_type": "display_data"
    }
   ],
   "source": [
    "import matplotlib.pyplot as plt\n",
    "\n",
    "# Plot model evaluation\n",
    "plt.plot(history.history['loss'])\n",
    "plt.plot(history.history['accuracy'])\n",
    "plt.title('Model Evaluation')\n",
    "plt.xlabel('Epoch')\n",
    "plt.legend(['Loss', 'Accuracy'])\n",
    "plt.show()"
   ]
  },
  {
   "attachments": {},
   "cell_type": "markdown",
   "metadata": {},
   "source": [
    "# Explain the before and after"
   ]
  },
  {
   "cell_type": "code",
   "execution_count": 21,
   "metadata": {},
   "outputs": [],
   "source": [
    "from sklearn.metrics import accuracy_score\n",
    "from sklearn.inspection import permutation_importance"
   ]
  },
  {
   "cell_type": "code",
   "execution_count": 22,
   "metadata": {},
   "outputs": [
    {
     "name": "stdout",
     "output_type": "stream",
     "text": [
      "9917/9917 [==============================] - 12s 1ms/step\n"
     ]
    }
   ],
   "source": [
    "y_val_v2_pred_probs = model.predict(X_val_v2)\n",
    "y_val_v2_pred = y_val_v2_pred_probs.argmax(axis=1)"
   ]
  },
  {
   "cell_type": "code",
   "execution_count": 23,
   "metadata": {},
   "outputs": [
    {
     "data": {
      "text/plain": [
       "array([  1,   9, 103, ...,  44,   9, 100])"
      ]
     },
     "execution_count": 23,
     "metadata": {},
     "output_type": "execute_result"
    }
   ],
   "source": [
    "y_val_v2_pred"
   ]
  },
  {
   "cell_type": "code",
   "execution_count": 24,
   "metadata": {},
   "outputs": [
    {
     "data": {
      "text/plain": [
       "array([16, 60, 65, ..., 47,  9, 19])"
      ]
     },
     "execution_count": 24,
     "metadata": {},
     "output_type": "execute_result"
    }
   ],
   "source": [
    "y_val_v2"
   ]
  },
  {
   "cell_type": "code",
   "execution_count": 25,
   "metadata": {},
   "outputs": [],
   "source": [
    "performance = accuracy_score(y_val_v2, y_val_v2_pred)"
   ]
  },
  {
   "cell_type": "code",
   "execution_count": 26,
   "metadata": {},
   "outputs": [
    {
     "data": {
      "text/plain": [
       "0.2592910063247858"
      ]
     },
     "execution_count": 26,
     "metadata": {},
     "output_type": "execute_result"
    }
   ],
   "source": [
    "performance"
   ]
  },
  {
   "cell_type": "code",
   "execution_count": 28,
   "metadata": {},
   "outputs": [
    {
     "ename": "ValueError",
     "evalue": "y contains previously unseen labels: 16",
     "output_type": "error",
     "traceback": [
      "\u001b[0;31m---------------------------------------------------------------------------\u001b[0m",
      "\u001b[0;31mKeyError\u001b[0m                                  Traceback (most recent call last)",
      "File \u001b[0;32m~/.local/lib/python3.8/site-packages/sklearn/utils/_encode.py:225\u001b[0m, in \u001b[0;36m_encode\u001b[0;34m(values, uniques, check_unknown)\u001b[0m\n\u001b[1;32m    224\u001b[0m \u001b[39mtry\u001b[39;00m:\n\u001b[0;32m--> 225\u001b[0m     \u001b[39mreturn\u001b[39;00m _map_to_integer(values, uniques)\n\u001b[1;32m    226\u001b[0m \u001b[39mexcept\u001b[39;00m \u001b[39mKeyError\u001b[39;00m \u001b[39mas\u001b[39;00m e:\n",
      "File \u001b[0;32m~/.local/lib/python3.8/site-packages/sklearn/utils/_encode.py:165\u001b[0m, in \u001b[0;36m_map_to_integer\u001b[0;34m(values, uniques)\u001b[0m\n\u001b[1;32m    164\u001b[0m table \u001b[39m=\u001b[39m _nandict({val: i \u001b[39mfor\u001b[39;00m i, val \u001b[39min\u001b[39;00m \u001b[39menumerate\u001b[39m(uniques)})\n\u001b[0;32m--> 165\u001b[0m \u001b[39mreturn\u001b[39;00m np\u001b[39m.\u001b[39marray([table[v] \u001b[39mfor\u001b[39;00m v \u001b[39min\u001b[39;00m values])\n",
      "File \u001b[0;32m~/.local/lib/python3.8/site-packages/sklearn/utils/_encode.py:165\u001b[0m, in \u001b[0;36m<listcomp>\u001b[0;34m(.0)\u001b[0m\n\u001b[1;32m    164\u001b[0m table \u001b[39m=\u001b[39m _nandict({val: i \u001b[39mfor\u001b[39;00m i, val \u001b[39min\u001b[39;00m \u001b[39menumerate\u001b[39m(uniques)})\n\u001b[0;32m--> 165\u001b[0m \u001b[39mreturn\u001b[39;00m np\u001b[39m.\u001b[39marray([table[v] \u001b[39mfor\u001b[39;00m v \u001b[39min\u001b[39;00m values])\n",
      "File \u001b[0;32m~/.local/lib/python3.8/site-packages/sklearn/utils/_encode.py:159\u001b[0m, in \u001b[0;36m_nandict.__missing__\u001b[0;34m(self, key)\u001b[0m\n\u001b[1;32m    158\u001b[0m     \u001b[39mreturn\u001b[39;00m \u001b[39mself\u001b[39m\u001b[39m.\u001b[39mnan_value\n\u001b[0;32m--> 159\u001b[0m \u001b[39mraise\u001b[39;00m \u001b[39mKeyError\u001b[39;00m(key)\n",
      "\u001b[0;31mKeyError\u001b[0m: 16",
      "\nDuring handling of the above exception, another exception occurred:\n",
      "\u001b[0;31mValueError\u001b[0m                                Traceback (most recent call last)",
      "Cell \u001b[0;32mIn[28], line 7\u001b[0m\n\u001b[1;32m      4\u001b[0m \u001b[39m# Load the LabelEncoder object\u001b[39;00m\n\u001b[1;32m      5\u001b[0m label_encoder \u001b[39m=\u001b[39m load(model_folder_path\u001b[39m+\u001b[39m\u001b[39m'\u001b[39m\u001b[39mlabel_encoder.joblib\u001b[39m\u001b[39m'\u001b[39m)\n\u001b[0;32m----> 7\u001b[0m encoded_labels \u001b[39m=\u001b[39m label_encoder\u001b[39m.\u001b[39;49mtransform(y_val_v2)\n",
      "File \u001b[0;32m~/.local/lib/python3.8/site-packages/sklearn/utils/_set_output.py:140\u001b[0m, in \u001b[0;36m_wrap_method_output.<locals>.wrapped\u001b[0;34m(self, X, *args, **kwargs)\u001b[0m\n\u001b[1;32m    138\u001b[0m \u001b[39m@wraps\u001b[39m(f)\n\u001b[1;32m    139\u001b[0m \u001b[39mdef\u001b[39;00m \u001b[39mwrapped\u001b[39m(\u001b[39mself\u001b[39m, X, \u001b[39m*\u001b[39margs, \u001b[39m*\u001b[39m\u001b[39m*\u001b[39mkwargs):\n\u001b[0;32m--> 140\u001b[0m     data_to_wrap \u001b[39m=\u001b[39m f(\u001b[39mself\u001b[39;49m, X, \u001b[39m*\u001b[39;49margs, \u001b[39m*\u001b[39;49m\u001b[39m*\u001b[39;49mkwargs)\n\u001b[1;32m    141\u001b[0m     \u001b[39mif\u001b[39;00m \u001b[39misinstance\u001b[39m(data_to_wrap, \u001b[39mtuple\u001b[39m):\n\u001b[1;32m    142\u001b[0m         \u001b[39m# only wrap the first output for cross decomposition\u001b[39;00m\n\u001b[1;32m    143\u001b[0m         return_tuple \u001b[39m=\u001b[39m (\n\u001b[1;32m    144\u001b[0m             _wrap_data_with_container(method, data_to_wrap[\u001b[39m0\u001b[39m], X, \u001b[39mself\u001b[39m),\n\u001b[1;32m    145\u001b[0m             \u001b[39m*\u001b[39mdata_to_wrap[\u001b[39m1\u001b[39m:],\n\u001b[1;32m    146\u001b[0m         )\n",
      "File \u001b[0;32m~/.local/lib/python3.8/site-packages/sklearn/preprocessing/_label.py:137\u001b[0m, in \u001b[0;36mLabelEncoder.transform\u001b[0;34m(self, y)\u001b[0m\n\u001b[1;32m    134\u001b[0m \u001b[39mif\u001b[39;00m _num_samples(y) \u001b[39m==\u001b[39m \u001b[39m0\u001b[39m:\n\u001b[1;32m    135\u001b[0m     \u001b[39mreturn\u001b[39;00m np\u001b[39m.\u001b[39marray([])\n\u001b[0;32m--> 137\u001b[0m \u001b[39mreturn\u001b[39;00m _encode(y, uniques\u001b[39m=\u001b[39;49m\u001b[39mself\u001b[39;49m\u001b[39m.\u001b[39;49mclasses_)\n",
      "File \u001b[0;32m~/.local/lib/python3.8/site-packages/sklearn/utils/_encode.py:227\u001b[0m, in \u001b[0;36m_encode\u001b[0;34m(values, uniques, check_unknown)\u001b[0m\n\u001b[1;32m    225\u001b[0m         \u001b[39mreturn\u001b[39;00m _map_to_integer(values, uniques)\n\u001b[1;32m    226\u001b[0m     \u001b[39mexcept\u001b[39;00m \u001b[39mKeyError\u001b[39;00m \u001b[39mas\u001b[39;00m e:\n\u001b[0;32m--> 227\u001b[0m         \u001b[39mraise\u001b[39;00m \u001b[39mValueError\u001b[39;00m(\u001b[39mf\u001b[39m\u001b[39m\"\u001b[39m\u001b[39my contains previously unseen labels: \u001b[39m\u001b[39m{\u001b[39;00m\u001b[39mstr\u001b[39m(e)\u001b[39m}\u001b[39;00m\u001b[39m\"\u001b[39m)\n\u001b[1;32m    228\u001b[0m \u001b[39melse\u001b[39;00m:\n\u001b[1;32m    229\u001b[0m     \u001b[39mif\u001b[39;00m check_unknown:\n",
      "\u001b[0;31mValueError\u001b[0m: y contains previously unseen labels: 16"
     ]
    }
   ],
   "source": [
    "from sklearn.preprocessing import LabelEncoder\n",
    "from joblib import load\n",
    "\n",
    "# Load the LabelEncoder object\n",
    "label_encoder = load(model_folder_path+'label_encoder.joblib')\n",
    "\n",
    "encoded_labels = label_encoder.transform(y_val_v2)"
   ]
  },
  {
   "cell_type": "code",
   "execution_count": 36,
   "metadata": {},
   "outputs": [],
   "source": [
    "y_val_v2_pred_uni = np.unique(y_val_v2_pred, axis=None)"
   ]
  },
  {
   "cell_type": "code",
   "execution_count": 37,
   "metadata": {},
   "outputs": [],
   "source": [
    "y_val_v2_uni = np.unique(y_val_v2, axis=None)"
   ]
  },
  {
   "cell_type": "code",
   "execution_count": 40,
   "metadata": {},
   "outputs": [
    {
     "name": "stdout",
     "output_type": "stream",
     "text": [
      "0 from y_val_v2_uni\n",
      "6 from y_val_v2_uni\n",
      "8 from y_val_v2_uni\n",
      "23 from y_val_v2_uni\n",
      "29 from y_val_v2_uni\n",
      "32 from y_val_v2_uni\n",
      "38 from y_val_v2_uni\n",
      "46 from y_val_v2_uni\n",
      "48 from y_val_v2_uni\n",
      "50 from y_val_v2_uni\n",
      "51 from y_val_v2_uni\n",
      "52 from y_val_v2_uni\n",
      "56 from y_val_v2_uni\n",
      "57 from y_val_v2_uni\n",
      "64 from y_val_v2_uni\n",
      "68 from y_val_v2_uni\n",
      "70 from y_val_v2_uni\n",
      "71 from y_val_v2_uni\n",
      "88 from y_val_v2_uni\n",
      "91 from y_val_v2_uni\n",
      "95 from y_val_v2_uni\n",
      "97 from y_val_v2_uni\n"
     ]
    }
   ],
   "source": [
    "difference = np.setdiff1d(y_val_v2_uni, y_val_v2_pred_uni)\n",
    "\n",
    "# Check which elements in difference are present in y_val_v2_uni\n",
    "in_y_val_v2_uni = np.in1d(difference, y_val_v2_uni)\n",
    "\n",
    "# Check which elements in difference are present in y_val_v2_pred_uni\n",
    "in_y_val_v2_pred_uni = np.in1d(difference, y_val_v2_pred_uni)\n",
    "\n",
    "# Print the elements and their source\n",
    "for i, val in enumerate(difference):\n",
    "    if in_y_val_v2_uni[i]:\n",
    "        print(val, \"from y_val_v2_uni\")\n",
    "    elif in_y_val_v2_pred_uni[i]:\n",
    "        print(val, \"from y_val_v2_pred_uni\")"
   ]
  },
  {
   "cell_type": "code",
   "execution_count": 41,
   "metadata": {},
   "outputs": [],
   "source": [
    "#original_target_encoded = df_prep_imputed['beer_style'].unique()\n",
    "original_target_encoded = [ 65,  51,  59,  61,   9,  66,  76,  83,  15,  87,  14,  17,  25,\n",
    "        12,  18,  89,   2,  19,  82,   1,   6,  53,  44,  94,  60,  11,\n",
    "        24,  43,  49,  67,   4,  26,  37,  78,  85,  38,  54,  52,  77,\n",
    "       100,  55,  31,  46,   0,  73,  80,  90,  16,  79,  93,  99,   3,\n",
    "        95, 103,   5,  92,  42,  45,  33,  36,  47,  23,  98,  57,   7,\n",
    "       102,  97,  39,  58,  40,  88,  70,  22,  29,  69,  30,  68,  34,\n",
    "        50,  35,  20,  10,  96, 101,   8,  13,  21,  81,  71,  48,  74,\n",
    "        84,  86,  32,  75,  41,  27,  72,  56,  63,  62,  64,  91,  28]"
   ]
  },
  {
   "cell_type": "code",
   "execution_count": 43,
   "metadata": {},
   "outputs": [
    {
     "name": "stdout",
     "output_type": "stream",
     "text": [
      "No difference between y_val_v2_uni and original_target_encoded\n"
     ]
    }
   ],
   "source": [
    "# Calculate the difference\n",
    "difference = np.setdiff1d(y_val_v2_uni, original_target_encoded)\n",
    "\n",
    "# Check if there is any difference\n",
    "if difference.size == 0:\n",
    "    print(\"No difference between y_val_v2_uni and original_target_encoded\")\n",
    "else:\n",
    "    # Check which elements in difference are present in original_target_encoded\n",
    "    in_original_target_encoded_uni = np.in1d(difference, original_target_encoded)\n",
    "\n",
    "    # Check which elements in difference are present in y_val_v2_pred_uni\n",
    "    in_y_val_v2_pred_uni = np.in1d(difference, y_val_v2_pred_uni)\n",
    "\n",
    "    # Print the elements and their source\n",
    "    for i, val in enumerate(difference):\n",
    "        if in_original_target_encoded_uni[i]:\n",
    "            print(val, \"from original_target_encoded\")\n",
    "        elif in_y_val_v2_pred_uni[i]:\n",
    "            print(val, \"from y_val_v2_pred_uni\")"
   ]
  },
  {
   "attachments": {},
   "cell_type": "markdown",
   "metadata": {},
   "source": [
    "Issue:\n",
    "1) unable to convert the encoded label of the validation prediction back to text, as y contains previously unseen labels: 16, but all of them are from the validation dataset.\n",
    "1.2) check the label encorder, no difference"
   ]
  },
  {
   "cell_type": "code",
   "execution_count": null,
   "metadata": {},
   "outputs": [],
   "source": []
  },
  {
   "cell_type": "code",
   "execution_count": null,
   "metadata": {},
   "outputs": [],
   "source": []
  },
  {
   "cell_type": "code",
   "execution_count": null,
   "metadata": {},
   "outputs": [],
   "source": []
  },
  {
   "cell_type": "code",
   "execution_count": null,
   "metadata": {},
   "outputs": [],
   "source": [
    "df_val_v2_pred = pd.concat([X_val_v2, encoded_labels], axis=1)"
   ]
  },
  {
   "cell_type": "code",
   "execution_count": null,
   "metadata": {},
   "outputs": [],
   "source": [
    "from sklearn.inspection import permutation_importance\n",
    "\n",
    "result = permutation_importance(model, X_train_v2, y_train_v2, scoring='accuracy')\n",
    "importances = result.importances_mean"
   ]
  }
 ],
 "metadata": {
  "kernelspec": {
   "display_name": "Python 3",
   "language": "python",
   "name": "python3"
  },
  "language_info": {
   "codemirror_mode": {
    "name": "ipython",
    "version": 3
   },
   "file_extension": ".py",
   "mimetype": "text/x-python",
   "name": "python",
   "nbconvert_exporter": "python",
   "pygments_lexer": "ipython3",
   "version": "3.8.10"
  },
  "orig_nbformat": 4
 },
 "nbformat": 4,
 "nbformat_minor": 2
}
